{
 "cells": [
  {
   "cell_type": "code",
   "execution_count": 1,
   "metadata": {},
   "outputs": [],
   "source": [
    "%load_ext autoreload\n",
    "%autoreload 2"
   ]
  },
  {
   "cell_type": "code",
   "execution_count": 7,
   "metadata": {},
   "outputs": [],
   "source": [
    "import numpy as np\n",
    "from datasets import load_dataset\n",
    "from tqdm import tqdm\n",
    "from utils.edit_distance import compute_ngram_distance_damerau_levenshtein\n",
    "from utils.LCS import find_longest_common_substrings"
   ]
  },
  {
   "cell_type": "code",
   "execution_count": 18,
   "metadata": {},
   "outputs": [],
   "source": [
    "# file_path = '/mloscratch/homes/yixuan/PDM/inference/llama_1.5B_Goldfish_K_21_H_13_GBS_120_EPOCH_79/step=600-consumed=72000_rank0.jsonl'\n",
    "file_path = '/mloscratch/homes/yixuan/PDM/inference/llama_1.5B_Goldfish_K_21_H_13_GBS_120_EPOCH_79/step=5925-consumed=711000_rank0.jsonl'\n",
    "data = load_dataset('json', data_files=file_path, split='train')"
   ]
  },
  {
   "cell_type": "code",
   "execution_count": null,
   "metadata": {},
   "outputs": [],
   "source": [
    "def describe_array(arr):\n",
    "    \"\"\"\n",
    "    Get descriptive statistics for a numpy array.\n",
    "    Similar to pandas describe() but for numpy arrays.\n",
    "    \n",
    "    Parameters\n",
    "    ----------\n",
    "    arr : np.ndarray\n",
    "        Input array\n",
    "        \n",
    "    Returns\n",
    "    -------\n",
    "    dict\n",
    "        Dictionary containing statistics\n",
    "    \"\"\"\n",
    "    stats = {\n",
    "        'count': len(arr),\n",
    "        'mean': np.mean(arr),\n",
    "        'std': np.std(arr),\n",
    "        'min': np.min(arr),\n",
    "        '25%': np.percentile(arr, 25),\n",
    "        '50%': np.median(arr),\n",
    "        '75%': np.percentile(arr, 75),\n",
    "        'max': np.max(arr)\n",
    "    }\n",
    "    \n",
    "    # Print in a format similar to pandas describe()\n",
    "    print(\"Statistical Description:\")\n",
    "    print(f\"count    {stats['count']}\")\n",
    "    print(f\"mean     {stats['mean']:.2f}\")\n",
    "    print(f\"std      {stats['std']:.2f}\")\n",
    "    print(f\"min      {stats['min']}\")\n",
    "    print(f\"25%      {stats['25%']:.2f}\")\n",
    "    print(f\"50%      {stats['50%']:.2f}\")\n",
    "    print(f\"75%      {stats['75%']:.2f}\")\n",
    "    print(f\"max      {stats['max']}\")"
   ]
  },
  {
   "cell_type": "code",
   "execution_count": 19,
   "metadata": {},
   "outputs": [
    {
     "name": "stdout",
     "output_type": "stream",
     "text": [
      "Converting data to numpy arrays...\n",
      "Creating sliding windows...\n",
      "Input shapes: ref_ngrams=(10000, 488, 13), pred_ngrams=(10000, 488, 13)\n",
      "Warming up Numba JIT...\n",
      "Computing distances...\n",
      "Time taken: 0.50 seconds\n",
      "Output shapes: distances=(10000, 488), normalized=(10000, 488)\n"
     ]
    }
   ],
   "source": [
    "distances, normalized = compute_ngram_distance_damerau_levenshtein(data, N=13)"
   ]
  },
  {
   "cell_type": "code",
   "execution_count": 53,
   "metadata": {},
   "outputs": [
    {
     "data": {
      "text/plain": [
       "(10000, 488)"
      ]
     },
     "execution_count": 53,
     "metadata": {},
     "output_type": "execute_result"
    }
   ],
   "source": [
    "distances.shape"
   ]
  },
  {
   "cell_type": "code",
   "execution_count": 63,
   "metadata": {},
   "outputs": [
    {
     "name": "stdout",
     "output_type": "stream",
     "text": [
      "Statistical Description:\n",
      "count    9000\n",
      "mean     12.10\n",
      "std      0.90\n",
      "min      0.05327868852459016\n",
      "25%      11.83\n",
      "50%      12.39\n",
      "75%      12.70\n",
      "max      12.993852459016393\n"
     ]
    }
   ],
   "source": [
    "row_means = distances.mean(axis=1)\n",
    "describe_array(distances[:9000].mean(axis=1))"
   ]
  },
  {
   "cell_type": "code",
   "execution_count": 65,
   "metadata": {},
   "outputs": [],
   "source": [
    "k = 5\n",
    "top_k_indices = np.argsort(row_means)[:k]"
   ]
  },
  {
   "cell_type": "code",
   "execution_count": 66,
   "metadata": {},
   "outputs": [
    {
     "data": {
      "text/plain": [
       "array([8413,  546, 8412, 5460, 3078])"
      ]
     },
     "execution_count": 66,
     "metadata": {},
     "output_type": "execute_result"
    }
   ],
   "source": [
    "top_k_indices"
   ]
  },
  {
   "cell_type": "code",
   "execution_count": 69,
   "metadata": {},
   "outputs": [
    {
     "name": "stdout",
     "output_type": "stream",
     "text": [
      "Converting data to numpy arrays...\n",
      "Creating sliding windows...\n",
      "Input shapes: ref_ngrams=(10000, 496, 5), pred_ngrams=(10000, 496, 5)\n",
      "Warming up Numba JIT...\n",
      "Computing distances...\n",
      "Time taken: 0.32 seconds\n",
      "Output shapes: distances=(10000, 496), normalized=(10000, 496)\n"
     ]
    },
    {
     "data": {
      "text/plain": [
       "<Axes: >"
      ]
     },
     "execution_count": 69,
     "metadata": {},
     "output_type": "execute_result"
    },
    {
     "data": {
      "image/png": "[encoded data removed]",
      "text/plain": [
       "<Figure size 640x480 with 2 Axes>"
      ]
     },
     "metadata": {},
     "output_type": "display_data"
    }
   ],
   "source": [
    "distances, normalized = compute_ngram_distance_damerau_levenshtein(data, N=5)\n",
    "sns.heatmap(\n",
    "    distances[:10000], \n",
    "    cmap='YlOrRd',  # Use a colormap good for distances\n",
    "    xticklabels=False,  # Don't show x ticks for large matrices\n",
    "    yticklabels=False,  # Don't show y ticks for large matrices\n",
    "    cbar_kws={'label': 'Distance'})"
   ]
  },
  {
   "cell_type": "code",
   "execution_count": 21,
   "metadata": {},
   "outputs": [
    {
     "name": "stdout",
     "output_type": "stream",
     "text": [
      "Warming up Numba JIT...\n",
      "Processing 10000 sequence pairs in parallel...\n",
      "Time taken: 1.31 seconds\n"
     ]
    }
   ],
   "source": [
    "res_statistics = find_longest_common_substrings(data['true_suffix'], data['generated_suffix'])"
   ]
  },
  {
   "cell_type": "code",
   "execution_count": 10,
   "metadata": {},
   "outputs": [],
   "source": [
    "import matplotlib.pyplot as plt\n",
    "import seaborn as sns"
   ]
  },
  {
   "cell_type": "code",
   "execution_count": null,
   "metadata": {},
   "outputs": [
    {
     "data": {
      "text/html": [
       "<div>\n",
       "<style scoped>\n",
       "    .dataframe tbody tr th:only-of-type {\n",
       "        vertical-align: middle;\n",
       "    }\n",
       "\n",
       "    .dataframe tbody tr th {\n",
       "        vertical-align: top;\n",
       "    }\n",
       "\n",
       "    .dataframe thead th {\n",
       "        text-align: right;\n",
       "    }\n",
       "</style>\n",
       "<table border=\"1\" class=\"dataframe\">\n",
       "  <thead>\n",
       "    <tr style=\"text-align: right;\">\n",
       "      <th></th>\n",
       "      <th>max_length</th>\n",
       "      <th>start_pos1</th>\n",
       "      <th>end_pos1</th>\n",
       "      <th>start_pos2</th>\n",
       "      <th>end_pos2</th>\n",
       "    </tr>\n",
       "  </thead>\n",
       "  <tbody>\n",
       "    <tr>\n",
       "      <th>0</th>\n",
       "      <td>16</td>\n",
       "      <td>0</td>\n",
       "      <td>16</td>\n",
       "      <td>0</td>\n",
       "      <td>16</td>\n",
       "    </tr>\n",
       "    <tr>\n",
       "      <th>1</th>\n",
       "      <td>6</td>\n",
       "      <td>0</td>\n",
       "      <td>6</td>\n",
       "      <td>0</td>\n",
       "      <td>6</td>\n",
       "    </tr>\n",
       "    <tr>\n",
       "      <th>2</th>\n",
       "      <td>22</td>\n",
       "      <td>0</td>\n",
       "      <td>22</td>\n",
       "      <td>0</td>\n",
       "      <td>22</td>\n",
       "    </tr>\n",
       "    <tr>\n",
       "      <th>3</th>\n",
       "      <td>4</td>\n",
       "      <td>0</td>\n",
       "      <td>4</td>\n",
       "      <td>0</td>\n",
       "      <td>4</td>\n",
       "    </tr>\n",
       "    <tr>\n",
       "      <th>4</th>\n",
       "      <td>3</td>\n",
       "      <td>459</td>\n",
       "      <td>462</td>\n",
       "      <td>175</td>\n",
       "      <td>178</td>\n",
       "    </tr>\n",
       "    <tr>\n",
       "      <th>...</th>\n",
       "      <td>...</td>\n",
       "      <td>...</td>\n",
       "      <td>...</td>\n",
       "      <td>...</td>\n",
       "      <td>...</td>\n",
       "    </tr>\n",
       "    <tr>\n",
       "      <th>9995</th>\n",
       "      <td>4</td>\n",
       "      <td>235</td>\n",
       "      <td>239</td>\n",
       "      <td>177</td>\n",
       "      <td>181</td>\n",
       "    </tr>\n",
       "    <tr>\n",
       "      <th>9996</th>\n",
       "      <td>3</td>\n",
       "      <td>85</td>\n",
       "      <td>88</td>\n",
       "      <td>413</td>\n",
       "      <td>416</td>\n",
       "    </tr>\n",
       "    <tr>\n",
       "      <th>9997</th>\n",
       "      <td>5</td>\n",
       "      <td>157</td>\n",
       "      <td>162</td>\n",
       "      <td>129</td>\n",
       "      <td>134</td>\n",
       "    </tr>\n",
       "    <tr>\n",
       "      <th>9998</th>\n",
       "      <td>3</td>\n",
       "      <td>14</td>\n",
       "      <td>17</td>\n",
       "      <td>133</td>\n",
       "      <td>136</td>\n",
       "    </tr>\n",
       "    <tr>\n",
       "      <th>9999</th>\n",
       "      <td>3</td>\n",
       "      <td>129</td>\n",
       "      <td>132</td>\n",
       "      <td>111</td>\n",
       "      <td>114</td>\n",
       "    </tr>\n",
       "  </tbody>\n",
       "</table>\n",
       "<p>10000 rows × 5 columns</p>\n",
       "</div>"
      ],
      "text/plain": [
       "      max_length  start_pos1  end_pos1  start_pos2  end_pos2\n",
       "0             16           0        16           0        16\n",
       "1              6           0         6           0         6\n",
       "2             22           0        22           0        22\n",
       "3              4           0         4           0         4\n",
       "4              3         459       462         175       178\n",
       "...          ...         ...       ...         ...       ...\n",
       "9995           4         235       239         177       181\n",
       "9996           3          85        88         413       416\n",
       "9997           5         157       162         129       134\n",
       "9998           3          14        17         133       136\n",
       "9999           3         129       132         111       114\n",
       "\n",
       "[10000 rows x 5 columns]"
      ]
     },
     "execution_count": 41,
     "metadata": {},
     "output_type": "execute_result"
    }
   ],
   "source": [
    "res_statistics.filter(items=['length']).hist(bins=100)"
   ]
  },
  {
   "cell_type": "code",
   "execution_count": 52,
   "metadata": {},
   "outputs": [
    {
     "data": {
      "text/plain": [
       "<Axes: xlabel='max_length', ylabel='Count'>"
      ]
     },
     "execution_count": 52,
     "metadata": {},
     "output_type": "execute_result"
    },
    {
     "data": {
      "image/png": "[encoded data removed]",
      "text/plain": [
       "<Figure size 640x480 with 1 Axes>"
      ]
     },
     "metadata": {},
     "output_type": "display_data"
    }
   ],
   "source": [
    "sns.histplot(\n",
    "    data=res_statistics[res_statistics['max_length'] > 25],\n",
    "    x='max_length', \n",
    "    kde=True, \n",
    "    # log_scale=(True, True)\n",
    ")"
   ]
  }
 ],
 "metadata": {
  "kernelspec": {
   "display_name": "goldfish",
   "language": "python",
   "name": "goldfish"
  },
  "language_info": {
   "codemirror_mode": {
    "name": "ipython",
    "version": 3
   },
   "file_extension": ".py",
   "mimetype": "text/x-python",
   "name": "python",
   "nbconvert_exporter": "python",
   "pygments_lexer": "ipython3",
   "version": "3.10.15"
  }
 },
 "nbformat": 4,
 "nbformat_minor": 2
}
