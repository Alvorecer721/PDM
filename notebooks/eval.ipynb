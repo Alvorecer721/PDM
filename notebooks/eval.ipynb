{
 "cells": [
  {
   "cell_type": "code",
   "execution_count": 1,
   "metadata": {},
   "outputs": [],
   "source": [
    "%load_ext autoreload\n",
    "%autoreload 2"
   ]
  },
  {
   "cell_type": "code",
   "execution_count": 2,
   "metadata": {},
   "outputs": [],
   "source": [
    "import sys\n",
    "sys.path.append('/mloscratch/homes/yixuan/PDM')"
   ]
  },
  {
   "cell_type": "code",
   "execution_count": 3,
   "metadata": {},
   "outputs": [
    {
     "name": "stderr",
     "output_type": "stream",
     "text": [
      "/usr/local/lib/python3.10/dist-packages/tqdm/auto.py:21: TqdmWarning: IProgress not found. Please update jupyter and ipywidgets. See https://ipywidgets.readthedocs.io/en/stable/user_install.html\n",
      "  from .autonotebook import tqdm as notebook_tqdm\n"
     ]
    }
   ],
   "source": [
    "import numpy as np\n",
    "from datasets import load_dataset\n",
    "from tqdm import tqdm\n",
    "from utils.edit_distance import compute_ngram_distance_damerau_levenshtein\n",
    "from utils.LCS import find_longest_common_substrings\n",
    "from utils.comon_substring import CommonSubstringMatcher"
   ]
  },
  {
   "cell_type": "code",
   "execution_count": 4,
   "metadata": {},
   "outputs": [],
   "source": [
    "from pathlib import Path\n",
    "import matplotlib.pyplot as plt\n",
    "import numpy as np\n",
    "from datasets import load_dataset\n",
    "\n",
    "def get_checkpoints(expr_base_dir):\n",
    "    \"\"\"\n",
    "    Get sorted checkpoints from directory\n",
    "    \n",
    "    Parameters\n",
    "    ----------\n",
    "    expr_base_dir : str\n",
    "        Base directory containing checkpoints\n",
    "        \n",
    "    Returns\n",
    "    -------\n",
    "    list\n",
    "        Sorted list of (step, consumed) tuples\n",
    "    \"\"\"\n",
    "    return sorted([(int(f.name.split('=')[1].split('-')[0]), int(f.name.split('=')[2]))\n",
    "                  for f in Path(expr_base_dir).glob(\"step=*\")])\n",
    "\n",
    "def load_inference_data(base_dir, step, consumed):\n",
    "    \"\"\"\n",
    "    Load inference data from a given step and restore original data order.\n",
    "    DistributedSampler distributes data in round-robin fashion (e.g., GPU0: [0,8,16,...], GPU1: [1,9,17,...]).\n",
    "    This function loads data from all rank files and reorders it back to sequential order [0,1,2,...].\n",
    "    \n",
    "    Parameters\n",
    "    ----------\n",
    "    base_dir : str\n",
    "        Base directory path \n",
    "    step : int\n",
    "        Training step\n",
    "    consumed : int\n",
    "        Number of consumed tokens\n",
    "        \n",
    "    Returns\n",
    "    -------\n",
    "    Dataset\n",
    "        HuggingFace dataset with data restored to original sequential order\n",
    "    \"\"\"\n",
    "    file_path = Path(base_dir) / f\"step={step}-consumed={consumed}\"\n",
    "    rank_files = sorted(file_path.glob(\"rank*.jsonl\"))\n",
    "    world_size = len(rank_files)\n",
    "\n",
    "    # Load data from all ranks\n",
    "    dataset = load_dataset(\n",
    "        'json', \n",
    "        data_files=[str(f) for f in rank_files], \n",
    "        split='train'\n",
    "    )\n",
    "    \n",
    "    total_size = len(dataset)\n",
    "    items_per_rank = total_size // world_size\n",
    "\n",
    "    # Reorder to original sequential order\n",
    "    orig_indices = np.arange(total_size).reshape(world_size, items_per_rank).T.flatten()\n",
    "    \n",
    "    return dataset.select(orig_indices)"
   ]
  },
  {
   "cell_type": "code",
   "execution_count": 5,
   "metadata": {},
   "outputs": [],
   "source": [
    "def calc_avg_lcs_lengths(base_dir, model_ids):\n",
    "    \"\"\"\n",
    "    Calculate average LCS lengths for multiple models with data split into train/val/test\n",
    "    \n",
    "    Parameters\n",
    "    ----------\n",
    "    base_dir : str\n",
    "        Base directory containing all model results\n",
    "    model_ids : list\n",
    "        List of model identifiers to process\n",
    "        \n",
    "    Returns\n",
    "    -------\n",
    "    dict\n",
    "        Dictionary mapping model names to their results with split information\n",
    "    \"\"\"\n",
    "    results = {}\n",
    "    for model_id in model_ids:\n",
    "        expr_dir = f\"{base_dir}/{model_id}\"\n",
    "        ckpts = get_checkpoints(expr_dir)\n",
    "        \n",
    "        steps, avg_lengths = [], []\n",
    "        for step, consumed in tqdm(ckpts, desc=f\"Processing {model_id}\"):\n",
    "            data = load_inference_data(expr_dir, step, consumed)\n",
    "            \n",
    "            # Calculate split indices\n",
    "            n_total = len(data['true_suffix'])\n",
    "            n_train = int(n_total * 0.9)\n",
    "            n_val = int(n_total * 0.05)\n",
    "            \n",
    "            # Split data\n",
    "            splits = {\n",
    "                'train': {\n",
    "                    'true_suffix': data['true_suffix'][:n_train],\n",
    "                    'generated_suffix': data['generated_suffix'][:n_train]\n",
    "                },\n",
    "                'val': {\n",
    "                    'true_suffix': data['true_suffix'][n_train:n_train + n_val],\n",
    "                    'generated_suffix': data['generated_suffix'][n_train:n_train + n_val]\n",
    "                },\n",
    "                'test': {\n",
    "                    'true_suffix': data['true_suffix'][n_train + n_val:],\n",
    "                    'generated_suffix': data['generated_suffix'][n_train + n_val:]\n",
    "                }\n",
    "            }\n",
    "            \n",
    "            # Calculate LCS for each split\n",
    "            lcs_results = {}\n",
    "            for split_name, split_data in splits.items():\n",
    "                lcs_res = find_longest_common_substrings(\n",
    "                    split_data['true_suffix'], \n",
    "                    split_data['generated_suffix']\n",
    "                )\n",
    "                lcs_results[split_name] = lcs_res.max_length.mean()\n",
    "            \n",
    "            steps.append(step)\n",
    "            avg_lengths.append(lcs_results)\n",
    "            \n",
    "        # Reorganize results by split\n",
    "        split_results = {\n",
    "            'train': {'steps': steps, 'avg_lengths': [r['train'] for r in avg_lengths]},\n",
    "            'val': {'steps': steps, 'avg_lengths': [r['val'] for r in avg_lengths]},\n",
    "            'test': {'steps': steps, 'avg_lengths': [r['test'] for r in avg_lengths]}\n",
    "        }\n",
    "        \n",
    "        results[model_id] = split_results\n",
    "    \n",
    "    return results"
   ]
  },
  {
   "cell_type": "code",
   "execution_count": 8,
   "metadata": {},
   "outputs": [],
   "source": [
    "def plot_comparison(results, include_ckpts=None, include_splits=None, title=None, log_y=False):\n",
    "   \"\"\"\n",
    "   Plot comparison of models with train/val/test splits\n",
    "   \n",
    "   Parameters\n",
    "   ----------\n",
    "   results : dict\n",
    "       Dictionary containing results for each model and split\n",
    "   include_ckpts : list, optional\n",
    "       List of model IDs to include in plotting. If None, includes all models.\n",
    "   include_splits : list, optional\n",
    "       List of split names to include in plotting. If None, includes all splits.\n",
    "   title : str, optional\n",
    "       Custom title for the plot. If None, uses default title.\n",
    "   log_y : bool, optional\n",
    "       Whether to use log scale for y-axis\n",
    "       \n",
    "   Examples\n",
    "   --------\n",
    "   >>> # Plot all models and splits\n",
    "   >>> plot_comparison(results)\n",
    "   \n",
    "   >>> # Include only specific models and splits\n",
    "   >>> plot_comparison(results, \n",
    "   ...                include_ckpts=['llama_1.5B_Standard'],\n",
    "   ...                include_splits=['train', 'val'])\n",
    "   \n",
    "   >>> # Custom title and log scale\n",
    "   >>> plot_comparison(results,\n",
    "   ...                title='Model Comparison',\n",
    "   ...                log_y=True)\n",
    "   \"\"\"\n",
    "   plt.figure(figsize=(12, 6))\n",
    "   \n",
    "   # Line styles for different splits\n",
    "   all_styles = {\n",
    "       'train': '-',\n",
    "       'val': '--',\n",
    "       'test': ':'\n",
    "   }\n",
    "   \n",
    "   # Filter splits to include\n",
    "   styles = all_styles if include_splits is None else {\n",
    "       k: v for k, v in all_styles.items() if k in include_splits\n",
    "   }\n",
    "   \n",
    "   # Filter models and plot\n",
    "   models_to_plot = results.keys() if include_ckpts is None else include_ckpts\n",
    "   \n",
    "   for model_name in models_to_plot:\n",
    "       if model_name not in results:\n",
    "           continue\n",
    "           \n",
    "       model_results = results[model_name]\n",
    "       \n",
    "       # Plot each included split\n",
    "       for split_name, style in styles.items():\n",
    "           split_data = model_results[split_name]\n",
    "           \n",
    "           # Convert steps to epochs\n",
    "           epochs = [step/75 for step in split_data['steps']]\n",
    "           \n",
    "           plt.plot(epochs, split_data['avg_lengths'],\n",
    "                   linestyle=style,\n",
    "                   marker='o', \n",
    "                   label=f'{model_name} ({split_name})',\n",
    "                   alpha=0.7)\n",
    "   \n",
    "   plt.xlabel('Training Epochs')\n",
    "   plt.ylabel('Average Memorisation Length')\n",
    "   \n",
    "   # Use custom title if provided, otherwise use default\n",
    "   plot_title = title if title else 'Average Longest Verbatim Memorisation Length vs Training Epochs'\n",
    "   plt.title(plot_title)\n",
    "   \n",
    "   # Set y-axis to log scale if requested\n",
    "   if log_y:\n",
    "       plt.yscale('log')\n",
    "   \n",
    "   plt.legend(bbox_to_anchor=(1.05, 1), loc='upper left')\n",
    "   plt.grid(True)\n",
    "   plt.tight_layout()\n",
    "   \n",
    "   plt.show()"
   ]
  },
  {
   "cell_type": "code",
   "execution_count": 6,
   "metadata": {},
   "outputs": [
    {
     "name": "stderr",
     "output_type": "stream",
     "text": [
      "Processing llama_1.5B_Goldfish_K_5_H_13_GBS_120_EPOCH_93:   0%|          | 0/23 [00:00<?, ?it/s]"
     ]
    },
    {
     "name": "stdout",
     "output_type": "stream",
     "text": [
      "Warming up Numba JIT...\n",
      "Processing 9000 sequence pairs in parallel...\n"
     ]
    },
    {
     "name": "stderr",
     "output_type": "stream",
     "text": [
      "Processing llama_1.5B_Goldfish_K_5_H_13_GBS_120_EPOCH_93:   4%|▍         | 1/23 [00:18<06:48, 18.57s/it]"
     ]
    },
    {
     "name": "stdout",
     "output_type": "stream",
     "text": [
      "Time taken: 1.43 seconds\n",
      "Warming up Numba JIT...\n",
      "Processing 500 sequence pairs in parallel...\n",
      "Time taken: 0.07 seconds\n",
      "Warming up Numba JIT...\n",
      "Processing 500 sequence pairs in parallel...\n",
      "Time taken: 0.07 seconds\n",
      "Warming up Numba JIT...\n",
      "Processing 9000 sequence pairs in parallel...\n"
     ]
    },
    {
     "name": "stderr",
     "output_type": "stream",
     "text": [
      "Processing llama_1.5B_Goldfish_K_5_H_13_GBS_120_EPOCH_93:   9%|▊         | 2/23 [00:39<06:56, 19.85s/it]"
     ]
    },
    {
     "name": "stdout",
     "output_type": "stream",
     "text": [
      "Time taken: 1.42 seconds\n",
      "Warming up Numba JIT...\n",
      "Processing 500 sequence pairs in parallel...\n",
      "Time taken: 0.08 seconds\n",
      "Warming up Numba JIT...\n",
      "Processing 500 sequence pairs in parallel...\n",
      "Time taken: 0.08 seconds\n",
      "Warming up Numba JIT...\n",
      "Processing 9000 sequence pairs in parallel...\n"
     ]
    },
    {
     "name": "stderr",
     "output_type": "stream",
     "text": [
      "Processing llama_1.5B_Goldfish_K_5_H_13_GBS_120_EPOCH_93:  13%|█▎        | 3/23 [00:57<06:19, 18.97s/it]"
     ]
    },
    {
     "name": "stdout",
     "output_type": "stream",
     "text": [
      "Time taken: 1.41 seconds\n",
      "Warming up Numba JIT...\n",
      "Processing 500 sequence pairs in parallel...\n",
      "Time taken: 0.08 seconds\n",
      "Warming up Numba JIT...\n",
      "Processing 500 sequence pairs in parallel...\n",
      "Time taken: 0.08 seconds\n",
      "Warming up Numba JIT...\n",
      "Processing 9000 sequence pairs in parallel...\n"
     ]
    },
    {
     "name": "stderr",
     "output_type": "stream",
     "text": [
      "Processing llama_1.5B_Goldfish_K_5_H_13_GBS_120_EPOCH_93:  17%|█▋        | 4/23 [01:17<06:07, 19.34s/it]"
     ]
    },
    {
     "name": "stdout",
     "output_type": "stream",
     "text": [
      "Time taken: 1.44 seconds\n",
      "Warming up Numba JIT...\n",
      "Processing 500 sequence pairs in parallel...\n",
      "Time taken: 0.08 seconds\n",
      "Warming up Numba JIT...\n",
      "Processing 500 sequence pairs in parallel...\n",
      "Time taken: 0.08 seconds\n",
      "Warming up Numba JIT...\n",
      "Processing 9000 sequence pairs in parallel...\n"
     ]
    },
    {
     "name": "stderr",
     "output_type": "stream",
     "text": [
      "Processing llama_1.5B_Goldfish_K_5_H_13_GBS_120_EPOCH_93:  22%|██▏       | 5/23 [01:34<05:38, 18.80s/it]"
     ]
    },
    {
     "name": "stdout",
     "output_type": "stream",
     "text": [
      "Time taken: 1.43 seconds\n",
      "Warming up Numba JIT...\n",
      "Processing 500 sequence pairs in parallel...\n",
      "Time taken: 0.08 seconds\n",
      "Warming up Numba JIT...\n",
      "Processing 500 sequence pairs in parallel...\n",
      "Time taken: 0.08 seconds\n",
      "Warming up Numba JIT...\n",
      "Processing 9000 sequence pairs in parallel...\n"
     ]
    },
    {
     "name": "stderr",
     "output_type": "stream",
     "text": [
      "Processing llama_1.5B_Goldfish_K_5_H_13_GBS_120_EPOCH_93:  26%|██▌       | 6/23 [01:52<05:13, 18.46s/it]"
     ]
    },
    {
     "name": "stdout",
     "output_type": "stream",
     "text": [
      "Time taken: 1.43 seconds\n",
      "Warming up Numba JIT...\n",
      "Processing 500 sequence pairs in parallel...\n",
      "Time taken: 0.08 seconds\n",
      "Warming up Numba JIT...\n",
      "Processing 500 sequence pairs in parallel...\n",
      "Time taken: 0.08 seconds\n",
      "Warming up Numba JIT...\n",
      "Processing 9000 sequence pairs in parallel...\n"
     ]
    },
    {
     "name": "stderr",
     "output_type": "stream",
     "text": [
      "Processing llama_1.5B_Goldfish_K_5_H_13_GBS_120_EPOCH_93:  30%|███       | 7/23 [02:10<04:51, 18.23s/it]"
     ]
    },
    {
     "name": "stdout",
     "output_type": "stream",
     "text": [
      "Time taken: 1.43 seconds\n",
      "Warming up Numba JIT...\n",
      "Processing 500 sequence pairs in parallel...\n",
      "Time taken: 0.08 seconds\n",
      "Warming up Numba JIT...\n",
      "Processing 500 sequence pairs in parallel...\n",
      "Time taken: 0.08 seconds\n",
      "Warming up Numba JIT...\n",
      "Processing 9000 sequence pairs in parallel...\n"
     ]
    },
    {
     "name": "stderr",
     "output_type": "stream",
     "text": [
      "Processing llama_1.5B_Goldfish_K_5_H_13_GBS_120_EPOCH_93:  35%|███▍      | 8/23 [02:28<04:30, 18.06s/it]"
     ]
    },
    {
     "name": "stdout",
     "output_type": "stream",
     "text": [
      "Time taken: 1.41 seconds\n",
      "Warming up Numba JIT...\n",
      "Processing 500 sequence pairs in parallel...\n",
      "Time taken: 0.08 seconds\n",
      "Warming up Numba JIT...\n",
      "Processing 500 sequence pairs in parallel...\n",
      "Time taken: 0.08 seconds\n",
      "Warming up Numba JIT...\n",
      "Processing 9000 sequence pairs in parallel...\n"
     ]
    },
    {
     "name": "stderr",
     "output_type": "stream",
     "text": [
      "Processing llama_1.5B_Goldfish_K_5_H_13_GBS_120_EPOCH_93:  39%|███▉      | 9/23 [02:45<04:10, 17.92s/it]"
     ]
    },
    {
     "name": "stdout",
     "output_type": "stream",
     "text": [
      "Time taken: 1.53 seconds\n",
      "Warming up Numba JIT...\n",
      "Processing 500 sequence pairs in parallel...\n",
      "Time taken: 0.08 seconds\n",
      "Warming up Numba JIT...\n",
      "Processing 500 sequence pairs in parallel...\n",
      "Time taken: 0.08 seconds\n",
      "Warming up Numba JIT...\n",
      "Processing 9000 sequence pairs in parallel...\n"
     ]
    },
    {
     "name": "stderr",
     "output_type": "stream",
     "text": [
      "Processing llama_1.5B_Goldfish_K_5_H_13_GBS_120_EPOCH_93:  43%|████▎     | 10/23 [03:03<03:51, 17.81s/it]"
     ]
    },
    {
     "name": "stdout",
     "output_type": "stream",
     "text": [
      "Time taken: 1.42 seconds\n",
      "Warming up Numba JIT...\n",
      "Processing 500 sequence pairs in parallel...\n",
      "Time taken: 0.08 seconds\n",
      "Warming up Numba JIT...\n",
      "Processing 500 sequence pairs in parallel...\n",
      "Time taken: 0.08 seconds\n",
      "Warming up Numba JIT...\n",
      "Processing 9000 sequence pairs in parallel...\n"
     ]
    },
    {
     "name": "stderr",
     "output_type": "stream",
     "text": [
      "Processing llama_1.5B_Goldfish_K_5_H_13_GBS_120_EPOCH_93:  48%|████▊     | 11/23 [03:20<03:32, 17.70s/it]"
     ]
    },
    {
     "name": "stdout",
     "output_type": "stream",
     "text": [
      "Time taken: 1.43 seconds\n",
      "Warming up Numba JIT...\n",
      "Processing 500 sequence pairs in parallel...\n",
      "Time taken: 0.08 seconds\n",
      "Warming up Numba JIT...\n",
      "Processing 500 sequence pairs in parallel...\n",
      "Time taken: 0.08 seconds\n",
      "Warming up Numba JIT...\n",
      "Processing 9000 sequence pairs in parallel...\n"
     ]
    },
    {
     "name": "stderr",
     "output_type": "stream",
     "text": [
      "Processing llama_1.5B_Goldfish_K_5_H_13_GBS_120_EPOCH_93:  52%|█████▏    | 12/23 [03:38<03:15, 17.80s/it]"
     ]
    },
    {
     "name": "stdout",
     "output_type": "stream",
     "text": [
      "Time taken: 1.43 seconds\n",
      "Warming up Numba JIT...\n",
      "Processing 500 sequence pairs in parallel...\n",
      "Time taken: 0.08 seconds\n",
      "Warming up Numba JIT...\n",
      "Processing 500 sequence pairs in parallel...\n",
      "Time taken: 0.08 seconds\n",
      "Warming up Numba JIT...\n",
      "Processing 9000 sequence pairs in parallel...\n"
     ]
    },
    {
     "name": "stderr",
     "output_type": "stream",
     "text": [
      "Processing llama_1.5B_Goldfish_K_5_H_13_GBS_120_EPOCH_93:  57%|█████▋    | 13/23 [03:57<03:01, 18.18s/it]"
     ]
    },
    {
     "name": "stdout",
     "output_type": "stream",
     "text": [
      "Time taken: 1.42 seconds\n",
      "Warming up Numba JIT...\n",
      "Processing 500 sequence pairs in parallel...\n",
      "Time taken: 0.08 seconds\n",
      "Warming up Numba JIT...\n",
      "Processing 500 sequence pairs in parallel...\n",
      "Time taken: 0.08 seconds\n",
      "Warming up Numba JIT...\n",
      "Processing 9000 sequence pairs in parallel...\n"
     ]
    },
    {
     "name": "stderr",
     "output_type": "stream",
     "text": [
      "Processing llama_1.5B_Goldfish_K_5_H_13_GBS_120_EPOCH_93:  61%|██████    | 14/23 [04:15<02:41, 17.98s/it]"
     ]
    },
    {
     "name": "stdout",
     "output_type": "stream",
     "text": [
      "Time taken: 1.41 seconds\n",
      "Warming up Numba JIT...\n",
      "Processing 500 sequence pairs in parallel...\n",
      "Time taken: 0.08 seconds\n",
      "Warming up Numba JIT...\n",
      "Processing 500 sequence pairs in parallel...\n",
      "Time taken: 0.08 seconds\n",
      "Warming up Numba JIT...\n",
      "Processing 9000 sequence pairs in parallel...\n"
     ]
    },
    {
     "name": "stderr",
     "output_type": "stream",
     "text": [
      "Processing llama_1.5B_Goldfish_K_5_H_13_GBS_120_EPOCH_93:  65%|██████▌   | 15/23 [04:33<02:23, 17.94s/it]"
     ]
    },
    {
     "name": "stdout",
     "output_type": "stream",
     "text": [
      "Time taken: 1.45 seconds\n",
      "Warming up Numba JIT...\n",
      "Processing 500 sequence pairs in parallel...\n",
      "Time taken: 0.08 seconds\n",
      "Warming up Numba JIT...\n",
      "Processing 500 sequence pairs in parallel...\n",
      "Time taken: 0.08 seconds\n",
      "Warming up Numba JIT...\n",
      "Processing 9000 sequence pairs in parallel...\n"
     ]
    },
    {
     "name": "stderr",
     "output_type": "stream",
     "text": [
      "Processing llama_1.5B_Goldfish_K_5_H_13_GBS_120_EPOCH_93:  70%|██████▉   | 16/23 [04:51<02:05, 17.95s/it]"
     ]
    },
    {
     "name": "stdout",
     "output_type": "stream",
     "text": [
      "Time taken: 1.55 seconds\n",
      "Warming up Numba JIT...\n",
      "Processing 500 sequence pairs in parallel...\n",
      "Time taken: 0.09 seconds\n",
      "Warming up Numba JIT...\n",
      "Processing 500 sequence pairs in parallel...\n",
      "Time taken: 0.09 seconds\n",
      "Warming up Numba JIT...\n",
      "Processing 9000 sequence pairs in parallel...\n"
     ]
    },
    {
     "name": "stderr",
     "output_type": "stream",
     "text": [
      "Processing llama_1.5B_Goldfish_K_5_H_13_GBS_120_EPOCH_93:  74%|███████▍  | 17/23 [05:09<01:47, 17.90s/it]"
     ]
    },
    {
     "name": "stdout",
     "output_type": "stream",
     "text": [
      "Time taken: 1.46 seconds\n",
      "Warming up Numba JIT...\n",
      "Processing 500 sequence pairs in parallel...\n",
      "Time taken: 0.08 seconds\n",
      "Warming up Numba JIT...\n",
      "Processing 500 sequence pairs in parallel...\n",
      "Time taken: 0.08 seconds\n",
      "Warming up Numba JIT...\n",
      "Processing 9000 sequence pairs in parallel...\n"
     ]
    },
    {
     "name": "stderr",
     "output_type": "stream",
     "text": [
      "Processing llama_1.5B_Goldfish_K_5_H_13_GBS_120_EPOCH_93:  78%|███████▊  | 18/23 [05:27<01:29, 17.99s/it]"
     ]
    },
    {
     "name": "stdout",
     "output_type": "stream",
     "text": [
      "Time taken: 1.47 seconds\n",
      "Warming up Numba JIT...\n",
      "Processing 500 sequence pairs in parallel...\n",
      "Time taken: 0.08 seconds\n",
      "Warming up Numba JIT...\n",
      "Processing 500 sequence pairs in parallel...\n",
      "Time taken: 0.08 seconds\n",
      "Warming up Numba JIT...\n",
      "Processing 9000 sequence pairs in parallel...\n",
      "Time taken: 1.55 seconds\n",
      "Warming up Numba JIT...\n",
      "Processing 500 sequence pairs in parallel...\n",
      "Time taken: 0.09 seconds\n",
      "Warming up Numba JIT...\n",
      "Processing 500 sequence pairs in parallel...\n"
     ]
    },
    {
     "name": "stderr",
     "output_type": "stream",
     "text": [
      "Processing llama_1.5B_Goldfish_K_5_H_13_GBS_120_EPOCH_93:  83%|████████▎ | 19/23 [05:45<01:12, 18.07s/it]"
     ]
    },
    {
     "name": "stdout",
     "output_type": "stream",
     "text": [
      "Time taken: 0.09 seconds\n",
      "Warming up Numba JIT...\n",
      "Processing 9000 sequence pairs in parallel...\n"
     ]
    },
    {
     "name": "stderr",
     "output_type": "stream",
     "text": [
      "Processing llama_1.5B_Goldfish_K_5_H_13_GBS_120_EPOCH_93:  87%|████████▋ | 20/23 [06:03<00:54, 18.01s/it]"
     ]
    },
    {
     "name": "stdout",
     "output_type": "stream",
     "text": [
      "Time taken: 1.41 seconds\n",
      "Warming up Numba JIT...\n",
      "Processing 500 sequence pairs in parallel...\n",
      "Time taken: 0.08 seconds\n",
      "Warming up Numba JIT...\n",
      "Processing 500 sequence pairs in parallel...\n",
      "Time taken: 0.08 seconds\n",
      "Warming up Numba JIT...\n",
      "Processing 9000 sequence pairs in parallel...\n"
     ]
    },
    {
     "name": "stderr",
     "output_type": "stream",
     "text": [
      "Processing llama_1.5B_Goldfish_K_5_H_13_GBS_120_EPOCH_93:  91%|█████████▏| 21/23 [06:21<00:36, 18.12s/it]"
     ]
    },
    {
     "name": "stdout",
     "output_type": "stream",
     "text": [
      "Time taken: 1.52 seconds\n",
      "Warming up Numba JIT...\n",
      "Processing 500 sequence pairs in parallel...\n",
      "Time taken: 0.08 seconds\n",
      "Warming up Numba JIT...\n",
      "Processing 500 sequence pairs in parallel...\n",
      "Time taken: 0.08 seconds\n",
      "Warming up Numba JIT...\n",
      "Processing 9000 sequence pairs in parallel...\n"
     ]
    },
    {
     "name": "stderr",
     "output_type": "stream",
     "text": [
      "Processing llama_1.5B_Goldfish_K_5_H_13_GBS_120_EPOCH_93:  96%|█████████▌| 22/23 [06:39<00:18, 18.05s/it]"
     ]
    },
    {
     "name": "stdout",
     "output_type": "stream",
     "text": [
      "Time taken: 1.42 seconds\n",
      "Warming up Numba JIT...\n",
      "Processing 500 sequence pairs in parallel...\n",
      "Time taken: 0.08 seconds\n",
      "Warming up Numba JIT...\n",
      "Processing 500 sequence pairs in parallel...\n",
      "Time taken: 0.08 seconds\n",
      "Warming up Numba JIT...\n",
      "Processing 9000 sequence pairs in parallel...\n"
     ]
    },
    {
     "name": "stderr",
     "output_type": "stream",
     "text": [
      "Processing llama_1.5B_Goldfish_K_5_H_13_GBS_120_EPOCH_93: 100%|██████████| 23/23 [06:57<00:00, 18.15s/it]\n"
     ]
    },
    {
     "name": "stdout",
     "output_type": "stream",
     "text": [
      "Time taken: 1.42 seconds\n",
      "Warming up Numba JIT...\n",
      "Processing 500 sequence pairs in parallel...\n",
      "Time taken: 0.08 seconds\n",
      "Warming up Numba JIT...\n",
      "Processing 500 sequence pairs in parallel...\n",
      "Time taken: 0.08 seconds\n"
     ]
    },
    {
     "name": "stderr",
     "output_type": "stream",
     "text": [
      "Processing llama_1.5B_Goldfish_K_10_H_13_GBS_120_EPOCH_83:   0%|          | 0/21 [00:00<?, ?it/s]"
     ]
    },
    {
     "name": "stdout",
     "output_type": "stream",
     "text": [
      "Warming up Numba JIT...\n",
      "Processing 9000 sequence pairs in parallel...\n"
     ]
    },
    {
     "name": "stderr",
     "output_type": "stream",
     "text": [
      "Processing llama_1.5B_Goldfish_K_10_H_13_GBS_120_EPOCH_83:   5%|▍         | 1/21 [00:17<05:50, 17.54s/it]"
     ]
    },
    {
     "name": "stdout",
     "output_type": "stream",
     "text": [
      "Time taken: 1.44 seconds\n",
      "Warming up Numba JIT...\n",
      "Processing 500 sequence pairs in parallel...\n",
      "Time taken: 0.08 seconds\n",
      "Warming up Numba JIT...\n",
      "Processing 500 sequence pairs in parallel...\n",
      "Time taken: 0.08 seconds\n",
      "Warming up Numba JIT...\n",
      "Processing 9000 sequence pairs in parallel...\n"
     ]
    },
    {
     "name": "stderr",
     "output_type": "stream",
     "text": [
      "Processing llama_1.5B_Goldfish_K_10_H_13_GBS_120_EPOCH_83:  10%|▉         | 2/21 [00:35<05:32, 17.49s/it]"
     ]
    },
    {
     "name": "stdout",
     "output_type": "stream",
     "text": [
      "Time taken: 1.38 seconds\n",
      "Warming up Numba JIT...\n",
      "Processing 500 sequence pairs in parallel...\n",
      "Time taken: 0.08 seconds\n",
      "Warming up Numba JIT...\n",
      "Processing 500 sequence pairs in parallel...\n",
      "Time taken: 0.08 seconds\n",
      "Warming up Numba JIT...\n",
      "Processing 9000 sequence pairs in parallel...\n"
     ]
    },
    {
     "name": "stderr",
     "output_type": "stream",
     "text": [
      "Processing llama_1.5B_Goldfish_K_10_H_13_GBS_120_EPOCH_83:  14%|█▍        | 3/21 [00:52<05:16, 17.58s/it]"
     ]
    },
    {
     "name": "stdout",
     "output_type": "stream",
     "text": [
      "Time taken: 1.41 seconds\n",
      "Warming up Numba JIT...\n",
      "Processing 500 sequence pairs in parallel...\n",
      "Time taken: 0.08 seconds\n",
      "Warming up Numba JIT...\n",
      "Processing 500 sequence pairs in parallel...\n",
      "Time taken: 0.08 seconds\n",
      "Warming up Numba JIT...\n",
      "Processing 9000 sequence pairs in parallel...\n",
      "Time taken: 1.54 seconds\n",
      "Warming up Numba JIT...\n",
      "Processing 500 sequence pairs in parallel...\n",
      "Time taken: 0.08 seconds\n",
      "Warming up Numba JIT...\n",
      "Processing 500 sequence pairs in parallel...\n",
      "Time taken: 0.08 seconds\n"
     ]
    },
    {
     "name": "stderr",
     "output_type": "stream",
     "text": [
      "Processing llama_1.5B_Goldfish_K_10_H_13_GBS_120_EPOCH_83:  19%|█▉        | 4/21 [01:10<05:00, 17.66s/it]"
     ]
    },
    {
     "name": "stdout",
     "output_type": "stream",
     "text": [
      "Warming up Numba JIT...\n",
      "Processing 9000 sequence pairs in parallel...\n"
     ]
    },
    {
     "name": "stderr",
     "output_type": "stream",
     "text": [
      "Processing llama_1.5B_Goldfish_K_10_H_13_GBS_120_EPOCH_83:  24%|██▍       | 5/21 [01:27<04:40, 17.54s/it]"
     ]
    },
    {
     "name": "stdout",
     "output_type": "stream",
     "text": [
      "Time taken: 1.42 seconds\n",
      "Warming up Numba JIT...\n",
      "Processing 500 sequence pairs in parallel...\n",
      "Time taken: 0.08 seconds\n",
      "Warming up Numba JIT...\n",
      "Processing 500 sequence pairs in parallel...\n",
      "Time taken: 0.08 seconds\n",
      "Warming up Numba JIT...\n",
      "Processing 9000 sequence pairs in parallel...\n"
     ]
    },
    {
     "name": "stderr",
     "output_type": "stream",
     "text": [
      "Processing llama_1.5B_Goldfish_K_10_H_13_GBS_120_EPOCH_83:  29%|██▊       | 6/21 [01:45<04:23, 17.55s/it]"
     ]
    },
    {
     "name": "stdout",
     "output_type": "stream",
     "text": [
      "Time taken: 1.42 seconds\n",
      "Warming up Numba JIT...\n",
      "Processing 500 sequence pairs in parallel...\n",
      "Time taken: 0.08 seconds\n",
      "Warming up Numba JIT...\n",
      "Processing 500 sequence pairs in parallel...\n",
      "Time taken: 0.08 seconds\n",
      "Warming up Numba JIT...\n",
      "Processing 9000 sequence pairs in parallel...\n"
     ]
    },
    {
     "name": "stderr",
     "output_type": "stream",
     "text": [
      "Processing llama_1.5B_Goldfish_K_10_H_13_GBS_120_EPOCH_83:  33%|███▎      | 7/21 [02:03<04:06, 17.64s/it]"
     ]
    },
    {
     "name": "stdout",
     "output_type": "stream",
     "text": [
      "Time taken: 1.42 seconds\n",
      "Warming up Numba JIT...\n",
      "Processing 500 sequence pairs in parallel...\n",
      "Time taken: 0.08 seconds\n",
      "Warming up Numba JIT...\n",
      "Processing 500 sequence pairs in parallel...\n",
      "Time taken: 0.08 seconds\n",
      "Warming up Numba JIT...\n",
      "Processing 9000 sequence pairs in parallel...\n",
      "Time taken: 1.53 seconds\n",
      "Warming up Numba JIT...\n",
      "Processing 500 sequence pairs in parallel...\n",
      "Time taken: 0.09 seconds\n",
      "Warming up Numba JIT...\n",
      "Processing 500 sequence pairs in parallel...\n",
      "Time taken: 0.09 seconds\n"
     ]
    },
    {
     "name": "stderr",
     "output_type": "stream",
     "text": [
      "Processing llama_1.5B_Goldfish_K_10_H_13_GBS_120_EPOCH_83:  38%|███▊      | 8/21 [02:20<03:49, 17.66s/it]"
     ]
    },
    {
     "name": "stdout",
     "output_type": "stream",
     "text": [
      "Warming up Numba JIT...\n",
      "Processing 9000 sequence pairs in parallel...\n"
     ]
    },
    {
     "name": "stderr",
     "output_type": "stream",
     "text": [
      "Processing llama_1.5B_Goldfish_K_10_H_13_GBS_120_EPOCH_83:  43%|████▎     | 9/21 [02:38<03:31, 17.64s/it]"
     ]
    },
    {
     "name": "stdout",
     "output_type": "stream",
     "text": [
      "Time taken: 1.42 seconds\n",
      "Warming up Numba JIT...\n",
      "Processing 500 sequence pairs in parallel...\n",
      "Time taken: 0.08 seconds\n",
      "Warming up Numba JIT...\n",
      "Processing 500 sequence pairs in parallel...\n",
      "Time taken: 0.08 seconds\n",
      "Warming up Numba JIT...\n",
      "Processing 9000 sequence pairs in parallel...\n"
     ]
    },
    {
     "name": "stderr",
     "output_type": "stream",
     "text": [
      "Processing llama_1.5B_Goldfish_K_10_H_13_GBS_120_EPOCH_83:  48%|████▊     | 10/21 [02:55<03:13, 17.59s/it]"
     ]
    },
    {
     "name": "stdout",
     "output_type": "stream",
     "text": [
      "Time taken: 1.41 seconds\n",
      "Warming up Numba JIT...\n",
      "Processing 500 sequence pairs in parallel...\n",
      "Time taken: 0.08 seconds\n",
      "Warming up Numba JIT...\n",
      "Processing 500 sequence pairs in parallel...\n",
      "Time taken: 0.08 seconds\n",
      "Warming up Numba JIT...\n",
      "Processing 9000 sequence pairs in parallel...\n"
     ]
    },
    {
     "name": "stderr",
     "output_type": "stream",
     "text": [
      "Processing llama_1.5B_Goldfish_K_10_H_13_GBS_120_EPOCH_83:  52%|█████▏    | 11/21 [03:13<02:55, 17.54s/it]"
     ]
    },
    {
     "name": "stdout",
     "output_type": "stream",
     "text": [
      "Time taken: 1.42 seconds\n",
      "Warming up Numba JIT...\n",
      "Processing 500 sequence pairs in parallel...\n",
      "Time taken: 0.08 seconds\n",
      "Warming up Numba JIT...\n",
      "Processing 500 sequence pairs in parallel...\n",
      "Time taken: 0.08 seconds\n",
      "Warming up Numba JIT...\n",
      "Processing 9000 sequence pairs in parallel...\n"
     ]
    },
    {
     "name": "stderr",
     "output_type": "stream",
     "text": [
      "Processing llama_1.5B_Goldfish_K_10_H_13_GBS_120_EPOCH_83:  57%|█████▋    | 12/21 [03:30<02:37, 17.54s/it]"
     ]
    },
    {
     "name": "stdout",
     "output_type": "stream",
     "text": [
      "Time taken: 1.42 seconds\n",
      "Warming up Numba JIT...\n",
      "Processing 500 sequence pairs in parallel...\n",
      "Time taken: 0.08 seconds\n",
      "Warming up Numba JIT...\n",
      "Processing 500 sequence pairs in parallel...\n",
      "Time taken: 0.08 seconds\n",
      "Warming up Numba JIT...\n",
      "Processing 9000 sequence pairs in parallel...\n"
     ]
    },
    {
     "name": "stderr",
     "output_type": "stream",
     "text": [
      "Processing llama_1.5B_Goldfish_K_10_H_13_GBS_120_EPOCH_83:  62%|██████▏   | 13/21 [03:48<02:20, 17.57s/it]"
     ]
    },
    {
     "name": "stdout",
     "output_type": "stream",
     "text": [
      "Time taken: 1.43 seconds\n",
      "Warming up Numba JIT...\n",
      "Processing 500 sequence pairs in parallel...\n",
      "Time taken: 0.08 seconds\n",
      "Warming up Numba JIT...\n",
      "Processing 500 sequence pairs in parallel...\n",
      "Time taken: 0.08 seconds\n",
      "Warming up Numba JIT...\n",
      "Processing 9000 sequence pairs in parallel...\n"
     ]
    },
    {
     "name": "stderr",
     "output_type": "stream",
     "text": [
      "Processing llama_1.5B_Goldfish_K_10_H_13_GBS_120_EPOCH_83:  67%|██████▋   | 14/21 [04:06<02:03, 17.59s/it]"
     ]
    },
    {
     "name": "stdout",
     "output_type": "stream",
     "text": [
      "Time taken: 1.47 seconds\n",
      "Warming up Numba JIT...\n",
      "Processing 500 sequence pairs in parallel...\n",
      "Time taken: 0.08 seconds\n",
      "Warming up Numba JIT...\n",
      "Processing 500 sequence pairs in parallel...\n",
      "Time taken: 0.08 seconds\n",
      "Warming up Numba JIT...\n",
      "Processing 9000 sequence pairs in parallel...\n"
     ]
    },
    {
     "name": "stderr",
     "output_type": "stream",
     "text": [
      "Processing llama_1.5B_Goldfish_K_10_H_13_GBS_120_EPOCH_83:  71%|███████▏  | 15/21 [04:23<01:45, 17.52s/it]"
     ]
    },
    {
     "name": "stdout",
     "output_type": "stream",
     "text": [
      "Time taken: 1.42 seconds\n",
      "Warming up Numba JIT...\n",
      "Processing 500 sequence pairs in parallel...\n",
      "Time taken: 0.08 seconds\n",
      "Warming up Numba JIT...\n",
      "Processing 500 sequence pairs in parallel...\n",
      "Time taken: 0.08 seconds\n",
      "Warming up Numba JIT...\n",
      "Processing 9000 sequence pairs in parallel...\n"
     ]
    },
    {
     "name": "stderr",
     "output_type": "stream",
     "text": [
      "Processing llama_1.5B_Goldfish_K_10_H_13_GBS_120_EPOCH_83:  76%|███████▌  | 16/21 [04:41<01:27, 17.49s/it]"
     ]
    },
    {
     "name": "stdout",
     "output_type": "stream",
     "text": [
      "Time taken: 1.42 seconds\n",
      "Warming up Numba JIT...\n",
      "Processing 500 sequence pairs in parallel...\n",
      "Time taken: 0.08 seconds\n",
      "Warming up Numba JIT...\n",
      "Processing 500 sequence pairs in parallel...\n",
      "Time taken: 0.08 seconds\n",
      "Warming up Numba JIT...\n",
      "Processing 9000 sequence pairs in parallel...\n"
     ]
    },
    {
     "name": "stderr",
     "output_type": "stream",
     "text": [
      "Processing llama_1.5B_Goldfish_K_10_H_13_GBS_120_EPOCH_83:  81%|████████  | 17/21 [04:58<01:10, 17.55s/it]"
     ]
    },
    {
     "name": "stdout",
     "output_type": "stream",
     "text": [
      "Time taken: 1.42 seconds\n",
      "Warming up Numba JIT...\n",
      "Processing 500 sequence pairs in parallel...\n",
      "Time taken: 0.08 seconds\n",
      "Warming up Numba JIT...\n",
      "Processing 500 sequence pairs in parallel...\n",
      "Time taken: 0.08 seconds\n",
      "Warming up Numba JIT...\n",
      "Processing 9000 sequence pairs in parallel...\n"
     ]
    },
    {
     "name": "stderr",
     "output_type": "stream",
     "text": [
      "Processing llama_1.5B_Goldfish_K_10_H_13_GBS_120_EPOCH_83:  86%|████████▌ | 18/21 [05:16<00:52, 17.63s/it]"
     ]
    },
    {
     "name": "stdout",
     "output_type": "stream",
     "text": [
      "Time taken: 1.41 seconds\n",
      "Warming up Numba JIT...\n",
      "Processing 500 sequence pairs in parallel...\n",
      "Time taken: 0.08 seconds\n",
      "Warming up Numba JIT...\n",
      "Processing 500 sequence pairs in parallel...\n",
      "Time taken: 0.08 seconds\n",
      "Warming up Numba JIT...\n",
      "Processing 9000 sequence pairs in parallel...\n"
     ]
    },
    {
     "name": "stderr",
     "output_type": "stream",
     "text": [
      "Processing llama_1.5B_Goldfish_K_10_H_13_GBS_120_EPOCH_83:  90%|█████████ | 19/21 [05:34<00:35, 17.68s/it]"
     ]
    },
    {
     "name": "stdout",
     "output_type": "stream",
     "text": [
      "Time taken: 1.46 seconds\n",
      "Warming up Numba JIT...\n",
      "Processing 500 sequence pairs in parallel...\n",
      "Time taken: 0.08 seconds\n",
      "Warming up Numba JIT...\n",
      "Processing 500 sequence pairs in parallel...\n",
      "Time taken: 0.08 seconds\n",
      "Warming up Numba JIT...\n",
      "Processing 9000 sequence pairs in parallel...\n"
     ]
    },
    {
     "name": "stderr",
     "output_type": "stream",
     "text": [
      "Processing llama_1.5B_Goldfish_K_10_H_13_GBS_120_EPOCH_83:  95%|█████████▌| 20/21 [05:52<00:17, 17.71s/it]"
     ]
    },
    {
     "name": "stdout",
     "output_type": "stream",
     "text": [
      "Time taken: 1.43 seconds\n",
      "Warming up Numba JIT...\n",
      "Processing 500 sequence pairs in parallel...\n",
      "Time taken: 0.08 seconds\n",
      "Warming up Numba JIT...\n",
      "Processing 500 sequence pairs in parallel...\n",
      "Time taken: 0.08 seconds\n",
      "Warming up Numba JIT...\n",
      "Processing 9000 sequence pairs in parallel...\n"
     ]
    },
    {
     "name": "stderr",
     "output_type": "stream",
     "text": [
      "Processing llama_1.5B_Goldfish_K_10_H_13_GBS_120_EPOCH_83: 100%|██████████| 21/21 [06:09<00:00, 17.62s/it]\n"
     ]
    },
    {
     "name": "stdout",
     "output_type": "stream",
     "text": [
      "Time taken: 1.44 seconds\n",
      "Warming up Numba JIT...\n",
      "Processing 500 sequence pairs in parallel...\n",
      "Time taken: 0.08 seconds\n",
      "Warming up Numba JIT...\n",
      "Processing 500 sequence pairs in parallel...\n",
      "Time taken: 0.08 seconds\n"
     ]
    },
    {
     "name": "stderr",
     "output_type": "stream",
     "text": [
      "Processing llama_1.5B_Goldfish_K_21_H_13_GBS_120_EPOCH_79:   0%|          | 0/19 [00:00<?, ?it/s]"
     ]
    },
    {
     "name": "stdout",
     "output_type": "stream",
     "text": [
      "Warming up Numba JIT...\n",
      "Processing 9000 sequence pairs in parallel...\n"
     ]
    },
    {
     "name": "stderr",
     "output_type": "stream",
     "text": [
      "Processing llama_1.5B_Goldfish_K_21_H_13_GBS_120_EPOCH_79:   5%|▌         | 1/19 [00:17<05:11, 17.32s/it]"
     ]
    },
    {
     "name": "stdout",
     "output_type": "stream",
     "text": [
      "Time taken: 1.34 seconds\n",
      "Warming up Numba JIT...\n",
      "Processing 500 sequence pairs in parallel...\n",
      "Time taken: 0.07 seconds\n",
      "Warming up Numba JIT...\n",
      "Processing 500 sequence pairs in parallel...\n",
      "Time taken: 0.07 seconds\n",
      "Warming up Numba JIT...\n",
      "Processing 9000 sequence pairs in parallel...\n"
     ]
    },
    {
     "name": "stderr",
     "output_type": "stream",
     "text": [
      "Processing llama_1.5B_Goldfish_K_21_H_13_GBS_120_EPOCH_79:  11%|█         | 2/19 [00:34<04:57, 17.50s/it]"
     ]
    },
    {
     "name": "stdout",
     "output_type": "stream",
     "text": [
      "Time taken: 1.38 seconds\n",
      "Warming up Numba JIT...\n",
      "Processing 500 sequence pairs in parallel...\n",
      "Time taken: 0.08 seconds\n",
      "Warming up Numba JIT...\n",
      "Processing 500 sequence pairs in parallel...\n",
      "Time taken: 0.08 seconds\n",
      "Warming up Numba JIT...\n",
      "Processing 9000 sequence pairs in parallel...\n",
      "Time taken: 1.43 seconds\n",
      "Warming up Numba JIT...\n",
      "Processing 500 sequence pairs in parallel...\n",
      "Time taken: 0.09 seconds\n",
      "Warming up Numba JIT...\n",
      "Processing 500 sequence pairs in parallel...\n",
      "Time taken: 0.08 seconds\n"
     ]
    },
    {
     "name": "stderr",
     "output_type": "stream",
     "text": [
      "Processing llama_1.5B_Goldfish_K_21_H_13_GBS_120_EPOCH_79:  16%|█▌        | 3/19 [00:52<04:39, 17.46s/it]"
     ]
    },
    {
     "name": "stdout",
     "output_type": "stream",
     "text": [
      "Warming up Numba JIT...\n",
      "Processing 9000 sequence pairs in parallel...\n"
     ]
    },
    {
     "name": "stderr",
     "output_type": "stream",
     "text": [
      "Processing llama_1.5B_Goldfish_K_21_H_13_GBS_120_EPOCH_79:  21%|██        | 4/19 [01:09<04:22, 17.49s/it]"
     ]
    },
    {
     "name": "stdout",
     "output_type": "stream",
     "text": [
      "Time taken: 1.43 seconds\n",
      "Warming up Numba JIT...\n",
      "Processing 500 sequence pairs in parallel...\n",
      "Time taken: 0.08 seconds\n",
      "Warming up Numba JIT...\n",
      "Processing 500 sequence pairs in parallel...\n",
      "Time taken: 0.08 seconds\n",
      "Warming up Numba JIT...\n",
      "Processing 9000 sequence pairs in parallel...\n"
     ]
    },
    {
     "name": "stderr",
     "output_type": "stream",
     "text": [
      "Processing llama_1.5B_Goldfish_K_21_H_13_GBS_120_EPOCH_79:  26%|██▋       | 5/19 [01:27<04:04, 17.49s/it]"
     ]
    },
    {
     "name": "stdout",
     "output_type": "stream",
     "text": [
      "Time taken: 1.41 seconds\n",
      "Warming up Numba JIT...\n",
      "Processing 500 sequence pairs in parallel...\n",
      "Time taken: 0.08 seconds\n",
      "Warming up Numba JIT...\n",
      "Processing 500 sequence pairs in parallel...\n",
      "Time taken: 0.08 seconds\n",
      "Warming up Numba JIT...\n",
      "Processing 9000 sequence pairs in parallel...\n"
     ]
    },
    {
     "name": "stderr",
     "output_type": "stream",
     "text": [
      "Processing llama_1.5B_Goldfish_K_21_H_13_GBS_120_EPOCH_79:  32%|███▏      | 6/19 [01:45<03:49, 17.65s/it]"
     ]
    },
    {
     "name": "stdout",
     "output_type": "stream",
     "text": [
      "Time taken: 1.44 seconds\n",
      "Warming up Numba JIT...\n",
      "Processing 500 sequence pairs in parallel...\n",
      "Time taken: 0.08 seconds\n",
      "Warming up Numba JIT...\n",
      "Processing 500 sequence pairs in parallel...\n",
      "Time taken: 0.08 seconds\n",
      "Warming up Numba JIT...\n",
      "Processing 9000 sequence pairs in parallel...\n"
     ]
    },
    {
     "name": "stderr",
     "output_type": "stream",
     "text": [
      "Processing llama_1.5B_Goldfish_K_21_H_13_GBS_120_EPOCH_79:  37%|███▋      | 7/19 [02:03<03:33, 17.77s/it]"
     ]
    },
    {
     "name": "stdout",
     "output_type": "stream",
     "text": [
      "Time taken: 1.46 seconds\n",
      "Warming up Numba JIT...\n",
      "Processing 500 sequence pairs in parallel...\n",
      "Time taken: 0.08 seconds\n",
      "Warming up Numba JIT...\n",
      "Processing 500 sequence pairs in parallel...\n",
      "Time taken: 0.08 seconds\n",
      "Warming up Numba JIT...\n",
      "Processing 9000 sequence pairs in parallel...\n"
     ]
    },
    {
     "name": "stderr",
     "output_type": "stream",
     "text": [
      "Processing llama_1.5B_Goldfish_K_21_H_13_GBS_120_EPOCH_79:  42%|████▏     | 8/19 [02:21<03:15, 17.80s/it]"
     ]
    },
    {
     "name": "stdout",
     "output_type": "stream",
     "text": [
      "Time taken: 1.46 seconds\n",
      "Warming up Numba JIT...\n",
      "Processing 500 sequence pairs in parallel...\n",
      "Time taken: 0.08 seconds\n",
      "Warming up Numba JIT...\n",
      "Processing 500 sequence pairs in parallel...\n",
      "Time taken: 0.08 seconds\n",
      "Warming up Numba JIT...\n",
      "Processing 9000 sequence pairs in parallel...\n"
     ]
    },
    {
     "name": "stderr",
     "output_type": "stream",
     "text": [
      "Processing llama_1.5B_Goldfish_K_21_H_13_GBS_120_EPOCH_79:  47%|████▋     | 9/19 [02:38<02:57, 17.73s/it]"
     ]
    },
    {
     "name": "stdout",
     "output_type": "stream",
     "text": [
      "Time taken: 1.43 seconds\n",
      "Warming up Numba JIT...\n",
      "Processing 500 sequence pairs in parallel...\n",
      "Time taken: 0.08 seconds\n",
      "Warming up Numba JIT...\n",
      "Processing 500 sequence pairs in parallel...\n",
      "Time taken: 0.08 seconds\n",
      "Warming up Numba JIT...\n",
      "Processing 9000 sequence pairs in parallel...\n"
     ]
    },
    {
     "name": "stderr",
     "output_type": "stream",
     "text": [
      "Processing llama_1.5B_Goldfish_K_21_H_13_GBS_120_EPOCH_79:  53%|█████▎    | 10/19 [02:56<02:39, 17.68s/it]"
     ]
    },
    {
     "name": "stdout",
     "output_type": "stream",
     "text": [
      "Time taken: 1.42 seconds\n",
      "Warming up Numba JIT...\n",
      "Processing 500 sequence pairs in parallel...\n",
      "Time taken: 0.08 seconds\n",
      "Warming up Numba JIT...\n",
      "Processing 500 sequence pairs in parallel...\n",
      "Time taken: 0.08 seconds\n",
      "Warming up Numba JIT...\n",
      "Processing 9000 sequence pairs in parallel...\n"
     ]
    },
    {
     "name": "stderr",
     "output_type": "stream",
     "text": [
      "Processing llama_1.5B_Goldfish_K_21_H_13_GBS_120_EPOCH_79:  58%|█████▊    | 11/19 [03:14<02:21, 17.71s/it]"
     ]
    },
    {
     "name": "stdout",
     "output_type": "stream",
     "text": [
      "Time taken: 1.46 seconds\n",
      "Warming up Numba JIT...\n",
      "Processing 500 sequence pairs in parallel...\n",
      "Time taken: 0.08 seconds\n",
      "Warming up Numba JIT...\n",
      "Processing 500 sequence pairs in parallel...\n",
      "Time taken: 0.08 seconds\n",
      "Warming up Numba JIT...\n",
      "Processing 9000 sequence pairs in parallel...\n"
     ]
    },
    {
     "name": "stderr",
     "output_type": "stream",
     "text": [
      "Processing llama_1.5B_Goldfish_K_21_H_13_GBS_120_EPOCH_79:  63%|██████▎   | 12/19 [03:31<02:03, 17.65s/it]"
     ]
    },
    {
     "name": "stdout",
     "output_type": "stream",
     "text": [
      "Time taken: 1.44 seconds\n",
      "Warming up Numba JIT...\n",
      "Processing 500 sequence pairs in parallel...\n",
      "Time taken: 0.08 seconds\n",
      "Warming up Numba JIT...\n",
      "Processing 500 sequence pairs in parallel...\n",
      "Time taken: 0.08 seconds\n",
      "Warming up Numba JIT...\n",
      "Processing 9000 sequence pairs in parallel...\n"
     ]
    },
    {
     "name": "stderr",
     "output_type": "stream",
     "text": [
      "Processing llama_1.5B_Goldfish_K_21_H_13_GBS_120_EPOCH_79:  68%|██████▊   | 13/19 [03:49<01:46, 17.71s/it]"
     ]
    },
    {
     "name": "stdout",
     "output_type": "stream",
     "text": [
      "Time taken: 1.46 seconds\n",
      "Warming up Numba JIT...\n",
      "Processing 500 sequence pairs in parallel...\n",
      "Time taken: 0.08 seconds\n",
      "Warming up Numba JIT...\n",
      "Processing 500 sequence pairs in parallel...\n",
      "Time taken: 0.08 seconds\n",
      "Warming up Numba JIT...\n",
      "Processing 9000 sequence pairs in parallel...\n"
     ]
    },
    {
     "name": "stderr",
     "output_type": "stream",
     "text": [
      "Processing llama_1.5B_Goldfish_K_21_H_13_GBS_120_EPOCH_79:  74%|███████▎  | 14/19 [04:06<01:28, 17.64s/it]"
     ]
    },
    {
     "name": "stdout",
     "output_type": "stream",
     "text": [
      "Time taken: 1.42 seconds\n",
      "Warming up Numba JIT...\n",
      "Processing 500 sequence pairs in parallel...\n",
      "Time taken: 0.08 seconds\n",
      "Warming up Numba JIT...\n",
      "Processing 500 sequence pairs in parallel...\n",
      "Time taken: 0.08 seconds\n",
      "Warming up Numba JIT...\n",
      "Processing 9000 sequence pairs in parallel...\n"
     ]
    },
    {
     "name": "stderr",
     "output_type": "stream",
     "text": [
      "Processing llama_1.5B_Goldfish_K_21_H_13_GBS_120_EPOCH_79:  79%|███████▉  | 15/19 [04:24<01:10, 17.61s/it]"
     ]
    },
    {
     "name": "stdout",
     "output_type": "stream",
     "text": [
      "Time taken: 1.42 seconds\n",
      "Warming up Numba JIT...\n",
      "Processing 500 sequence pairs in parallel...\n",
      "Time taken: 0.08 seconds\n",
      "Warming up Numba JIT...\n",
      "Processing 500 sequence pairs in parallel...\n",
      "Time taken: 0.08 seconds\n",
      "Warming up Numba JIT...\n",
      "Processing 9000 sequence pairs in parallel...\n"
     ]
    },
    {
     "name": "stderr",
     "output_type": "stream",
     "text": [
      "Processing llama_1.5B_Goldfish_K_21_H_13_GBS_120_EPOCH_79:  84%|████████▍ | 16/19 [04:41<00:52, 17.57s/it]"
     ]
    },
    {
     "name": "stdout",
     "output_type": "stream",
     "text": [
      "Time taken: 1.43 seconds\n",
      "Warming up Numba JIT...\n",
      "Processing 500 sequence pairs in parallel...\n",
      "Time taken: 0.08 seconds\n",
      "Warming up Numba JIT...\n",
      "Processing 500 sequence pairs in parallel...\n",
      "Time taken: 0.08 seconds\n",
      "Warming up Numba JIT...\n",
      "Processing 9000 sequence pairs in parallel...\n",
      "Time taken: 1.54 seconds\n",
      "Warming up Numba JIT...\n",
      "Processing 500 sequence pairs in parallel...\n",
      "Time taken: 0.09 seconds\n",
      "Warming up Numba JIT...\n",
      "Processing 500 sequence pairs in parallel...\n",
      "Time taken: 0.09 seconds\n"
     ]
    },
    {
     "name": "stderr",
     "output_type": "stream",
     "text": [
      "Processing llama_1.5B_Goldfish_K_21_H_13_GBS_120_EPOCH_79:  89%|████████▉ | 17/19 [04:59<00:35, 17.68s/it]"
     ]
    },
    {
     "name": "stdout",
     "output_type": "stream",
     "text": [
      "Warming up Numba JIT...\n",
      "Processing 9000 sequence pairs in parallel...\n",
      "Time taken: 1.52 seconds\n",
      "Warming up Numba JIT...\n",
      "Processing 500 sequence pairs in parallel...\n",
      "Time taken: 0.08 seconds\n",
      "Warming up Numba JIT...\n",
      "Processing 500 sequence pairs in parallel...\n",
      "Time taken: 0.08 seconds\n"
     ]
    },
    {
     "name": "stderr",
     "output_type": "stream",
     "text": [
      "Processing llama_1.5B_Goldfish_K_21_H_13_GBS_120_EPOCH_79:  95%|█████████▍| 18/19 [05:17<00:17, 17.68s/it]"
     ]
    },
    {
     "name": "stdout",
     "output_type": "stream",
     "text": [
      "Warming up Numba JIT...\n",
      "Processing 9000 sequence pairs in parallel...\n"
     ]
    },
    {
     "name": "stderr",
     "output_type": "stream",
     "text": [
      "Processing llama_1.5B_Goldfish_K_21_H_13_GBS_120_EPOCH_79: 100%|██████████| 19/19 [05:35<00:00, 17.64s/it]\n"
     ]
    },
    {
     "name": "stdout",
     "output_type": "stream",
     "text": [
      "Time taken: 1.41 seconds\n",
      "Warming up Numba JIT...\n",
      "Processing 500 sequence pairs in parallel...\n",
      "Time taken: 0.08 seconds\n",
      "Warming up Numba JIT...\n",
      "Processing 500 sequence pairs in parallel...\n",
      "Time taken: 0.08 seconds\n"
     ]
    },
    {
     "name": "stderr",
     "output_type": "stream",
     "text": [
      "Processing llama_1.5B_Standard_GBS_120_EPOCH_75:   0%|          | 0/19 [00:00<?, ?it/s]"
     ]
    },
    {
     "name": "stdout",
     "output_type": "stream",
     "text": [
      "Warming up Numba JIT...\n",
      "Processing 9000 sequence pairs in parallel...\n"
     ]
    },
    {
     "name": "stderr",
     "output_type": "stream",
     "text": [
      "Processing llama_1.5B_Standard_GBS_120_EPOCH_75:   5%|▌         | 1/19 [00:17<05:11, 17.29s/it]"
     ]
    },
    {
     "name": "stdout",
     "output_type": "stream",
     "text": [
      "Time taken: 1.36 seconds\n",
      "Warming up Numba JIT...\n",
      "Processing 500 sequence pairs in parallel...\n",
      "Time taken: 0.08 seconds\n",
      "Warming up Numba JIT...\n",
      "Processing 500 sequence pairs in parallel...\n",
      "Time taken: 0.08 seconds\n",
      "Warming up Numba JIT...\n",
      "Processing 9000 sequence pairs in parallel...\n"
     ]
    },
    {
     "name": "stderr",
     "output_type": "stream",
     "text": [
      "Processing llama_1.5B_Standard_GBS_120_EPOCH_75:  11%|█         | 2/19 [00:34<04:55, 17.40s/it]"
     ]
    },
    {
     "name": "stdout",
     "output_type": "stream",
     "text": [
      "Time taken: 1.47 seconds\n",
      "Warming up Numba JIT...\n",
      "Processing 500 sequence pairs in parallel...\n",
      "Time taken: 0.08 seconds\n",
      "Warming up Numba JIT...\n",
      "Processing 500 sequence pairs in parallel...\n",
      "Time taken: 0.08 seconds\n",
      "Warming up Numba JIT...\n",
      "Processing 9000 sequence pairs in parallel...\n"
     ]
    },
    {
     "name": "stderr",
     "output_type": "stream",
     "text": [
      "Processing llama_1.5B_Standard_GBS_120_EPOCH_75:  16%|█▌        | 3/19 [00:52<04:38, 17.43s/it]"
     ]
    },
    {
     "name": "stdout",
     "output_type": "stream",
     "text": [
      "Time taken: 1.41 seconds\n",
      "Warming up Numba JIT...\n",
      "Processing 500 sequence pairs in parallel...\n",
      "Time taken: 0.08 seconds\n",
      "Warming up Numba JIT...\n",
      "Processing 500 sequence pairs in parallel...\n",
      "Time taken: 0.08 seconds\n",
      "Warming up Numba JIT...\n",
      "Processing 9000 sequence pairs in parallel...\n"
     ]
    },
    {
     "name": "stderr",
     "output_type": "stream",
     "text": [
      "Processing llama_1.5B_Standard_GBS_120_EPOCH_75:  21%|██        | 4/19 [01:09<04:22, 17.52s/it]"
     ]
    },
    {
     "name": "stdout",
     "output_type": "stream",
     "text": [
      "Time taken: 1.52 seconds\n",
      "Warming up Numba JIT...\n",
      "Processing 500 sequence pairs in parallel...\n",
      "Time taken: 0.08 seconds\n",
      "Warming up Numba JIT...\n",
      "Processing 500 sequence pairs in parallel...\n",
      "Time taken: 0.08 seconds\n",
      "Warming up Numba JIT...\n",
      "Processing 9000 sequence pairs in parallel...\n"
     ]
    },
    {
     "name": "stderr",
     "output_type": "stream",
     "text": [
      "Processing llama_1.5B_Standard_GBS_120_EPOCH_75:  26%|██▋       | 5/19 [01:27<04:05, 17.53s/it]"
     ]
    },
    {
     "name": "stdout",
     "output_type": "stream",
     "text": [
      "Time taken: 1.53 seconds\n",
      "Warming up Numba JIT...\n",
      "Processing 500 sequence pairs in parallel...\n",
      "Time taken: 0.08 seconds\n",
      "Warming up Numba JIT...\n",
      "Processing 500 sequence pairs in parallel...\n",
      "Time taken: 0.08 seconds\n",
      "Warming up Numba JIT...\n",
      "Processing 9000 sequence pairs in parallel...\n"
     ]
    },
    {
     "name": "stderr",
     "output_type": "stream",
     "text": [
      "Processing llama_1.5B_Standard_GBS_120_EPOCH_75:  32%|███▏      | 6/19 [01:44<03:47, 17.49s/it]"
     ]
    },
    {
     "name": "stdout",
     "output_type": "stream",
     "text": [
      "Time taken: 1.43 seconds\n",
      "Warming up Numba JIT...\n",
      "Processing 500 sequence pairs in parallel...\n",
      "Time taken: 0.08 seconds\n",
      "Warming up Numba JIT...\n",
      "Processing 500 sequence pairs in parallel...\n",
      "Time taken: 0.08 seconds\n",
      "Warming up Numba JIT...\n",
      "Processing 9000 sequence pairs in parallel...\n"
     ]
    },
    {
     "name": "stderr",
     "output_type": "stream",
     "text": [
      "Processing llama_1.5B_Standard_GBS_120_EPOCH_75:  37%|███▋      | 7/19 [02:02<03:30, 17.54s/it]"
     ]
    },
    {
     "name": "stdout",
     "output_type": "stream",
     "text": [
      "Time taken: 1.43 seconds\n",
      "Warming up Numba JIT...\n",
      "Processing 500 sequence pairs in parallel...\n",
      "Time taken: 0.08 seconds\n",
      "Warming up Numba JIT...\n",
      "Processing 500 sequence pairs in parallel...\n",
      "Time taken: 0.08 seconds\n",
      "Warming up Numba JIT...\n",
      "Processing 9000 sequence pairs in parallel...\n",
      "Time taken: 1.57 seconds\n",
      "Warming up Numba JIT...\n",
      "Processing 500 sequence pairs in parallel...\n",
      "Time taken: 0.09 seconds\n",
      "Warming up Numba JIT...\n",
      "Processing 500 sequence pairs in parallel...\n",
      "Time taken: 0.09 seconds\n"
     ]
    },
    {
     "name": "stderr",
     "output_type": "stream",
     "text": [
      "Processing llama_1.5B_Standard_GBS_120_EPOCH_75:  42%|████▏     | 8/19 [02:20<03:14, 17.65s/it]"
     ]
    },
    {
     "name": "stdout",
     "output_type": "stream",
     "text": [
      "Warming up Numba JIT...\n",
      "Processing 9000 sequence pairs in parallel...\n"
     ]
    },
    {
     "name": "stderr",
     "output_type": "stream",
     "text": [
      "Processing llama_1.5B_Standard_GBS_120_EPOCH_75:  47%|████▋     | 9/19 [02:38<02:56, 17.65s/it]"
     ]
    },
    {
     "name": "stdout",
     "output_type": "stream",
     "text": [
      "Time taken: 1.44 seconds\n",
      "Warming up Numba JIT...\n",
      "Processing 500 sequence pairs in parallel...\n",
      "Time taken: 0.08 seconds\n",
      "Warming up Numba JIT...\n",
      "Processing 500 sequence pairs in parallel...\n",
      "Time taken: 0.08 seconds\n",
      "Warming up Numba JIT...\n",
      "Processing 9000 sequence pairs in parallel...\n"
     ]
    },
    {
     "name": "stderr",
     "output_type": "stream",
     "text": [
      "Processing llama_1.5B_Standard_GBS_120_EPOCH_75:  53%|█████▎    | 10/19 [02:55<02:39, 17.70s/it]"
     ]
    },
    {
     "name": "stdout",
     "output_type": "stream",
     "text": [
      "Time taken: 1.55 seconds\n",
      "Warming up Numba JIT...\n",
      "Processing 500 sequence pairs in parallel...\n",
      "Time taken: 0.08 seconds\n",
      "Warming up Numba JIT...\n",
      "Processing 500 sequence pairs in parallel...\n",
      "Time taken: 0.08 seconds\n",
      "Warming up Numba JIT...\n",
      "Processing 9000 sequence pairs in parallel...\n"
     ]
    },
    {
     "name": "stderr",
     "output_type": "stream",
     "text": [
      "Processing llama_1.5B_Standard_GBS_120_EPOCH_75:  58%|█████▊    | 11/19 [03:13<02:22, 17.82s/it]"
     ]
    },
    {
     "name": "stdout",
     "output_type": "stream",
     "text": [
      "Time taken: 1.50 seconds\n",
      "Warming up Numba JIT...\n",
      "Processing 500 sequence pairs in parallel...\n",
      "Time taken: 0.08 seconds\n",
      "Warming up Numba JIT...\n",
      "Processing 500 sequence pairs in parallel...\n",
      "Time taken: 0.08 seconds\n",
      "Warming up Numba JIT...\n",
      "Processing 9000 sequence pairs in parallel...\n"
     ]
    },
    {
     "name": "stderr",
     "output_type": "stream",
     "text": [
      "Processing llama_1.5B_Standard_GBS_120_EPOCH_75:  63%|██████▎   | 12/19 [03:31<02:04, 17.83s/it]"
     ]
    },
    {
     "name": "stdout",
     "output_type": "stream",
     "text": [
      "Time taken: 1.62 seconds\n",
      "Warming up Numba JIT...\n",
      "Processing 500 sequence pairs in parallel...\n",
      "Time taken: 0.09 seconds\n",
      "Warming up Numba JIT...\n",
      "Processing 500 sequence pairs in parallel...\n",
      "Time taken: 0.09 seconds\n",
      "Warming up Numba JIT...\n",
      "Processing 9000 sequence pairs in parallel...\n"
     ]
    },
    {
     "name": "stderr",
     "output_type": "stream",
     "text": [
      "Processing llama_1.5B_Standard_GBS_120_EPOCH_75:  68%|██████▊   | 13/19 [03:49<01:46, 17.77s/it]"
     ]
    },
    {
     "name": "stdout",
     "output_type": "stream",
     "text": [
      "Time taken: 1.50 seconds\n",
      "Warming up Numba JIT...\n",
      "Processing 500 sequence pairs in parallel...\n",
      "Time taken: 0.08 seconds\n",
      "Warming up Numba JIT...\n",
      "Processing 500 sequence pairs in parallel...\n",
      "Time taken: 0.08 seconds\n",
      "Warming up Numba JIT...\n",
      "Processing 9000 sequence pairs in parallel...\n",
      "Time taken: 1.62 seconds\n",
      "Warming up Numba JIT...\n",
      "Processing 500 sequence pairs in parallel...\n",
      "Time taken: 0.08 seconds\n",
      "Warming up Numba JIT...\n",
      "Processing 500 sequence pairs in parallel...\n"
     ]
    },
    {
     "name": "stderr",
     "output_type": "stream",
     "text": [
      "Processing llama_1.5B_Standard_GBS_120_EPOCH_75:  74%|███████▎  | 14/19 [04:07<01:28, 17.74s/it]"
     ]
    },
    {
     "name": "stdout",
     "output_type": "stream",
     "text": [
      "Time taken: 0.08 seconds\n",
      "Warming up Numba JIT...\n",
      "Processing 9000 sequence pairs in parallel...\n"
     ]
    },
    {
     "name": "stderr",
     "output_type": "stream",
     "text": [
      "Processing llama_1.5B_Standard_GBS_120_EPOCH_75:  79%|███████▉  | 15/19 [04:24<01:10, 17.71s/it]"
     ]
    },
    {
     "name": "stdout",
     "output_type": "stream",
     "text": [
      "Time taken: 1.56 seconds\n",
      "Warming up Numba JIT...\n",
      "Processing 500 sequence pairs in parallel...\n",
      "Time taken: 0.08 seconds\n",
      "Warming up Numba JIT...\n",
      "Processing 500 sequence pairs in parallel...\n",
      "Time taken: 0.08 seconds\n",
      "Warming up Numba JIT...\n",
      "Processing 9000 sequence pairs in parallel...\n",
      "Time taken: 1.66 seconds\n",
      "Warming up Numba JIT...\n",
      "Processing 500 sequence pairs in parallel...\n",
      "Time taken: 0.09 seconds\n",
      "Warming up Numba JIT...\n",
      "Processing 500 sequence pairs in parallel...\n",
      "Time taken: 0.09 seconds\n"
     ]
    },
    {
     "name": "stderr",
     "output_type": "stream",
     "text": [
      "Processing llama_1.5B_Standard_GBS_120_EPOCH_75:  84%|████████▍ | 16/19 [04:43<00:53, 17.88s/it]"
     ]
    },
    {
     "name": "stdout",
     "output_type": "stream",
     "text": [
      "Warming up Numba JIT...\n",
      "Processing 9000 sequence pairs in parallel...\n"
     ]
    },
    {
     "name": "stderr",
     "output_type": "stream",
     "text": [
      "Processing llama_1.5B_Standard_GBS_120_EPOCH_75:  89%|████████▉ | 17/19 [05:00<00:35, 17.86s/it]"
     ]
    },
    {
     "name": "stdout",
     "output_type": "stream",
     "text": [
      "Time taken: 1.55 seconds\n",
      "Warming up Numba JIT...\n",
      "Processing 500 sequence pairs in parallel...\n",
      "Time taken: 0.08 seconds\n",
      "Warming up Numba JIT...\n",
      "Processing 500 sequence pairs in parallel...\n",
      "Time taken: 0.08 seconds\n",
      "Warming up Numba JIT...\n",
      "Processing 9000 sequence pairs in parallel...\n"
     ]
    },
    {
     "name": "stderr",
     "output_type": "stream",
     "text": [
      "Processing llama_1.5B_Standard_GBS_120_EPOCH_75:  95%|█████████▍| 18/19 [05:18<00:17, 17.91s/it]"
     ]
    },
    {
     "name": "stdout",
     "output_type": "stream",
     "text": [
      "Time taken: 1.64 seconds\n",
      "Warming up Numba JIT...\n",
      "Processing 500 sequence pairs in parallel...\n",
      "Time taken: 0.08 seconds\n",
      "Warming up Numba JIT...\n",
      "Processing 500 sequence pairs in parallel...\n",
      "Time taken: 0.08 seconds\n",
      "Warming up Numba JIT...\n",
      "Processing 9000 sequence pairs in parallel...\n"
     ]
    },
    {
     "name": "stderr",
     "output_type": "stream",
     "text": [
      "Processing llama_1.5B_Standard_GBS_120_EPOCH_75: 100%|██████████| 19/19 [05:36<00:00, 17.73s/it]"
     ]
    },
    {
     "name": "stdout",
     "output_type": "stream",
     "text": [
      "Time taken: 1.63 seconds\n",
      "Warming up Numba JIT...\n",
      "Processing 500 sequence pairs in parallel...\n",
      "Time taken: 0.08 seconds\n",
      "Warming up Numba JIT...\n",
      "Processing 500 sequence pairs in parallel...\n",
      "Time taken: 0.08 seconds\n"
     ]
    },
    {
     "name": "stderr",
     "output_type": "stream",
     "text": [
      "\n"
     ]
    }
   ],
   "source": [
    "base_dir = \"/mloscratch/homes/yixuan/PDM/inference\"\n",
    "model_ids = [\n",
    "    \"llama_1.5B_Goldfish_K_5_H_13_GBS_120_EPOCH_93\",\n",
    "    \"llama_1.5B_Goldfish_K_10_H_13_GBS_120_EPOCH_83\",\n",
    "    \"llama_1.5B_Goldfish_K_21_H_13_GBS_120_EPOCH_79\",\n",
    "    \"llama_1.5B_Standard_GBS_120_EPOCH_75\"\n",
    "]\n",
    "results = calc_avg_lcs_lengths(base_dir, model_ids)"
   ]
  },
  {
   "cell_type": "code",
   "execution_count": null,
   "metadata": {},
   "outputs": [],
   "source": []
  },
  {
   "cell_type": "code",
   "execution_count": 12,
   "metadata": {},
   "outputs": [
    {
     "data": {
      "image/png": "[encoded data removed]",
      "text/plain": [
       "<Figure size 1200x600 with 1 Axes>"
      ]
     },
     "metadata": {},
     "output_type": "display_data"
    }
   ],
   "source": [
    "plot_comparison(\n",
    "    results=results, \n",
    "    include_ckpts=[\n",
    "        \"llama_1.5B_Goldfish_K_5_H_13_GBS_120_EPOCH_93\",\n",
    "        \"llama_1.5B_Goldfish_K_10_H_13_GBS_120_EPOCH_83\",\n",
    "        \"llama_1.5B_Goldfish_K_21_H_13_GBS_120_EPOCH_79\",\n",
    "        # \"llama_1.5B_Standard_GBS_120_EPOCH_75\"\n",
    "    ], \n",
    "    include_splits=[\n",
    "        'train', \n",
    "        # 'val', \n",
    "        # 'test'\n",
    "    ],\n",
    "    title='Average Longest Verbatim Memorisation Length vs Training Epochs'\n",
    ")"
   ]
  },
  {
   "cell_type": "code",
   "execution_count": 15,
   "metadata": {},
   "outputs": [],
   "source": [
    "import pickle  # or import json\n",
    "import os\n",
    "\n",
    "# Using pickle (better for complex Python objects)\n",
    "def save_results(results, save_path):\n",
    "    \"\"\"\n",
    "    Save results dictionary to a file\n",
    "    \n",
    "    Parameters\n",
    "    ----------\n",
    "    results : dict\n",
    "        Dictionary containing results\n",
    "    save_path : str\n",
    "        Path to save the results (e.g., 'results/data.pkl')\n",
    "    \"\"\"\n",
    "    # Create directory if it doesn't exist\n",
    "    save_dir = os.path.dirname(save_path)\n",
    "    if save_dir:\n",
    "        os.makedirs(save_dir, exist_ok=True)\n",
    "        \n",
    "    with open(save_path, 'wb') as f:\n",
    "        pickle.dump(results, f)"
   ]
  },
  {
   "cell_type": "code",
   "execution_count": 16,
   "metadata": {},
   "outputs": [],
   "source": [
    "save_results(results, '../results/avg_lcs.pkl')"
   ]
  },
  {
   "cell_type": "code",
   "execution_count": 11,
   "metadata": {},
   "outputs": [],
   "source": [
    "def calc_avg_cs_lengths(base_dir, model_ids):\n",
    "    \"\"\"\n",
    "    Calculate average common substring lengths for multiple models with data split into train/val/test\n",
    "    \n",
    "    Parameters\n",
    "    ----------\n",
    "    base_dir : str\n",
    "        Base directory containing all model results\n",
    "    model_ids : list\n",
    "        List of model identifiers to process\n",
    "        \n",
    "    Returns\n",
    "    -------\n",
    "    dict\n",
    "        Dictionary mapping model names to their results with split information\n",
    "    \"\"\"\n",
    "    results = {}\n",
    "    for model_id in model_ids:\n",
    "        expr_dir = f\"{base_dir}/{model_id}\"\n",
    "        ckpts = get_checkpoints(expr_dir)\n",
    "        \n",
    "        steps, avg_lengths = [], []\n",
    "        for step, consumed in tqdm(ckpts, desc=f\"Processing {model_id}\"):\n",
    "            data = load_inference_data(expr_dir, step, consumed)\n",
    "            \n",
    "            # Calculate split indices\n",
    "            n_total = len(data['true_suffix'])\n",
    "            n_train = int(n_total * 0.9)\n",
    "            n_val = int(n_total * 0.05)\n",
    "            \n",
    "            # Split data\n",
    "            splits = {\n",
    "                'train': {\n",
    "                    'true_suffix': data['true_suffix'][:n_train],\n",
    "                    'generated_suffix': data['generated_suffix'][:n_train]\n",
    "                },\n",
    "                'val': {\n",
    "                    'true_suffix': data['true_suffix'][n_train:n_train + n_val],\n",
    "                    'generated_suffix': data['generated_suffix'][n_train:n_train + n_val]\n",
    "                },\n",
    "                'test': {\n",
    "                    'true_suffix': data['true_suffix'][n_train + n_val:],\n",
    "                    'generated_suffix': data['generated_suffix'][n_train + n_val:]\n",
    "                }\n",
    "            }\n",
    "            \n",
    "            # Calculate CS for each split\n",
    "            cs_results = {}\n",
    "            for split_name, split_data in splits.items():\n",
    "                cs_master = CommonSubstringMatcher(\n",
    "                    split_data['true_suffix'], \n",
    "                    split_data['generated_suffix']\n",
    "                )\n",
    "                matches = cs_master.get_all_matches()\n",
    "                # Using nanmean for samples with all None matches\n",
    "                cs_results[split_name] = np.nanmean([\n",
    "                    np.mean([match.length if match is not None else 0 for match in sample])\n",
    "                    for sample in matches\n",
    "                ])\n",
    "            \n",
    "            steps.append(step)\n",
    "            avg_lengths.append(cs_results)\n",
    "            \n",
    "        # Reorganize results by split\n",
    "        split_results = {\n",
    "            'train': {'steps': steps, 'avg_lengths': [r['train'] for r in avg_lengths]},\n",
    "            'val': {'steps': steps, 'avg_lengths': [r['val'] for r in avg_lengths]},\n",
    "            'test': {'steps': steps, 'avg_lengths': [r['test'] for r in avg_lengths]}\n",
    "        }\n",
    "        \n",
    "        results[model_id] = split_results\n",
    "    \n",
    "    return results"
   ]
  },
  {
   "cell_type": "code",
   "execution_count": 12,
   "metadata": {},
   "outputs": [],
   "source": [
    "base_dir = \"/mloscratch/homes/yixuan/PDM/inference\"\n",
    "model_ids = [\n",
    "    \"llama_1.5B_Goldfish_K_5_H_13_GBS_120_EPOCH_93\",\n",
    "    \"llama_1.5B_Goldfish_K_10_H_13_GBS_120_EPOCH_83\",\n",
    "    \"llama_1.5B_Goldfish_K_21_H_13_GBS_120_EPOCH_79\",\n",
    "    \"llama_1.5B_Standard_GBS_120_EPOCH_75\"\n",
    "]"
   ]
  },
  {
   "cell_type": "code",
   "execution_count": 13,
   "metadata": {},
   "outputs": [
    {
     "name": "stderr",
     "output_type": "stream",
     "text": [
      "Processing llama_1.5B_Goldfish_K_5_H_13_GBS_120_EPOCH_93:   0%|          | 0/23 [00:00<?, ?it/s]"
     ]
    },
    {
     "name": "stdout",
     "output_type": "stream",
     "text": [
      "Computed DP matrices in 3.24 seconds.\n"
     ]
    },
    {
     "name": "stderr",
     "output_type": "stream",
     "text": [
      "Finding matches: 100%|██████████| 9000/9000 [00:15<00:00, 597.48sequence/s]\n",
      "/usr/local/lib/python3.10/dist-packages/numpy/core/fromnumeric.py:3464: RuntimeWarning: Mean of empty slice.\n",
      "  return _methods._mean(a, axis=axis, dtype=dtype,\n",
      "/usr/local/lib/python3.10/dist-packages/numpy/core/_methods.py:192: RuntimeWarning: invalid value encountered in scalar divide\n",
      "  ret = ret.dtype.type(ret / rcount)\n"
     ]
    },
    {
     "name": "stdout",
     "output_type": "stream",
     "text": [
      "Computed DP matrices in 0.06 seconds.\n"
     ]
    },
    {
     "name": "stderr",
     "output_type": "stream",
     "text": [
      "Finding matches: 100%|██████████| 500/500 [00:00<00:00, 943.35sequence/s] \n"
     ]
    },
    {
     "name": "stdout",
     "output_type": "stream",
     "text": [
      "Computed DP matrices in 0.06 seconds.\n"
     ]
    },
    {
     "name": "stderr",
     "output_type": "stream",
     "text": [
      "Finding matches: 100%|██████████| 500/500 [00:00<00:00, 1087.32sequence/s]\n",
      "Processing llama_1.5B_Goldfish_K_5_H_13_GBS_120_EPOCH_93:   4%|▍         | 1/23 [00:36<13:27, 36.69s/it]"
     ]
    },
    {
     "name": "stdout",
     "output_type": "stream",
     "text": [
      "Computed DP matrices in 0.86 seconds.\n"
     ]
    },
    {
     "name": "stderr",
     "output_type": "stream",
     "text": [
      "Finding matches: 100%|██████████| 9000/9000 [00:11<00:00, 786.71sequence/s]\n"
     ]
    },
    {
     "name": "stdout",
     "output_type": "stream",
     "text": [
      "Computed DP matrices in 0.05 seconds.\n"
     ]
    },
    {
     "name": "stderr",
     "output_type": "stream",
     "text": [
      "Finding matches: 100%|██████████| 500/500 [00:00<00:00, 966.25sequence/s]\n"
     ]
    },
    {
     "name": "stdout",
     "output_type": "stream",
     "text": [
      "Computed DP matrices in 0.05 seconds.\n"
     ]
    },
    {
     "name": "stderr",
     "output_type": "stream",
     "text": [
      "Finding matches: 100%|██████████| 500/500 [00:00<00:00, 1187.12sequence/s]\n",
      "Processing llama_1.5B_Goldfish_K_5_H_13_GBS_120_EPOCH_93:   9%|▊         | 2/23 [01:07<11:39, 33.30s/it]"
     ]
    },
    {
     "name": "stdout",
     "output_type": "stream",
     "text": [
      "Computed DP matrices in 0.86 seconds.\n"
     ]
    },
    {
     "name": "stderr",
     "output_type": "stream",
     "text": [
      "Finding matches: 100%|██████████| 9000/9000 [00:10<00:00, 897.75sequence/s] \n"
     ]
    },
    {
     "name": "stdout",
     "output_type": "stream",
     "text": [
      "Computed DP matrices in 0.06 seconds.\n"
     ]
    },
    {
     "name": "stderr",
     "output_type": "stream",
     "text": [
      "Finding matches: 100%|██████████| 500/500 [00:00<00:00, 613.26sequence/s]\n"
     ]
    },
    {
     "name": "stdout",
     "output_type": "stream",
     "text": [
      "Computed DP matrices in 0.06 seconds.\n"
     ]
    },
    {
     "name": "stderr",
     "output_type": "stream",
     "text": [
      "Finding matches: 100%|██████████| 500/500 [00:00<00:00, 1263.98sequence/s]\n",
      "Processing llama_1.5B_Goldfish_K_5_H_13_GBS_120_EPOCH_93:  13%|█▎        | 3/23 [01:36<10:26, 31.31s/it]"
     ]
    },
    {
     "name": "stdout",
     "output_type": "stream",
     "text": [
      "Computed DP matrices in 0.86 seconds.\n"
     ]
    },
    {
     "name": "stderr",
     "output_type": "stream",
     "text": [
      "Finding matches: 100%|██████████| 9000/9000 [00:08<00:00, 1027.57sequence/s]\n"
     ]
    },
    {
     "name": "stdout",
     "output_type": "stream",
     "text": [
      "Computed DP matrices in 0.06 seconds.\n"
     ]
    },
    {
     "name": "stderr",
     "output_type": "stream",
     "text": [
      "Finding matches: 100%|██████████| 500/500 [00:00<00:00, 1335.38sequence/s]\n"
     ]
    },
    {
     "name": "stdout",
     "output_type": "stream",
     "text": [
      "Computed DP matrices in 0.05 seconds.\n"
     ]
    },
    {
     "name": "stderr",
     "output_type": "stream",
     "text": [
      "Finding matches: 100%|██████████| 500/500 [00:00<00:00, 1447.75sequence/s]\n",
      "Processing llama_1.5B_Goldfish_K_5_H_13_GBS_120_EPOCH_93:  17%|█▋        | 4/23 [02:03<09:20, 29.51s/it]"
     ]
    },
    {
     "name": "stdout",
     "output_type": "stream",
     "text": [
      "Computed DP matrices in 0.81 seconds.\n"
     ]
    },
    {
     "name": "stderr",
     "output_type": "stream",
     "text": [
      "Finding matches: 100%|██████████| 9000/9000 [00:08<00:00, 1034.15sequence/s]\n"
     ]
    },
    {
     "name": "stdout",
     "output_type": "stream",
     "text": [
      "Computed DP matrices in 0.06 seconds.\n"
     ]
    },
    {
     "name": "stderr",
     "output_type": "stream",
     "text": [
      "Finding matches: 100%|██████████| 500/500 [00:00<00:00, 1437.03sequence/s]\n"
     ]
    },
    {
     "name": "stdout",
     "output_type": "stream",
     "text": [
      "Computed DP matrices in 0.05 seconds.\n"
     ]
    },
    {
     "name": "stderr",
     "output_type": "stream",
     "text": [
      "Finding matches: 100%|██████████| 500/500 [00:00<00:00, 1483.73sequence/s]\n",
      "Processing llama_1.5B_Goldfish_K_5_H_13_GBS_120_EPOCH_93:  22%|██▏       | 5/23 [02:29<08:32, 28.47s/it]"
     ]
    },
    {
     "name": "stdout",
     "output_type": "stream",
     "text": [
      "Computed DP matrices in 0.87 seconds.\n"
     ]
    },
    {
     "name": "stderr",
     "output_type": "stream",
     "text": [
      "Finding matches: 100%|██████████| 9000/9000 [00:08<00:00, 1025.58sequence/s]\n"
     ]
    },
    {
     "name": "stdout",
     "output_type": "stream",
     "text": [
      "Computed DP matrices in 0.05 seconds.\n"
     ]
    },
    {
     "name": "stderr",
     "output_type": "stream",
     "text": [
      "Finding matches: 100%|██████████| 500/500 [00:00<00:00, 1425.60sequence/s]\n"
     ]
    },
    {
     "name": "stdout",
     "output_type": "stream",
     "text": [
      "Computed DP matrices in 0.06 seconds.\n"
     ]
    },
    {
     "name": "stderr",
     "output_type": "stream",
     "text": [
      "Finding matches: 100%|██████████| 500/500 [00:00<00:00, 1496.86sequence/s]\n",
      "Processing llama_1.5B_Goldfish_K_5_H_13_GBS_120_EPOCH_93:  26%|██▌       | 6/23 [02:57<07:56, 28.03s/it]"
     ]
    },
    {
     "name": "stdout",
     "output_type": "stream",
     "text": [
      "Computed DP matrices in 0.72 seconds.\n"
     ]
    },
    {
     "name": "stderr",
     "output_type": "stream",
     "text": [
      "Finding matches: 100%|██████████| 9000/9000 [00:08<00:00, 1042.98sequence/s]\n"
     ]
    },
    {
     "name": "stdout",
     "output_type": "stream",
     "text": [
      "Computed DP matrices in 0.06 seconds.\n"
     ]
    },
    {
     "name": "stderr",
     "output_type": "stream",
     "text": [
      "Finding matches: 100%|██████████| 500/500 [00:00<00:00, 1435.95sequence/s]\n"
     ]
    },
    {
     "name": "stdout",
     "output_type": "stream",
     "text": [
      "Computed DP matrices in 0.06 seconds.\n"
     ]
    },
    {
     "name": "stderr",
     "output_type": "stream",
     "text": [
      "Finding matches: 100%|██████████| 500/500 [00:00<00:00, 1455.63sequence/s]\n",
      "Processing llama_1.5B_Goldfish_K_5_H_13_GBS_120_EPOCH_93:  30%|███       | 7/23 [03:23<07:22, 27.63s/it]"
     ]
    },
    {
     "name": "stdout",
     "output_type": "stream",
     "text": [
      "Computed DP matrices in 0.79 seconds.\n"
     ]
    },
    {
     "name": "stderr",
     "output_type": "stream",
     "text": [
      "Finding matches: 100%|██████████| 9000/9000 [00:09<00:00, 991.93sequence/s]\n"
     ]
    },
    {
     "name": "stdout",
     "output_type": "stream",
     "text": [
      "Computed DP matrices in 0.06 seconds.\n"
     ]
    },
    {
     "name": "stderr",
     "output_type": "stream",
     "text": [
      "Finding matches: 100%|██████████| 500/500 [00:00<00:00, 1400.63sequence/s]\n"
     ]
    },
    {
     "name": "stdout",
     "output_type": "stream",
     "text": [
      "Computed DP matrices in 0.05 seconds.\n"
     ]
    },
    {
     "name": "stderr",
     "output_type": "stream",
     "text": [
      "Finding matches: 100%|██████████| 500/500 [00:00<00:00, 1491.04sequence/s]\n",
      "Processing llama_1.5B_Goldfish_K_5_H_13_GBS_120_EPOCH_93:  35%|███▍      | 8/23 [03:51<06:53, 27.54s/it]"
     ]
    },
    {
     "name": "stdout",
     "output_type": "stream",
     "text": [
      "Computed DP matrices in 0.82 seconds.\n"
     ]
    },
    {
     "name": "stderr",
     "output_type": "stream",
     "text": [
      "Finding matches: 100%|██████████| 9000/9000 [00:08<00:00, 1037.57sequence/s]\n"
     ]
    },
    {
     "name": "stdout",
     "output_type": "stream",
     "text": [
      "Computed DP matrices in 0.05 seconds.\n"
     ]
    },
    {
     "name": "stderr",
     "output_type": "stream",
     "text": [
      "Finding matches: 100%|██████████| 500/500 [00:00<00:00, 1466.41sequence/s]\n"
     ]
    },
    {
     "name": "stdout",
     "output_type": "stream",
     "text": [
      "Computed DP matrices in 0.06 seconds.\n"
     ]
    },
    {
     "name": "stderr",
     "output_type": "stream",
     "text": [
      "Finding matches: 100%|██████████| 500/500 [00:00<00:00, 1469.63sequence/s]\n",
      "Processing llama_1.5B_Goldfish_K_5_H_13_GBS_120_EPOCH_93:  39%|███▉      | 9/23 [04:18<06:22, 27.31s/it]"
     ]
    },
    {
     "name": "stdout",
     "output_type": "stream",
     "text": [
      "Computed DP matrices in 0.81 seconds.\n"
     ]
    },
    {
     "name": "stderr",
     "output_type": "stream",
     "text": [
      "Finding matches: 100%|██████████| 9000/9000 [00:08<00:00, 1035.84sequence/s]\n"
     ]
    },
    {
     "name": "stdout",
     "output_type": "stream",
     "text": [
      "Computed DP matrices in 0.06 seconds.\n"
     ]
    },
    {
     "name": "stderr",
     "output_type": "stream",
     "text": [
      "Finding matches: 100%|██████████| 500/500 [00:00<00:00, 696.75sequence/s]\n"
     ]
    },
    {
     "name": "stdout",
     "output_type": "stream",
     "text": [
      "Computed DP matrices in 0.06 seconds.\n"
     ]
    },
    {
     "name": "stderr",
     "output_type": "stream",
     "text": [
      "Finding matches: 100%|██████████| 500/500 [00:00<00:00, 1561.25sequence/s]\n",
      "Processing llama_1.5B_Goldfish_K_5_H_13_GBS_120_EPOCH_93:  43%|████▎     | 10/23 [04:46<05:58, 27.61s/it]"
     ]
    },
    {
     "name": "stdout",
     "output_type": "stream",
     "text": [
      "Computed DP matrices in 0.80 seconds.\n"
     ]
    },
    {
     "name": "stderr",
     "output_type": "stream",
     "text": [
      "Finding matches: 100%|██████████| 9000/9000 [00:08<00:00, 1079.79sequence/s]\n"
     ]
    },
    {
     "name": "stdout",
     "output_type": "stream",
     "text": [
      "Computed DP matrices in 0.05 seconds.\n"
     ]
    },
    {
     "name": "stderr",
     "output_type": "stream",
     "text": [
      "Finding matches: 100%|██████████| 500/500 [00:00<00:00, 696.28sequence/s] \n"
     ]
    },
    {
     "name": "stdout",
     "output_type": "stream",
     "text": [
      "Computed DP matrices in 0.05 seconds.\n"
     ]
    },
    {
     "name": "stderr",
     "output_type": "stream",
     "text": [
      "Finding matches: 100%|██████████| 500/500 [00:00<00:00, 1476.84sequence/s]\n",
      "Processing llama_1.5B_Goldfish_K_5_H_13_GBS_120_EPOCH_93:  48%|████▊     | 11/23 [05:12<05:26, 27.21s/it]"
     ]
    },
    {
     "name": "stdout",
     "output_type": "stream",
     "text": [
      "Computed DP matrices in 0.70 seconds.\n"
     ]
    },
    {
     "name": "stderr",
     "output_type": "stream",
     "text": [
      "Finding matches: 100%|██████████| 9000/9000 [00:08<00:00, 1057.54sequence/s]\n"
     ]
    },
    {
     "name": "stdout",
     "output_type": "stream",
     "text": [
      "Computed DP matrices in 0.05 seconds.\n"
     ]
    },
    {
     "name": "stderr",
     "output_type": "stream",
     "text": [
      "Finding matches: 100%|██████████| 500/500 [00:00<00:00, 1365.04sequence/s]\n"
     ]
    },
    {
     "name": "stdout",
     "output_type": "stream",
     "text": [
      "Computed DP matrices in 0.05 seconds.\n"
     ]
    },
    {
     "name": "stderr",
     "output_type": "stream",
     "text": [
      "Finding matches: 100%|██████████| 500/500 [00:00<00:00, 1495.39sequence/s]\n",
      "Processing llama_1.5B_Goldfish_K_5_H_13_GBS_120_EPOCH_93:  52%|█████▏    | 12/23 [05:38<04:55, 26.90s/it]"
     ]
    },
    {
     "name": "stdout",
     "output_type": "stream",
     "text": [
      "Computed DP matrices in 0.78 seconds.\n"
     ]
    },
    {
     "name": "stderr",
     "output_type": "stream",
     "text": [
      "Finding matches: 100%|██████████| 9000/9000 [00:08<00:00, 1001.37sequence/s]\n"
     ]
    },
    {
     "name": "stdout",
     "output_type": "stream",
     "text": [
      "Computed DP matrices in 0.06 seconds.\n"
     ]
    },
    {
     "name": "stderr",
     "output_type": "stream",
     "text": [
      "Finding matches: 100%|██████████| 500/500 [00:00<00:00, 1411.18sequence/s]\n"
     ]
    },
    {
     "name": "stdout",
     "output_type": "stream",
     "text": [
      "Computed DP matrices in 0.05 seconds.\n"
     ]
    },
    {
     "name": "stderr",
     "output_type": "stream",
     "text": [
      "Finding matches: 100%|██████████| 500/500 [00:00<00:00, 1462.93sequence/s]\n",
      "Processing llama_1.5B_Goldfish_K_5_H_13_GBS_120_EPOCH_93:  57%|█████▋    | 13/23 [06:06<04:32, 27.21s/it]"
     ]
    },
    {
     "name": "stdout",
     "output_type": "stream",
     "text": [
      "Computed DP matrices in 0.82 seconds.\n"
     ]
    },
    {
     "name": "stderr",
     "output_type": "stream",
     "text": [
      "Finding matches: 100%|██████████| 9000/9000 [00:09<00:00, 995.67sequence/s]\n"
     ]
    },
    {
     "name": "stdout",
     "output_type": "stream",
     "text": [
      "Computed DP matrices in 0.05 seconds.\n"
     ]
    },
    {
     "name": "stderr",
     "output_type": "stream",
     "text": [
      "Finding matches: 100%|██████████| 500/500 [00:00<00:00, 1363.46sequence/s]\n"
     ]
    },
    {
     "name": "stdout",
     "output_type": "stream",
     "text": [
      "Computed DP matrices in 0.05 seconds.\n"
     ]
    },
    {
     "name": "stderr",
     "output_type": "stream",
     "text": [
      "Finding matches: 100%|██████████| 500/500 [00:00<00:00, 1450.20sequence/s]\n",
      "Processing llama_1.5B_Goldfish_K_5_H_13_GBS_120_EPOCH_93:  61%|██████    | 14/23 [06:35<04:08, 27.61s/it]"
     ]
    },
    {
     "name": "stdout",
     "output_type": "stream",
     "text": [
      "Computed DP matrices in 0.71 seconds.\n"
     ]
    },
    {
     "name": "stderr",
     "output_type": "stream",
     "text": [
      "Finding matches: 100%|██████████| 9000/9000 [00:08<00:00, 1042.52sequence/s]\n"
     ]
    },
    {
     "name": "stdout",
     "output_type": "stream",
     "text": [
      "Computed DP matrices in 0.05 seconds.\n"
     ]
    },
    {
     "name": "stderr",
     "output_type": "stream",
     "text": [
      "Finding matches: 100%|██████████| 500/500 [00:00<00:00, 1383.93sequence/s]\n"
     ]
    },
    {
     "name": "stdout",
     "output_type": "stream",
     "text": [
      "Computed DP matrices in 0.05 seconds.\n"
     ]
    },
    {
     "name": "stderr",
     "output_type": "stream",
     "text": [
      "Finding matches: 100%|██████████| 500/500 [00:00<00:00, 1490.26sequence/s]\n",
      "Processing llama_1.5B_Goldfish_K_5_H_13_GBS_120_EPOCH_93:  65%|██████▌   | 15/23 [07:03<03:42, 27.77s/it]"
     ]
    },
    {
     "name": "stdout",
     "output_type": "stream",
     "text": [
      "Computed DP matrices in 0.77 seconds.\n"
     ]
    },
    {
     "name": "stderr",
     "output_type": "stream",
     "text": [
      "Finding matches: 100%|██████████| 9000/9000 [00:08<00:00, 1011.63sequence/s]\n"
     ]
    },
    {
     "name": "stdout",
     "output_type": "stream",
     "text": [
      "Computed DP matrices in 0.05 seconds.\n"
     ]
    },
    {
     "name": "stderr",
     "output_type": "stream",
     "text": [
      "Finding matches: 100%|██████████| 500/500 [00:00<00:00, 1364.37sequence/s]\n"
     ]
    },
    {
     "name": "stdout",
     "output_type": "stream",
     "text": [
      "Computed DP matrices in 0.06 seconds.\n"
     ]
    },
    {
     "name": "stderr",
     "output_type": "stream",
     "text": [
      "Finding matches: 100%|██████████| 500/500 [00:00<00:00, 1473.06sequence/s]\n",
      "Processing llama_1.5B_Goldfish_K_5_H_13_GBS_120_EPOCH_93:  70%|██████▉   | 16/23 [07:30<03:12, 27.52s/it]"
     ]
    },
    {
     "name": "stdout",
     "output_type": "stream",
     "text": [
      "Computed DP matrices in 0.78 seconds.\n"
     ]
    },
    {
     "name": "stderr",
     "output_type": "stream",
     "text": [
      "Finding matches: 100%|██████████| 9000/9000 [00:08<00:00, 1006.63sequence/s]\n"
     ]
    },
    {
     "name": "stdout",
     "output_type": "stream",
     "text": [
      "Computed DP matrices in 0.05 seconds.\n"
     ]
    },
    {
     "name": "stderr",
     "output_type": "stream",
     "text": [
      "Finding matches: 100%|██████████| 500/500 [00:00<00:00, 1379.32sequence/s]\n"
     ]
    },
    {
     "name": "stdout",
     "output_type": "stream",
     "text": [
      "Computed DP matrices in 0.06 seconds.\n"
     ]
    },
    {
     "name": "stderr",
     "output_type": "stream",
     "text": [
      "Finding matches: 100%|██████████| 500/500 [00:00<00:00, 1465.28sequence/s]\n",
      "Processing llama_1.5B_Goldfish_K_5_H_13_GBS_120_EPOCH_93:  74%|███████▍  | 17/23 [07:58<02:46, 27.77s/it]"
     ]
    },
    {
     "name": "stdout",
     "output_type": "stream",
     "text": [
      "Computed DP matrices in 0.73 seconds.\n"
     ]
    },
    {
     "name": "stderr",
     "output_type": "stream",
     "text": [
      "Finding matches: 100%|██████████| 9000/9000 [00:08<00:00, 1026.09sequence/s]\n"
     ]
    },
    {
     "name": "stdout",
     "output_type": "stream",
     "text": [
      "Computed DP matrices in 0.05 seconds.\n"
     ]
    },
    {
     "name": "stderr",
     "output_type": "stream",
     "text": [
      "Finding matches: 100%|██████████| 500/500 [00:00<00:00, 680.19sequence/s]\n"
     ]
    },
    {
     "name": "stdout",
     "output_type": "stream",
     "text": [
      "Computed DP matrices in 0.05 seconds.\n"
     ]
    },
    {
     "name": "stderr",
     "output_type": "stream",
     "text": [
      "Finding matches: 100%|██████████| 500/500 [00:00<00:00, 1523.29sequence/s]\n",
      "Processing llama_1.5B_Goldfish_K_5_H_13_GBS_120_EPOCH_93:  78%|███████▊  | 18/23 [08:25<02:17, 27.59s/it]"
     ]
    },
    {
     "name": "stdout",
     "output_type": "stream",
     "text": [
      "Computed DP matrices in 0.72 seconds.\n"
     ]
    },
    {
     "name": "stderr",
     "output_type": "stream",
     "text": [
      "Finding matches: 100%|██████████| 9000/9000 [00:08<00:00, 1089.08sequence/s]\n"
     ]
    },
    {
     "name": "stdout",
     "output_type": "stream",
     "text": [
      "Computed DP matrices in 0.05 seconds.\n"
     ]
    },
    {
     "name": "stderr",
     "output_type": "stream",
     "text": [
      "Finding matches: 100%|██████████| 500/500 [00:00<00:00, 740.19sequence/s]\n"
     ]
    },
    {
     "name": "stdout",
     "output_type": "stream",
     "text": [
      "Computed DP matrices in 0.05 seconds.\n"
     ]
    },
    {
     "name": "stderr",
     "output_type": "stream",
     "text": [
      "Finding matches: 100%|██████████| 500/500 [00:00<00:00, 1477.89sequence/s]\n",
      "Processing llama_1.5B_Goldfish_K_5_H_13_GBS_120_EPOCH_93:  83%|████████▎ | 19/23 [08:53<01:49, 27.49s/it]"
     ]
    },
    {
     "name": "stdout",
     "output_type": "stream",
     "text": [
      "Computed DP matrices in 0.82 seconds.\n"
     ]
    },
    {
     "name": "stderr",
     "output_type": "stream",
     "text": [
      "Finding matches: 100%|██████████| 9000/9000 [00:08<00:00, 1058.03sequence/s]\n"
     ]
    },
    {
     "name": "stdout",
     "output_type": "stream",
     "text": [
      "Computed DP matrices in 0.05 seconds.\n"
     ]
    },
    {
     "name": "stderr",
     "output_type": "stream",
     "text": [
      "Finding matches: 100%|██████████| 500/500 [00:00<00:00, 1297.18sequence/s]\n"
     ]
    },
    {
     "name": "stdout",
     "output_type": "stream",
     "text": [
      "Computed DP matrices in 0.05 seconds.\n"
     ]
    },
    {
     "name": "stderr",
     "output_type": "stream",
     "text": [
      "Finding matches: 100%|██████████| 500/500 [00:00<00:00, 1510.09sequence/s]\n",
      "Processing llama_1.5B_Goldfish_K_5_H_13_GBS_120_EPOCH_93:  87%|████████▋ | 20/23 [09:20<01:22, 27.47s/it]"
     ]
    },
    {
     "name": "stdout",
     "output_type": "stream",
     "text": [
      "Computed DP matrices in 0.79 seconds.\n"
     ]
    },
    {
     "name": "stderr",
     "output_type": "stream",
     "text": [
      "Finding matches: 100%|██████████| 9000/9000 [00:08<00:00, 1033.14sequence/s]\n"
     ]
    },
    {
     "name": "stdout",
     "output_type": "stream",
     "text": [
      "Computed DP matrices in 0.05 seconds.\n"
     ]
    },
    {
     "name": "stderr",
     "output_type": "stream",
     "text": [
      "Finding matches: 100%|██████████| 500/500 [00:00<00:00, 1397.81sequence/s]\n"
     ]
    },
    {
     "name": "stdout",
     "output_type": "stream",
     "text": [
      "Computed DP matrices in 0.05 seconds.\n"
     ]
    },
    {
     "name": "stderr",
     "output_type": "stream",
     "text": [
      "Finding matches: 100%|██████████| 500/500 [00:00<00:00, 1493.22sequence/s]\n",
      "Processing llama_1.5B_Goldfish_K_5_H_13_GBS_120_EPOCH_93:  91%|█████████▏| 21/23 [09:47<00:54, 27.31s/it]"
     ]
    },
    {
     "name": "stdout",
     "output_type": "stream",
     "text": [
      "Computed DP matrices in 0.77 seconds.\n"
     ]
    },
    {
     "name": "stderr",
     "output_type": "stream",
     "text": [
      "Finding matches: 100%|██████████| 9000/9000 [00:08<00:00, 1017.15sequence/s]\n"
     ]
    },
    {
     "name": "stdout",
     "output_type": "stream",
     "text": [
      "Computed DP matrices in 0.05 seconds.\n"
     ]
    },
    {
     "name": "stderr",
     "output_type": "stream",
     "text": [
      "Finding matches: 100%|██████████| 500/500 [00:00<00:00, 1367.60sequence/s]\n"
     ]
    },
    {
     "name": "stdout",
     "output_type": "stream",
     "text": [
      "Computed DP matrices in 0.05 seconds.\n"
     ]
    },
    {
     "name": "stderr",
     "output_type": "stream",
     "text": [
      "Finding matches: 100%|██████████| 500/500 [00:00<00:00, 1512.73sequence/s]\n",
      "Processing llama_1.5B_Goldfish_K_5_H_13_GBS_120_EPOCH_93:  96%|█████████▌| 22/23 [10:15<00:27, 27.51s/it]"
     ]
    },
    {
     "name": "stdout",
     "output_type": "stream",
     "text": [
      "Computed DP matrices in 0.77 seconds.\n"
     ]
    },
    {
     "name": "stderr",
     "output_type": "stream",
     "text": [
      "Finding matches: 100%|██████████| 9000/9000 [00:08<00:00, 1012.36sequence/s]\n"
     ]
    },
    {
     "name": "stdout",
     "output_type": "stream",
     "text": [
      "Computed DP matrices in 0.05 seconds.\n"
     ]
    },
    {
     "name": "stderr",
     "output_type": "stream",
     "text": [
      "Finding matches: 100%|██████████| 500/500 [00:00<00:00, 1379.45sequence/s]\n"
     ]
    },
    {
     "name": "stdout",
     "output_type": "stream",
     "text": [
      "Computed DP matrices in 0.05 seconds.\n"
     ]
    },
    {
     "name": "stderr",
     "output_type": "stream",
     "text": [
      "Finding matches: 100%|██████████| 500/500 [00:00<00:00, 1465.86sequence/s]\n",
      "Processing llama_1.5B_Goldfish_K_5_H_13_GBS_120_EPOCH_93: 100%|██████████| 23/23 [10:42<00:00, 27.93s/it]\n",
      "Processing llama_1.5B_Goldfish_K_10_H_13_GBS_120_EPOCH_83:   0%|          | 0/21 [00:00<?, ?it/s]"
     ]
    },
    {
     "name": "stdout",
     "output_type": "stream",
     "text": [
      "Computed DP matrices in 0.74 seconds.\n"
     ]
    },
    {
     "name": "stderr",
     "output_type": "stream",
     "text": [
      "Finding matches: 100%|██████████| 9000/9000 [00:11<00:00, 797.77sequence/s]\n"
     ]
    },
    {
     "name": "stdout",
     "output_type": "stream",
     "text": [
      "Computed DP matrices in 0.05 seconds.\n"
     ]
    },
    {
     "name": "stderr",
     "output_type": "stream",
     "text": [
      "Finding matches: 100%|██████████| 500/500 [00:00<00:00, 1017.14sequence/s]\n"
     ]
    },
    {
     "name": "stdout",
     "output_type": "stream",
     "text": [
      "Computed DP matrices in 0.06 seconds.\n"
     ]
    },
    {
     "name": "stderr",
     "output_type": "stream",
     "text": [
      "Finding matches: 100%|██████████| 500/500 [00:00<00:00, 1088.37sequence/s]\n",
      "Processing llama_1.5B_Goldfish_K_10_H_13_GBS_120_EPOCH_83:   5%|▍         | 1/21 [00:30<10:11, 30.59s/it]"
     ]
    },
    {
     "name": "stdout",
     "output_type": "stream",
     "text": [
      "Computed DP matrices in 0.79 seconds.\n"
     ]
    },
    {
     "name": "stderr",
     "output_type": "stream",
     "text": [
      "Finding matches: 100%|██████████| 9000/9000 [00:12<00:00, 693.85sequence/s]\n"
     ]
    },
    {
     "name": "stdout",
     "output_type": "stream",
     "text": [
      "Computed DP matrices in 0.05 seconds.\n"
     ]
    },
    {
     "name": "stderr",
     "output_type": "stream",
     "text": [
      "Finding matches: 100%|██████████| 500/500 [00:00<00:00, 921.78sequence/s]\n"
     ]
    },
    {
     "name": "stdout",
     "output_type": "stream",
     "text": [
      "Computed DP matrices in 0.06 seconds.\n"
     ]
    },
    {
     "name": "stderr",
     "output_type": "stream",
     "text": [
      "Finding matches: 100%|██████████| 500/500 [00:00<00:00, 1030.07sequence/s]\n",
      "Processing llama_1.5B_Goldfish_K_10_H_13_GBS_120_EPOCH_83:  10%|▉         | 2/21 [01:03<10:05, 31.89s/it]"
     ]
    },
    {
     "name": "stdout",
     "output_type": "stream",
     "text": [
      "Computed DP matrices in 0.82 seconds.\n"
     ]
    },
    {
     "name": "stderr",
     "output_type": "stream",
     "text": [
      "Finding matches: 100%|██████████| 9000/9000 [00:10<00:00, 878.46sequence/s]\n"
     ]
    },
    {
     "name": "stdout",
     "output_type": "stream",
     "text": [
      "Computed DP matrices in 0.05 seconds.\n"
     ]
    },
    {
     "name": "stderr",
     "output_type": "stream",
     "text": [
      "Finding matches: 100%|██████████| 500/500 [00:00<00:00, 1144.33sequence/s]\n"
     ]
    },
    {
     "name": "stdout",
     "output_type": "stream",
     "text": [
      "Computed DP matrices in 0.05 seconds.\n"
     ]
    },
    {
     "name": "stderr",
     "output_type": "stream",
     "text": [
      "Finding matches: 100%|██████████| 500/500 [00:00<00:00, 1271.79sequence/s]\n",
      "Processing llama_1.5B_Goldfish_K_10_H_13_GBS_120_EPOCH_83:  14%|█▍        | 3/21 [01:31<09:03, 30.21s/it]"
     ]
    },
    {
     "name": "stdout",
     "output_type": "stream",
     "text": [
      "Computed DP matrices in 0.81 seconds.\n"
     ]
    },
    {
     "name": "stderr",
     "output_type": "stream",
     "text": [
      "Finding matches: 100%|██████████| 9000/9000 [00:09<00:00, 939.34sequence/s]\n"
     ]
    },
    {
     "name": "stdout",
     "output_type": "stream",
     "text": [
      "Computed DP matrices in 0.05 seconds.\n"
     ]
    },
    {
     "name": "stderr",
     "output_type": "stream",
     "text": [
      "Finding matches: 100%|██████████| 500/500 [00:00<00:00, 1219.16sequence/s]\n"
     ]
    },
    {
     "name": "stdout",
     "output_type": "stream",
     "text": [
      "Computed DP matrices in 0.05 seconds.\n"
     ]
    },
    {
     "name": "stderr",
     "output_type": "stream",
     "text": [
      "Finding matches: 100%|██████████| 500/500 [00:00<00:00, 1328.21sequence/s]\n",
      "Processing llama_1.5B_Goldfish_K_10_H_13_GBS_120_EPOCH_83:  19%|█▉        | 4/21 [02:00<08:22, 29.57s/it]"
     ]
    },
    {
     "name": "stdout",
     "output_type": "stream",
     "text": [
      "Computed DP matrices in 0.78 seconds.\n"
     ]
    },
    {
     "name": "stderr",
     "output_type": "stream",
     "text": [
      "Finding matches: 100%|██████████| 9000/9000 [00:08<00:00, 1062.51sequence/s]\n"
     ]
    },
    {
     "name": "stdout",
     "output_type": "stream",
     "text": [
      "Computed DP matrices in 0.05 seconds.\n"
     ]
    },
    {
     "name": "stderr",
     "output_type": "stream",
     "text": [
      "Finding matches: 100%|██████████| 500/500 [00:00<00:00, 684.99sequence/s]\n"
     ]
    },
    {
     "name": "stdout",
     "output_type": "stream",
     "text": [
      "Computed DP matrices in 0.05 seconds.\n"
     ]
    },
    {
     "name": "stderr",
     "output_type": "stream",
     "text": [
      "Finding matches: 100%|██████████| 500/500 [00:00<00:00, 1441.84sequence/s]\n",
      "Processing llama_1.5B_Goldfish_K_10_H_13_GBS_120_EPOCH_83:  24%|██▍       | 5/21 [02:26<07:36, 28.50s/it]"
     ]
    },
    {
     "name": "stdout",
     "output_type": "stream",
     "text": [
      "Computed DP matrices in 0.81 seconds.\n"
     ]
    },
    {
     "name": "stderr",
     "output_type": "stream",
     "text": [
      "Finding matches: 100%|██████████| 9000/9000 [00:08<00:00, 1088.22sequence/s]\n"
     ]
    },
    {
     "name": "stdout",
     "output_type": "stream",
     "text": [
      "Computed DP matrices in 0.05 seconds.\n"
     ]
    },
    {
     "name": "stderr",
     "output_type": "stream",
     "text": [
      "Finding matches: 100%|██████████| 500/500 [00:00<00:00, 1319.65sequence/s]\n"
     ]
    },
    {
     "name": "stdout",
     "output_type": "stream",
     "text": [
      "Computed DP matrices in 0.06 seconds.\n"
     ]
    },
    {
     "name": "stderr",
     "output_type": "stream",
     "text": [
      "Finding matches: 100%|██████████| 500/500 [00:00<00:00, 1388.37sequence/s]\n",
      "Processing llama_1.5B_Goldfish_K_10_H_13_GBS_120_EPOCH_83:  29%|██▊       | 6/21 [02:52<06:54, 27.62s/it]"
     ]
    },
    {
     "name": "stdout",
     "output_type": "stream",
     "text": [
      "Computed DP matrices in 0.80 seconds.\n"
     ]
    },
    {
     "name": "stderr",
     "output_type": "stream",
     "text": [
      "Finding matches: 100%|██████████| 9000/9000 [00:08<00:00, 1039.72sequence/s]\n"
     ]
    },
    {
     "name": "stdout",
     "output_type": "stream",
     "text": [
      "Computed DP matrices in 0.05 seconds.\n"
     ]
    },
    {
     "name": "stderr",
     "output_type": "stream",
     "text": [
      "Finding matches: 100%|██████████| 500/500 [00:00<00:00, 1436.82sequence/s]\n"
     ]
    },
    {
     "name": "stdout",
     "output_type": "stream",
     "text": [
      "Computed DP matrices in 0.05 seconds.\n"
     ]
    },
    {
     "name": "stderr",
     "output_type": "stream",
     "text": [
      "Finding matches: 100%|██████████| 500/500 [00:00<00:00, 1530.49sequence/s]\n",
      "Processing llama_1.5B_Goldfish_K_10_H_13_GBS_120_EPOCH_83:  33%|███▎      | 7/21 [03:20<06:28, 27.72s/it]"
     ]
    },
    {
     "name": "stdout",
     "output_type": "stream",
     "text": [
      "Computed DP matrices in 0.80 seconds.\n"
     ]
    },
    {
     "name": "stderr",
     "output_type": "stream",
     "text": [
      "Finding matches: 100%|██████████| 9000/9000 [00:08<00:00, 1069.12sequence/s]\n"
     ]
    },
    {
     "name": "stdout",
     "output_type": "stream",
     "text": [
      "Computed DP matrices in 0.05 seconds.\n"
     ]
    },
    {
     "name": "stderr",
     "output_type": "stream",
     "text": [
      "Finding matches: 100%|██████████| 500/500 [00:00<00:00, 1416.63sequence/s]\n"
     ]
    },
    {
     "name": "stdout",
     "output_type": "stream",
     "text": [
      "Computed DP matrices in 0.05 seconds.\n"
     ]
    },
    {
     "name": "stderr",
     "output_type": "stream",
     "text": [
      "Finding matches: 100%|██████████| 500/500 [00:00<00:00, 1493.66sequence/s]\n",
      "Processing llama_1.5B_Goldfish_K_10_H_13_GBS_120_EPOCH_83:  38%|███▊      | 8/21 [03:46<05:53, 27.18s/it]"
     ]
    },
    {
     "name": "stdout",
     "output_type": "stream",
     "text": [
      "Computed DP matrices in 0.81 seconds.\n"
     ]
    },
    {
     "name": "stderr",
     "output_type": "stream",
     "text": [
      "Finding matches: 100%|██████████| 9000/9000 [00:08<00:00, 1051.15sequence/s]\n"
     ]
    },
    {
     "name": "stdout",
     "output_type": "stream",
     "text": [
      "Computed DP matrices in 0.06 seconds.\n"
     ]
    },
    {
     "name": "stderr",
     "output_type": "stream",
     "text": [
      "Finding matches: 100%|██████████| 500/500 [00:00<00:00, 1379.82sequence/s]\n"
     ]
    },
    {
     "name": "stdout",
     "output_type": "stream",
     "text": [
      "Computed DP matrices in 0.06 seconds.\n"
     ]
    },
    {
     "name": "stderr",
     "output_type": "stream",
     "text": [
      "Finding matches: 100%|██████████| 500/500 [00:00<00:00, 877.20sequence/s]\n",
      "Processing llama_1.5B_Goldfish_K_10_H_13_GBS_120_EPOCH_83:  43%|████▎     | 9/21 [04:14<05:29, 27.44s/it]"
     ]
    },
    {
     "name": "stdout",
     "output_type": "stream",
     "text": [
      "Computed DP matrices in 0.79 seconds.\n"
     ]
    },
    {
     "name": "stderr",
     "output_type": "stream",
     "text": [
      "Finding matches: 100%|██████████| 9000/9000 [00:08<00:00, 1083.84sequence/s]\n"
     ]
    },
    {
     "name": "stdout",
     "output_type": "stream",
     "text": [
      "Computed DP matrices in 0.05 seconds.\n"
     ]
    },
    {
     "name": "stderr",
     "output_type": "stream",
     "text": [
      "Finding matches: 100%|██████████| 500/500 [00:00<00:00, 1423.01sequence/s]\n"
     ]
    },
    {
     "name": "stdout",
     "output_type": "stream",
     "text": [
      "Computed DP matrices in 0.05 seconds.\n"
     ]
    },
    {
     "name": "stderr",
     "output_type": "stream",
     "text": [
      "Finding matches: 100%|██████████| 500/500 [00:00<00:00, 883.05sequence/s]\n",
      "Processing llama_1.5B_Goldfish_K_10_H_13_GBS_120_EPOCH_83:  48%|████▊     | 10/21 [04:42<05:02, 27.52s/it]"
     ]
    },
    {
     "name": "stdout",
     "output_type": "stream",
     "text": [
      "Computed DP matrices in 0.83 seconds.\n"
     ]
    },
    {
     "name": "stderr",
     "output_type": "stream",
     "text": [
      "Finding matches: 100%|██████████| 9000/9000 [00:08<00:00, 1029.36sequence/s]\n"
     ]
    },
    {
     "name": "stdout",
     "output_type": "stream",
     "text": [
      "Computed DP matrices in 0.05 seconds.\n"
     ]
    },
    {
     "name": "stderr",
     "output_type": "stream",
     "text": [
      "Finding matches: 100%|██████████| 500/500 [00:00<00:00, 1372.62sequence/s]\n"
     ]
    },
    {
     "name": "stdout",
     "output_type": "stream",
     "text": [
      "Computed DP matrices in 0.05 seconds.\n"
     ]
    },
    {
     "name": "stderr",
     "output_type": "stream",
     "text": [
      "Finding matches: 100%|██████████| 500/500 [00:00<00:00, 1478.52sequence/s]\n",
      "Processing llama_1.5B_Goldfish_K_10_H_13_GBS_120_EPOCH_83:  52%|█████▏    | 11/21 [05:09<04:32, 27.30s/it]"
     ]
    },
    {
     "name": "stdout",
     "output_type": "stream",
     "text": [
      "Computed DP matrices in 0.78 seconds.\n"
     ]
    },
    {
     "name": "stderr",
     "output_type": "stream",
     "text": [
      "Finding matches: 100%|██████████| 9000/9000 [00:08<00:00, 1070.42sequence/s]\n"
     ]
    },
    {
     "name": "stdout",
     "output_type": "stream",
     "text": [
      "Computed DP matrices in 0.05 seconds.\n"
     ]
    },
    {
     "name": "stderr",
     "output_type": "stream",
     "text": [
      "Finding matches: 100%|██████████| 500/500 [00:00<00:00, 1374.02sequence/s]\n"
     ]
    },
    {
     "name": "stdout",
     "output_type": "stream",
     "text": [
      "Computed DP matrices in 0.05 seconds.\n"
     ]
    },
    {
     "name": "stderr",
     "output_type": "stream",
     "text": [
      "Finding matches: 100%|██████████| 500/500 [00:00<00:00, 1461.53sequence/s]\n",
      "Processing llama_1.5B_Goldfish_K_10_H_13_GBS_120_EPOCH_83:  57%|█████▋    | 12/21 [05:35<04:02, 26.94s/it]"
     ]
    },
    {
     "name": "stdout",
     "output_type": "stream",
     "text": [
      "Computed DP matrices in 0.78 seconds.\n"
     ]
    },
    {
     "name": "stderr",
     "output_type": "stream",
     "text": [
      "Finding matches: 100%|██████████| 9000/9000 [00:08<00:00, 1029.68sequence/s]\n"
     ]
    },
    {
     "name": "stdout",
     "output_type": "stream",
     "text": [
      "Computed DP matrices in 0.05 seconds.\n"
     ]
    },
    {
     "name": "stderr",
     "output_type": "stream",
     "text": [
      "Finding matches: 100%|██████████| 500/500 [00:00<00:00, 1350.00sequence/s]\n"
     ]
    },
    {
     "name": "stdout",
     "output_type": "stream",
     "text": [
      "Computed DP matrices in 0.05 seconds.\n"
     ]
    },
    {
     "name": "stderr",
     "output_type": "stream",
     "text": [
      "Finding matches: 100%|██████████| 500/500 [00:00<00:00, 1498.65sequence/s]\n",
      "Processing llama_1.5B_Goldfish_K_10_H_13_GBS_120_EPOCH_83:  62%|██████▏   | 13/21 [06:03<03:37, 27.24s/it]"
     ]
    },
    {
     "name": "stdout",
     "output_type": "stream",
     "text": [
      "Computed DP matrices in 0.81 seconds.\n"
     ]
    },
    {
     "name": "stderr",
     "output_type": "stream",
     "text": [
      "Finding matches: 100%|██████████| 9000/9000 [00:08<00:00, 1065.87sequence/s]\n"
     ]
    },
    {
     "name": "stdout",
     "output_type": "stream",
     "text": [
      "Computed DP matrices in 0.05 seconds.\n"
     ]
    },
    {
     "name": "stderr",
     "output_type": "stream",
     "text": [
      "Finding matches: 100%|██████████| 500/500 [00:00<00:00, 1372.13sequence/s]\n"
     ]
    },
    {
     "name": "stdout",
     "output_type": "stream",
     "text": [
      "Computed DP matrices in 0.05 seconds.\n"
     ]
    },
    {
     "name": "stderr",
     "output_type": "stream",
     "text": [
      "Finding matches: 100%|██████████| 500/500 [00:00<00:00, 1487.48sequence/s]\n",
      "Processing llama_1.5B_Goldfish_K_10_H_13_GBS_120_EPOCH_83:  67%|██████▋   | 14/21 [06:29<03:08, 26.96s/it]"
     ]
    },
    {
     "name": "stdout",
     "output_type": "stream",
     "text": [
      "Computed DP matrices in 0.83 seconds.\n"
     ]
    },
    {
     "name": "stderr",
     "output_type": "stream",
     "text": [
      "Finding matches: 100%|██████████| 9000/9000 [00:08<00:00, 1052.40sequence/s]\n"
     ]
    },
    {
     "name": "stdout",
     "output_type": "stream",
     "text": [
      "Computed DP matrices in 0.05 seconds.\n"
     ]
    },
    {
     "name": "stderr",
     "output_type": "stream",
     "text": [
      "Finding matches: 100%|██████████| 500/500 [00:00<00:00, 1403.30sequence/s]\n"
     ]
    },
    {
     "name": "stdout",
     "output_type": "stream",
     "text": [
      "Computed DP matrices in 0.05 seconds.\n"
     ]
    },
    {
     "name": "stderr",
     "output_type": "stream",
     "text": [
      "Finding matches: 100%|██████████| 500/500 [00:00<00:00, 926.27sequence/s] \n",
      "Processing llama_1.5B_Goldfish_K_10_H_13_GBS_120_EPOCH_83:  71%|███████▏  | 15/21 [06:57<02:43, 27.21s/it]"
     ]
    },
    {
     "name": "stdout",
     "output_type": "stream",
     "text": [
      "Computed DP matrices in 0.79 seconds.\n"
     ]
    },
    {
     "name": "stderr",
     "output_type": "stream",
     "text": [
      "Finding matches: 100%|██████████| 9000/9000 [00:08<00:00, 1034.49sequence/s]\n"
     ]
    },
    {
     "name": "stdout",
     "output_type": "stream",
     "text": [
      "Computed DP matrices in 0.06 seconds.\n"
     ]
    },
    {
     "name": "stderr",
     "output_type": "stream",
     "text": [
      "Finding matches: 100%|██████████| 500/500 [00:00<00:00, 1427.54sequence/s]\n"
     ]
    },
    {
     "name": "stdout",
     "output_type": "stream",
     "text": [
      "Computed DP matrices in 0.05 seconds.\n"
     ]
    },
    {
     "name": "stderr",
     "output_type": "stream",
     "text": [
      "Finding matches: 100%|██████████| 500/500 [00:00<00:00, 1528.82sequence/s]\n",
      "Processing llama_1.5B_Goldfish_K_10_H_13_GBS_120_EPOCH_83:  76%|███████▌  | 16/21 [07:25<02:16, 27.39s/it]"
     ]
    },
    {
     "name": "stdout",
     "output_type": "stream",
     "text": [
      "Computed DP matrices in 0.83 seconds.\n"
     ]
    },
    {
     "name": "stderr",
     "output_type": "stream",
     "text": [
      "Finding matches: 100%|██████████| 9000/9000 [00:08<00:00, 1080.55sequence/s]\n"
     ]
    },
    {
     "name": "stdout",
     "output_type": "stream",
     "text": [
      "Computed DP matrices in 0.05 seconds.\n"
     ]
    },
    {
     "name": "stderr",
     "output_type": "stream",
     "text": [
      "Finding matches: 100%|██████████| 500/500 [00:00<00:00, 1392.80sequence/s]\n"
     ]
    },
    {
     "name": "stdout",
     "output_type": "stream",
     "text": [
      "Computed DP matrices in 0.05 seconds.\n"
     ]
    },
    {
     "name": "stderr",
     "output_type": "stream",
     "text": [
      "Finding matches: 100%|██████████| 500/500 [00:00<00:00, 1470.83sequence/s]\n",
      "Processing llama_1.5B_Goldfish_K_10_H_13_GBS_120_EPOCH_83:  81%|████████  | 17/21 [07:52<01:49, 27.28s/it]"
     ]
    },
    {
     "name": "stdout",
     "output_type": "stream",
     "text": [
      "Computed DP matrices in 0.77 seconds.\n"
     ]
    },
    {
     "name": "stderr",
     "output_type": "stream",
     "text": [
      "Finding matches: 100%|██████████| 9000/9000 [00:08<00:00, 1051.22sequence/s]\n"
     ]
    },
    {
     "name": "stdout",
     "output_type": "stream",
     "text": [
      "Computed DP matrices in 0.06 seconds.\n"
     ]
    },
    {
     "name": "stderr",
     "output_type": "stream",
     "text": [
      "Finding matches: 100%|██████████| 500/500 [00:00<00:00, 1402.81sequence/s]\n"
     ]
    },
    {
     "name": "stdout",
     "output_type": "stream",
     "text": [
      "Computed DP matrices in 0.05 seconds.\n"
     ]
    },
    {
     "name": "stderr",
     "output_type": "stream",
     "text": [
      "Finding matches: 100%|██████████| 500/500 [00:00<00:00, 1501.99sequence/s]\n",
      "Processing llama_1.5B_Goldfish_K_10_H_13_GBS_120_EPOCH_83:  86%|████████▌ | 18/21 [08:18<01:21, 27.02s/it]"
     ]
    },
    {
     "name": "stdout",
     "output_type": "stream",
     "text": [
      "Computed DP matrices in 0.79 seconds.\n"
     ]
    },
    {
     "name": "stderr",
     "output_type": "stream",
     "text": [
      "Finding matches: 100%|██████████| 9000/9000 [00:08<00:00, 1019.59sequence/s]\n"
     ]
    },
    {
     "name": "stdout",
     "output_type": "stream",
     "text": [
      "Computed DP matrices in 0.05 seconds.\n"
     ]
    },
    {
     "name": "stderr",
     "output_type": "stream",
     "text": [
      "Finding matches: 100%|██████████| 500/500 [00:00<00:00, 1344.80sequence/s]\n"
     ]
    },
    {
     "name": "stdout",
     "output_type": "stream",
     "text": [
      "Computed DP matrices in 0.05 seconds.\n"
     ]
    },
    {
     "name": "stderr",
     "output_type": "stream",
     "text": [
      "Finding matches: 100%|██████████| 500/500 [00:00<00:00, 1490.91sequence/s]\n",
      "Processing llama_1.5B_Goldfish_K_10_H_13_GBS_120_EPOCH_83:  90%|█████████ | 19/21 [08:45<00:53, 26.97s/it]"
     ]
    },
    {
     "name": "stdout",
     "output_type": "stream",
     "text": [
      "Computed DP matrices in 0.81 seconds.\n"
     ]
    },
    {
     "name": "stderr",
     "output_type": "stream",
     "text": [
      "Finding matches: 100%|██████████| 9000/9000 [00:08<00:00, 1052.80sequence/s]\n"
     ]
    },
    {
     "name": "stdout",
     "output_type": "stream",
     "text": [
      "Computed DP matrices in 0.05 seconds.\n"
     ]
    },
    {
     "name": "stderr",
     "output_type": "stream",
     "text": [
      "Finding matches: 100%|██████████| 500/500 [00:00<00:00, 1363.59sequence/s]\n"
     ]
    },
    {
     "name": "stdout",
     "output_type": "stream",
     "text": [
      "Computed DP matrices in 0.05 seconds.\n"
     ]
    },
    {
     "name": "stderr",
     "output_type": "stream",
     "text": [
      "Finding matches: 100%|██████████| 500/500 [00:00<00:00, 1460.82sequence/s]\n",
      "Processing llama_1.5B_Goldfish_K_10_H_13_GBS_120_EPOCH_83:  95%|█████████▌| 20/21 [09:11<00:26, 26.78s/it]"
     ]
    },
    {
     "name": "stdout",
     "output_type": "stream",
     "text": [
      "Computed DP matrices in 0.79 seconds.\n"
     ]
    },
    {
     "name": "stderr",
     "output_type": "stream",
     "text": [
      "Finding matches: 100%|██████████| 9000/9000 [00:08<00:00, 1048.41sequence/s]\n"
     ]
    },
    {
     "name": "stdout",
     "output_type": "stream",
     "text": [
      "Computed DP matrices in 0.05 seconds.\n"
     ]
    },
    {
     "name": "stderr",
     "output_type": "stream",
     "text": [
      "Finding matches: 100%|██████████| 500/500 [00:00<00:00, 1414.63sequence/s]\n"
     ]
    },
    {
     "name": "stdout",
     "output_type": "stream",
     "text": [
      "Computed DP matrices in 0.05 seconds.\n"
     ]
    },
    {
     "name": "stderr",
     "output_type": "stream",
     "text": [
      "Finding matches: 100%|██████████| 500/500 [00:00<00:00, 870.06sequence/s]\n",
      "Processing llama_1.5B_Goldfish_K_10_H_13_GBS_120_EPOCH_83: 100%|██████████| 21/21 [09:38<00:00, 27.55s/it]\n",
      "Processing llama_1.5B_Goldfish_K_21_H_13_GBS_120_EPOCH_79:   0%|          | 0/19 [00:00<?, ?it/s]"
     ]
    },
    {
     "name": "stdout",
     "output_type": "stream",
     "text": [
      "Computed DP matrices in 0.81 seconds.\n"
     ]
    },
    {
     "name": "stderr",
     "output_type": "stream",
     "text": [
      "Finding matches: 100%|██████████| 9000/9000 [00:10<00:00, 837.50sequence/s]\n"
     ]
    },
    {
     "name": "stdout",
     "output_type": "stream",
     "text": [
      "Computed DP matrices in 0.05 seconds.\n"
     ]
    },
    {
     "name": "stderr",
     "output_type": "stream",
     "text": [
      "Finding matches: 100%|██████████| 500/500 [00:00<00:00, 1041.70sequence/s]\n"
     ]
    },
    {
     "name": "stdout",
     "output_type": "stream",
     "text": [
      "Computed DP matrices in 0.05 seconds.\n"
     ]
    },
    {
     "name": "stderr",
     "output_type": "stream",
     "text": [
      "Finding matches: 100%|██████████| 500/500 [00:00<00:00, 1146.82sequence/s]\n",
      "Processing llama_1.5B_Goldfish_K_21_H_13_GBS_120_EPOCH_79:   5%|▌         | 1/19 [00:28<08:37, 28.75s/it]"
     ]
    },
    {
     "name": "stdout",
     "output_type": "stream",
     "text": [
      "Computed DP matrices in 0.79 seconds.\n"
     ]
    },
    {
     "name": "stderr",
     "output_type": "stream",
     "text": [
      "Finding matches: 100%|██████████| 9000/9000 [00:11<00:00, 785.25sequence/s]\n"
     ]
    },
    {
     "name": "stdout",
     "output_type": "stream",
     "text": [
      "Computed DP matrices in 0.06 seconds.\n"
     ]
    },
    {
     "name": "stderr",
     "output_type": "stream",
     "text": [
      "Finding matches: 100%|██████████| 500/500 [00:00<00:00, 974.55sequence/s] \n"
     ]
    },
    {
     "name": "stdout",
     "output_type": "stream",
     "text": [
      "Computed DP matrices in 0.05 seconds.\n"
     ]
    },
    {
     "name": "stderr",
     "output_type": "stream",
     "text": [
      "Finding matches: 100%|██████████| 500/500 [00:00<00:00, 1133.47sequence/s]\n",
      "Processing llama_1.5B_Goldfish_K_21_H_13_GBS_120_EPOCH_79:  11%|█         | 2/19 [00:59<08:28, 29.92s/it]"
     ]
    },
    {
     "name": "stdout",
     "output_type": "stream",
     "text": [
      "Computed DP matrices in 0.75 seconds.\n"
     ]
    },
    {
     "name": "stderr",
     "output_type": "stream",
     "text": [
      "Finding matches: 100%|██████████| 9000/9000 [00:08<00:00, 1012.29sequence/s]\n"
     ]
    },
    {
     "name": "stdout",
     "output_type": "stream",
     "text": [
      "Computed DP matrices in 0.05 seconds.\n"
     ]
    },
    {
     "name": "stderr",
     "output_type": "stream",
     "text": [
      "Finding matches: 100%|██████████| 500/500 [00:00<00:00, 662.48sequence/s]\n"
     ]
    },
    {
     "name": "stdout",
     "output_type": "stream",
     "text": [
      "Computed DP matrices in 0.05 seconds.\n"
     ]
    },
    {
     "name": "stderr",
     "output_type": "stream",
     "text": [
      "Finding matches: 100%|██████████| 500/500 [00:00<00:00, 1327.47sequence/s]\n",
      "Processing llama_1.5B_Goldfish_K_21_H_13_GBS_120_EPOCH_79:  16%|█▌        | 3/19 [01:27<07:46, 29.17s/it]"
     ]
    },
    {
     "name": "stdout",
     "output_type": "stream",
     "text": [
      "Computed DP matrices in 0.78 seconds.\n"
     ]
    },
    {
     "name": "stderr",
     "output_type": "stream",
     "text": [
      "Finding matches: 100%|██████████| 9000/9000 [00:08<00:00, 1057.41sequence/s]\n"
     ]
    },
    {
     "name": "stdout",
     "output_type": "stream",
     "text": [
      "Computed DP matrices in 0.05 seconds.\n"
     ]
    },
    {
     "name": "stderr",
     "output_type": "stream",
     "text": [
      "Finding matches: 100%|██████████| 500/500 [00:00<00:00, 1393.36sequence/s]\n"
     ]
    },
    {
     "name": "stdout",
     "output_type": "stream",
     "text": [
      "Computed DP matrices in 0.05 seconds.\n"
     ]
    },
    {
     "name": "stderr",
     "output_type": "stream",
     "text": [
      "Finding matches: 100%|██████████| 500/500 [00:00<00:00, 1395.25sequence/s]\n",
      "Processing llama_1.5B_Goldfish_K_21_H_13_GBS_120_EPOCH_79:  21%|██        | 4/19 [01:53<06:59, 27.94s/it]"
     ]
    },
    {
     "name": "stdout",
     "output_type": "stream",
     "text": [
      "Computed DP matrices in 0.79 seconds.\n"
     ]
    },
    {
     "name": "stderr",
     "output_type": "stream",
     "text": [
      "Finding matches: 100%|██████████| 9000/9000 [00:08<00:00, 1033.44sequence/s]\n"
     ]
    },
    {
     "name": "stdout",
     "output_type": "stream",
     "text": [
      "Computed DP matrices in 0.05 seconds.\n"
     ]
    },
    {
     "name": "stderr",
     "output_type": "stream",
     "text": [
      "Finding matches: 100%|██████████| 500/500 [00:00<00:00, 1439.21sequence/s]\n"
     ]
    },
    {
     "name": "stdout",
     "output_type": "stream",
     "text": [
      "Computed DP matrices in 0.05 seconds.\n"
     ]
    },
    {
     "name": "stderr",
     "output_type": "stream",
     "text": [
      "Finding matches: 100%|██████████| 500/500 [00:00<00:00, 1512.61sequence/s]\n",
      "Processing llama_1.5B_Goldfish_K_21_H_13_GBS_120_EPOCH_79:  26%|██▋       | 5/19 [02:21<06:29, 27.80s/it]"
     ]
    },
    {
     "name": "stdout",
     "output_type": "stream",
     "text": [
      "Computed DP matrices in 0.79 seconds.\n"
     ]
    },
    {
     "name": "stderr",
     "output_type": "stream",
     "text": [
      "Finding matches: 100%|██████████| 9000/9000 [00:08<00:00, 1077.38sequence/s]\n"
     ]
    },
    {
     "name": "stdout",
     "output_type": "stream",
     "text": [
      "Computed DP matrices in 0.05 seconds.\n"
     ]
    },
    {
     "name": "stderr",
     "output_type": "stream",
     "text": [
      "Finding matches: 100%|██████████| 500/500 [00:00<00:00, 1338.59sequence/s]\n"
     ]
    },
    {
     "name": "stdout",
     "output_type": "stream",
     "text": [
      "Computed DP matrices in 0.05 seconds.\n"
     ]
    },
    {
     "name": "stderr",
     "output_type": "stream",
     "text": [
      "Finding matches: 100%|██████████| 500/500 [00:00<00:00, 1460.60sequence/s]\n",
      "Processing llama_1.5B_Goldfish_K_21_H_13_GBS_120_EPOCH_79:  32%|███▏      | 6/19 [02:47<05:53, 27.20s/it]"
     ]
    },
    {
     "name": "stdout",
     "output_type": "stream",
     "text": [
      "Computed DP matrices in 0.75 seconds.\n"
     ]
    },
    {
     "name": "stderr",
     "output_type": "stream",
     "text": [
      "Finding matches: 100%|██████████| 9000/9000 [00:08<00:00, 1101.43sequence/s]\n"
     ]
    },
    {
     "name": "stdout",
     "output_type": "stream",
     "text": [
      "Computed DP matrices in 0.05 seconds.\n"
     ]
    },
    {
     "name": "stderr",
     "output_type": "stream",
     "text": [
      "Finding matches: 100%|██████████| 500/500 [00:00<00:00, 725.04sequence/s]\n"
     ]
    },
    {
     "name": "stdout",
     "output_type": "stream",
     "text": [
      "Computed DP matrices in 0.05 seconds.\n"
     ]
    },
    {
     "name": "stderr",
     "output_type": "stream",
     "text": [
      "Finding matches: 100%|██████████| 500/500 [00:00<00:00, 1537.30sequence/s]\n",
      "Processing llama_1.5B_Goldfish_K_21_H_13_GBS_120_EPOCH_79:  37%|███▋      | 7/19 [03:14<05:27, 27.27s/it]"
     ]
    },
    {
     "name": "stdout",
     "output_type": "stream",
     "text": [
      "Computed DP matrices in 0.81 seconds.\n"
     ]
    },
    {
     "name": "stderr",
     "output_type": "stream",
     "text": [
      "Finding matches: 100%|██████████| 9000/9000 [00:08<00:00, 1076.42sequence/s]\n"
     ]
    },
    {
     "name": "stdout",
     "output_type": "stream",
     "text": [
      "Computed DP matrices in 0.05 seconds.\n"
     ]
    },
    {
     "name": "stderr",
     "output_type": "stream",
     "text": [
      "Finding matches: 100%|██████████| 500/500 [00:00<00:00, 682.72sequence/s] \n"
     ]
    },
    {
     "name": "stdout",
     "output_type": "stream",
     "text": [
      "Computed DP matrices in 0.05 seconds.\n"
     ]
    },
    {
     "name": "stderr",
     "output_type": "stream",
     "text": [
      "Finding matches: 100%|██████████| 500/500 [00:00<00:00, 1481.88sequence/s]\n",
      "Processing llama_1.5B_Goldfish_K_21_H_13_GBS_120_EPOCH_79:  42%|████▏     | 8/19 [03:42<05:01, 27.45s/it]"
     ]
    },
    {
     "name": "stdout",
     "output_type": "stream",
     "text": [
      "Computed DP matrices in 0.79 seconds.\n"
     ]
    },
    {
     "name": "stderr",
     "output_type": "stream",
     "text": [
      "Finding matches: 100%|██████████| 9000/9000 [00:08<00:00, 1094.22sequence/s]\n"
     ]
    },
    {
     "name": "stdout",
     "output_type": "stream",
     "text": [
      "Computed DP matrices in 0.05 seconds.\n"
     ]
    },
    {
     "name": "stderr",
     "output_type": "stream",
     "text": [
      "Finding matches: 100%|██████████| 500/500 [00:00<00:00, 1398.73sequence/s]\n"
     ]
    },
    {
     "name": "stdout",
     "output_type": "stream",
     "text": [
      "Computed DP matrices in 0.05 seconds.\n"
     ]
    },
    {
     "name": "stderr",
     "output_type": "stream",
     "text": [
      "Finding matches: 100%|██████████| 500/500 [00:00<00:00, 1486.92sequence/s]\n",
      "Processing llama_1.5B_Goldfish_K_21_H_13_GBS_120_EPOCH_79:  47%|████▋     | 9/19 [04:09<04:33, 27.35s/it]"
     ]
    },
    {
     "name": "stdout",
     "output_type": "stream",
     "text": [
      "Computed DP matrices in 0.79 seconds.\n"
     ]
    },
    {
     "name": "stderr",
     "output_type": "stream",
     "text": [
      "Finding matches: 100%|██████████| 9000/9000 [00:08<00:00, 1076.84sequence/s]\n"
     ]
    },
    {
     "name": "stdout",
     "output_type": "stream",
     "text": [
      "Computed DP matrices in 0.05 seconds.\n"
     ]
    },
    {
     "name": "stderr",
     "output_type": "stream",
     "text": [
      "Finding matches: 100%|██████████| 500/500 [00:00<00:00, 1440.93sequence/s]\n"
     ]
    },
    {
     "name": "stdout",
     "output_type": "stream",
     "text": [
      "Computed DP matrices in 0.05 seconds.\n"
     ]
    },
    {
     "name": "stderr",
     "output_type": "stream",
     "text": [
      "Finding matches: 100%|██████████| 500/500 [00:00<00:00, 1533.22sequence/s]\n",
      "Processing llama_1.5B_Goldfish_K_21_H_13_GBS_120_EPOCH_79:  53%|█████▎    | 10/19 [04:36<04:05, 27.28s/it]"
     ]
    },
    {
     "name": "stdout",
     "output_type": "stream",
     "text": [
      "Computed DP matrices in 0.78 seconds.\n"
     ]
    },
    {
     "name": "stderr",
     "output_type": "stream",
     "text": [
      "Finding matches: 100%|██████████| 9000/9000 [00:08<00:00, 1027.95sequence/s]\n"
     ]
    },
    {
     "name": "stdout",
     "output_type": "stream",
     "text": [
      "Computed DP matrices in 0.05 seconds.\n"
     ]
    },
    {
     "name": "stderr",
     "output_type": "stream",
     "text": [
      "Finding matches: 100%|██████████| 500/500 [00:00<00:00, 1392.68sequence/s]\n"
     ]
    },
    {
     "name": "stdout",
     "output_type": "stream",
     "text": [
      "Computed DP matrices in 0.06 seconds.\n"
     ]
    },
    {
     "name": "stderr",
     "output_type": "stream",
     "text": [
      "Finding matches: 100%|██████████| 500/500 [00:00<00:00, 1471.18sequence/s]\n",
      "Processing llama_1.5B_Goldfish_K_21_H_13_GBS_120_EPOCH_79:  58%|█████▊    | 11/19 [05:04<03:39, 27.38s/it]"
     ]
    },
    {
     "name": "stdout",
     "output_type": "stream",
     "text": [
      "Computed DP matrices in 0.81 seconds.\n"
     ]
    },
    {
     "name": "stderr",
     "output_type": "stream",
     "text": [
      "Finding matches: 100%|██████████| 9000/9000 [00:08<00:00, 1028.43sequence/s]\n"
     ]
    },
    {
     "name": "stdout",
     "output_type": "stream",
     "text": [
      "Computed DP matrices in 0.05 seconds.\n"
     ]
    },
    {
     "name": "stderr",
     "output_type": "stream",
     "text": [
      "Finding matches: 100%|██████████| 500/500 [00:00<00:00, 1415.63sequence/s]\n"
     ]
    },
    {
     "name": "stdout",
     "output_type": "stream",
     "text": [
      "Computed DP matrices in 0.05 seconds.\n"
     ]
    },
    {
     "name": "stderr",
     "output_type": "stream",
     "text": [
      "Finding matches: 100%|██████████| 500/500 [00:00<00:00, 1487.35sequence/s]\n",
      "Processing llama_1.5B_Goldfish_K_21_H_13_GBS_120_EPOCH_79:  63%|██████▎   | 12/19 [05:31<03:11, 27.36s/it]"
     ]
    },
    {
     "name": "stdout",
     "output_type": "stream",
     "text": [
      "Computed DP matrices in 0.81 seconds.\n"
     ]
    },
    {
     "name": "stderr",
     "output_type": "stream",
     "text": [
      "Finding matches: 100%|██████████| 9000/9000 [00:08<00:00, 1054.84sequence/s]\n"
     ]
    },
    {
     "name": "stdout",
     "output_type": "stream",
     "text": [
      "Computed DP matrices in 0.05 seconds.\n"
     ]
    },
    {
     "name": "stderr",
     "output_type": "stream",
     "text": [
      "Finding matches: 100%|██████████| 500/500 [00:00<00:00, 1373.85sequence/s]\n"
     ]
    },
    {
     "name": "stdout",
     "output_type": "stream",
     "text": [
      "Computed DP matrices in 0.05 seconds.\n"
     ]
    },
    {
     "name": "stderr",
     "output_type": "stream",
     "text": [
      "Finding matches: 100%|██████████| 500/500 [00:00<00:00, 1448.14sequence/s]\n",
      "Processing llama_1.5B_Goldfish_K_21_H_13_GBS_120_EPOCH_79:  68%|██████▊   | 13/19 [05:58<02:42, 27.07s/it]"
     ]
    },
    {
     "name": "stdout",
     "output_type": "stream",
     "text": [
      "Computed DP matrices in 0.80 seconds.\n"
     ]
    },
    {
     "name": "stderr",
     "output_type": "stream",
     "text": [
      "Finding matches: 100%|██████████| 9000/9000 [00:08<00:00, 1030.50sequence/s]\n"
     ]
    },
    {
     "name": "stdout",
     "output_type": "stream",
     "text": [
      "Computed DP matrices in 0.05 seconds.\n"
     ]
    },
    {
     "name": "stderr",
     "output_type": "stream",
     "text": [
      "Finding matches: 100%|██████████| 500/500 [00:00<00:00, 1423.72sequence/s]\n"
     ]
    },
    {
     "name": "stdout",
     "output_type": "stream",
     "text": [
      "Computed DP matrices in 0.05 seconds.\n"
     ]
    },
    {
     "name": "stderr",
     "output_type": "stream",
     "text": [
      "Finding matches: 100%|██████████| 500/500 [00:00<00:00, 1440.60sequence/s]\n",
      "Processing llama_1.5B_Goldfish_K_21_H_13_GBS_120_EPOCH_79:  74%|███████▎  | 14/19 [06:25<02:16, 27.26s/it]"
     ]
    },
    {
     "name": "stdout",
     "output_type": "stream",
     "text": [
      "Computed DP matrices in 0.78 seconds.\n"
     ]
    },
    {
     "name": "stderr",
     "output_type": "stream",
     "text": [
      "Finding matches: 100%|██████████| 9000/9000 [00:08<00:00, 1037.17sequence/s]\n"
     ]
    },
    {
     "name": "stdout",
     "output_type": "stream",
     "text": [
      "Computed DP matrices in 0.05 seconds.\n"
     ]
    },
    {
     "name": "stderr",
     "output_type": "stream",
     "text": [
      "Finding matches: 100%|██████████| 500/500 [00:00<00:00, 1433.52sequence/s]\n"
     ]
    },
    {
     "name": "stdout",
     "output_type": "stream",
     "text": [
      "Computed DP matrices in 0.05 seconds.\n"
     ]
    },
    {
     "name": "stderr",
     "output_type": "stream",
     "text": [
      "Finding matches: 100%|██████████| 500/500 [00:00<00:00, 1460.16sequence/s]\n",
      "Processing llama_1.5B_Goldfish_K_21_H_13_GBS_120_EPOCH_79:  79%|███████▉  | 15/19 [06:53<01:49, 27.46s/it]"
     ]
    },
    {
     "name": "stdout",
     "output_type": "stream",
     "text": [
      "Computed DP matrices in 0.79 seconds.\n"
     ]
    },
    {
     "name": "stderr",
     "output_type": "stream",
     "text": [
      "Finding matches: 100%|██████████| 9000/9000 [00:08<00:00, 1074.38sequence/s]\n"
     ]
    },
    {
     "name": "stdout",
     "output_type": "stream",
     "text": [
      "Computed DP matrices in 0.05 seconds.\n"
     ]
    },
    {
     "name": "stderr",
     "output_type": "stream",
     "text": [
      "Finding matches: 100%|██████████| 500/500 [00:00<00:00, 720.14sequence/s]\n"
     ]
    },
    {
     "name": "stdout",
     "output_type": "stream",
     "text": [
      "Computed DP matrices in 0.05 seconds.\n"
     ]
    },
    {
     "name": "stderr",
     "output_type": "stream",
     "text": [
      "Finding matches: 100%|██████████| 500/500 [00:00<00:00, 1472.72sequence/s]\n",
      "Processing llama_1.5B_Goldfish_K_21_H_13_GBS_120_EPOCH_79:  84%|████████▍ | 16/19 [07:20<01:21, 27.15s/it]"
     ]
    },
    {
     "name": "stdout",
     "output_type": "stream",
     "text": [
      "Computed DP matrices in 0.83 seconds.\n"
     ]
    },
    {
     "name": "stderr",
     "output_type": "stream",
     "text": [
      "Finding matches: 100%|██████████| 9000/9000 [00:08<00:00, 1084.89sequence/s]\n"
     ]
    },
    {
     "name": "stdout",
     "output_type": "stream",
     "text": [
      "Computed DP matrices in 0.05 seconds.\n"
     ]
    },
    {
     "name": "stderr",
     "output_type": "stream",
     "text": [
      "Finding matches: 100%|██████████| 500/500 [00:00<00:00, 1417.17sequence/s]\n"
     ]
    },
    {
     "name": "stdout",
     "output_type": "stream",
     "text": [
      "Computed DP matrices in 0.05 seconds.\n"
     ]
    },
    {
     "name": "stderr",
     "output_type": "stream",
     "text": [
      "Finding matches: 100%|██████████| 500/500 [00:00<00:00, 893.28sequence/s]\n",
      "Processing llama_1.5B_Goldfish_K_21_H_13_GBS_120_EPOCH_79:  89%|████████▉ | 17/19 [07:47<00:54, 27.27s/it]"
     ]
    },
    {
     "name": "stdout",
     "output_type": "stream",
     "text": [
      "Computed DP matrices in 0.79 seconds.\n"
     ]
    },
    {
     "name": "stderr",
     "output_type": "stream",
     "text": [
      "Finding matches: 100%|██████████| 9000/9000 [00:08<00:00, 1029.22sequence/s]\n"
     ]
    },
    {
     "name": "stdout",
     "output_type": "stream",
     "text": [
      "Computed DP matrices in 0.05 seconds.\n"
     ]
    },
    {
     "name": "stderr",
     "output_type": "stream",
     "text": [
      "Finding matches: 100%|██████████| 500/500 [00:00<00:00, 701.16sequence/s]\n"
     ]
    },
    {
     "name": "stdout",
     "output_type": "stream",
     "text": [
      "Computed DP matrices in 0.05 seconds.\n"
     ]
    },
    {
     "name": "stderr",
     "output_type": "stream",
     "text": [
      "Finding matches: 100%|██████████| 500/500 [00:00<00:00, 1496.86sequence/s]\n",
      "Processing llama_1.5B_Goldfish_K_21_H_13_GBS_120_EPOCH_79:  95%|█████████▍| 18/19 [08:15<00:27, 27.44s/it]"
     ]
    },
    {
     "name": "stdout",
     "output_type": "stream",
     "text": [
      "Computed DP matrices in 0.84 seconds.\n"
     ]
    },
    {
     "name": "stderr",
     "output_type": "stream",
     "text": [
      "Finding matches: 100%|██████████| 9000/9000 [00:08<00:00, 1090.75sequence/s]\n"
     ]
    },
    {
     "name": "stdout",
     "output_type": "stream",
     "text": [
      "Computed DP matrices in 0.05 seconds.\n"
     ]
    },
    {
     "name": "stderr",
     "output_type": "stream",
     "text": [
      "Finding matches: 100%|██████████| 500/500 [00:00<00:00, 1428.10sequence/s]\n"
     ]
    },
    {
     "name": "stdout",
     "output_type": "stream",
     "text": [
      "Computed DP matrices in 0.05 seconds.\n"
     ]
    },
    {
     "name": "stderr",
     "output_type": "stream",
     "text": [
      "Finding matches: 100%|██████████| 500/500 [00:00<00:00, 1495.84sequence/s]\n",
      "Processing llama_1.5B_Goldfish_K_21_H_13_GBS_120_EPOCH_79: 100%|██████████| 19/19 [08:42<00:00, 27.51s/it]\n",
      "Processing llama_1.5B_Standard_GBS_120_EPOCH_75:   0%|          | 0/19 [00:00<?, ?it/s]"
     ]
    },
    {
     "name": "stdout",
     "output_type": "stream",
     "text": [
      "Computed DP matrices in 0.79 seconds.\n"
     ]
    },
    {
     "name": "stderr",
     "output_type": "stream",
     "text": [
      "Finding matches: 100%|██████████| 9000/9000 [00:13<00:00, 677.09sequence/s]\n"
     ]
    },
    {
     "name": "stdout",
     "output_type": "stream",
     "text": [
      "Computed DP matrices in 0.05 seconds.\n"
     ]
    },
    {
     "name": "stderr",
     "output_type": "stream",
     "text": [
      "Finding matches: 100%|██████████| 500/500 [00:00<00:00, 797.66sequence/s]\n"
     ]
    },
    {
     "name": "stdout",
     "output_type": "stream",
     "text": [
      "Computed DP matrices in 0.05 seconds.\n"
     ]
    },
    {
     "name": "stderr",
     "output_type": "stream",
     "text": [
      "Finding matches: 100%|██████████| 500/500 [00:00<00:00, 912.32sequence/s]\n",
      "Processing llama_1.5B_Standard_GBS_120_EPOCH_75:   5%|▌         | 1/19 [00:32<09:43, 32.39s/it]"
     ]
    },
    {
     "name": "stdout",
     "output_type": "stream",
     "text": [
      "Computed DP matrices in 0.74 seconds.\n"
     ]
    },
    {
     "name": "stderr",
     "output_type": "stream",
     "text": [
      "Finding matches: 100%|██████████| 9000/9000 [00:11<00:00, 814.94sequence/s]\n"
     ]
    },
    {
     "name": "stdout",
     "output_type": "stream",
     "text": [
      "Computed DP matrices in 0.05 seconds.\n"
     ]
    },
    {
     "name": "stderr",
     "output_type": "stream",
     "text": [
      "Finding matches: 100%|██████████| 500/500 [00:00<00:00, 1052.50sequence/s]\n"
     ]
    },
    {
     "name": "stdout",
     "output_type": "stream",
     "text": [
      "Computed DP matrices in 0.05 seconds.\n"
     ]
    },
    {
     "name": "stderr",
     "output_type": "stream",
     "text": [
      "Finding matches: 100%|██████████| 500/500 [00:00<00:00, 1128.97sequence/s]\n",
      "Processing llama_1.5B_Standard_GBS_120_EPOCH_75:  11%|█         | 2/19 [01:02<08:45, 30.94s/it]"
     ]
    },
    {
     "name": "stdout",
     "output_type": "stream",
     "text": [
      "Computed DP matrices in 0.77 seconds.\n"
     ]
    },
    {
     "name": "stderr",
     "output_type": "stream",
     "text": [
      "Finding matches: 100%|██████████| 9000/9000 [00:10<00:00, 855.03sequence/s]\n"
     ]
    },
    {
     "name": "stdout",
     "output_type": "stream",
     "text": [
      "Computed DP matrices in 0.05 seconds.\n"
     ]
    },
    {
     "name": "stderr",
     "output_type": "stream",
     "text": [
      "Finding matches: 100%|██████████| 500/500 [00:00<00:00, 1080.67sequence/s]\n"
     ]
    },
    {
     "name": "stdout",
     "output_type": "stream",
     "text": [
      "Computed DP matrices in 0.06 seconds.\n"
     ]
    },
    {
     "name": "stderr",
     "output_type": "stream",
     "text": [
      "Finding matches: 100%|██████████| 500/500 [00:00<00:00, 1201.84sequence/s]\n",
      "Processing llama_1.5B_Standard_GBS_120_EPOCH_75:  16%|█▌        | 3/19 [01:31<08:02, 30.18s/it]"
     ]
    },
    {
     "name": "stdout",
     "output_type": "stream",
     "text": [
      "Computed DP matrices in 0.82 seconds.\n"
     ]
    },
    {
     "name": "stderr",
     "output_type": "stream",
     "text": [
      "Finding matches: 100%|██████████| 9000/9000 [00:09<00:00, 968.01sequence/s]\n"
     ]
    },
    {
     "name": "stdout",
     "output_type": "stream",
     "text": [
      "Computed DP matrices in 0.05 seconds.\n"
     ]
    },
    {
     "name": "stderr",
     "output_type": "stream",
     "text": [
      "Finding matches: 100%|██████████| 500/500 [00:00<00:00, 1253.16sequence/s]\n"
     ]
    },
    {
     "name": "stdout",
     "output_type": "stream",
     "text": [
      "Computed DP matrices in 0.05 seconds.\n"
     ]
    },
    {
     "name": "stderr",
     "output_type": "stream",
     "text": [
      "Finding matches: 100%|██████████| 500/500 [00:00<00:00, 1322.79sequence/s]\n",
      "Processing llama_1.5B_Standard_GBS_120_EPOCH_75:  21%|██        | 4/19 [01:59<07:18, 29.25s/it]"
     ]
    },
    {
     "name": "stdout",
     "output_type": "stream",
     "text": [
      "Computed DP matrices in 0.78 seconds.\n"
     ]
    },
    {
     "name": "stderr",
     "output_type": "stream",
     "text": [
      "Finding matches: 100%|██████████| 9000/9000 [00:09<00:00, 958.35sequence/s] \n"
     ]
    },
    {
     "name": "stdout",
     "output_type": "stream",
     "text": [
      "Computed DP matrices in 0.06 seconds.\n"
     ]
    },
    {
     "name": "stderr",
     "output_type": "stream",
     "text": [
      "Finding matches: 100%|██████████| 500/500 [00:00<00:00, 1279.40sequence/s]\n"
     ]
    },
    {
     "name": "stdout",
     "output_type": "stream",
     "text": [
      "Computed DP matrices in 0.06 seconds.\n"
     ]
    },
    {
     "name": "stderr",
     "output_type": "stream",
     "text": [
      "Finding matches: 100%|██████████| 500/500 [00:00<00:00, 732.52sequence/s]\n",
      "Processing llama_1.5B_Standard_GBS_120_EPOCH_75:  26%|██▋       | 5/19 [02:28<06:48, 29.16s/it]"
     ]
    },
    {
     "name": "stdout",
     "output_type": "stream",
     "text": [
      "Computed DP matrices in 0.79 seconds.\n"
     ]
    },
    {
     "name": "stderr",
     "output_type": "stream",
     "text": [
      "Finding matches: 100%|██████████| 9000/9000 [00:09<00:00, 961.06sequence/s] \n"
     ]
    },
    {
     "name": "stdout",
     "output_type": "stream",
     "text": [
      "Computed DP matrices in 0.05 seconds.\n"
     ]
    },
    {
     "name": "stderr",
     "output_type": "stream",
     "text": [
      "Finding matches: 100%|██████████| 500/500 [00:00<00:00, 584.57sequence/s]\n"
     ]
    },
    {
     "name": "stdout",
     "output_type": "stream",
     "text": [
      "Computed DP matrices in 0.05 seconds.\n"
     ]
    },
    {
     "name": "stderr",
     "output_type": "stream",
     "text": [
      "Finding matches: 100%|██████████| 500/500 [00:00<00:00, 1377.21sequence/s]\n",
      "Processing llama_1.5B_Standard_GBS_120_EPOCH_75:  32%|███▏      | 6/19 [02:56<06:15, 28.88s/it]"
     ]
    },
    {
     "name": "stdout",
     "output_type": "stream",
     "text": [
      "Computed DP matrices in 0.80 seconds.\n"
     ]
    },
    {
     "name": "stderr",
     "output_type": "stream",
     "text": [
      "Finding matches: 100%|██████████| 9000/9000 [00:08<00:00, 1029.60sequence/s]\n"
     ]
    },
    {
     "name": "stdout",
     "output_type": "stream",
     "text": [
      "Computed DP matrices in 0.05 seconds.\n"
     ]
    },
    {
     "name": "stderr",
     "output_type": "stream",
     "text": [
      "Finding matches: 100%|██████████| 500/500 [00:00<00:00, 1365.90sequence/s]\n"
     ]
    },
    {
     "name": "stdout",
     "output_type": "stream",
     "text": [
      "Computed DP matrices in 0.05 seconds.\n"
     ]
    },
    {
     "name": "stderr",
     "output_type": "stream",
     "text": [
      "Finding matches: 100%|██████████| 500/500 [00:00<00:00, 1465.60sequence/s]\n",
      "Processing llama_1.5B_Standard_GBS_120_EPOCH_75:  37%|███▋      | 7/19 [03:23<05:39, 28.26s/it]"
     ]
    },
    {
     "name": "stdout",
     "output_type": "stream",
     "text": [
      "Computed DP matrices in 0.82 seconds.\n"
     ]
    },
    {
     "name": "stderr",
     "output_type": "stream",
     "text": [
      "Finding matches: 100%|██████████| 9000/9000 [00:09<00:00, 985.45sequence/s] \n"
     ]
    },
    {
     "name": "stdout",
     "output_type": "stream",
     "text": [
      "Computed DP matrices in 0.05 seconds.\n"
     ]
    },
    {
     "name": "stderr",
     "output_type": "stream",
     "text": [
      "Finding matches: 100%|██████████| 500/500 [00:00<00:00, 613.76sequence/s]\n"
     ]
    },
    {
     "name": "stdout",
     "output_type": "stream",
     "text": [
      "Computed DP matrices in 0.05 seconds.\n"
     ]
    },
    {
     "name": "stderr",
     "output_type": "stream",
     "text": [
      "Finding matches: 100%|██████████| 500/500 [00:00<00:00, 1375.37sequence/s]\n",
      "Processing llama_1.5B_Standard_GBS_120_EPOCH_75:  42%|████▏     | 8/19 [03:51<05:09, 28.14s/it]"
     ]
    },
    {
     "name": "stdout",
     "output_type": "stream",
     "text": [
      "Computed DP matrices in 0.80 seconds.\n"
     ]
    },
    {
     "name": "stderr",
     "output_type": "stream",
     "text": [
      "Finding matches: 100%|██████████| 9000/9000 [00:08<00:00, 1082.35sequence/s]\n"
     ]
    },
    {
     "name": "stdout",
     "output_type": "stream",
     "text": [
      "Computed DP matrices in 0.06 seconds.\n"
     ]
    },
    {
     "name": "stderr",
     "output_type": "stream",
     "text": [
      "Finding matches: 100%|██████████| 500/500 [00:00<00:00, 644.29sequence/s]\n"
     ]
    },
    {
     "name": "stdout",
     "output_type": "stream",
     "text": [
      "Computed DP matrices in 0.05 seconds.\n"
     ]
    },
    {
     "name": "stderr",
     "output_type": "stream",
     "text": [
      "Finding matches: 100%|██████████| 500/500 [00:00<00:00, 1506.48sequence/s]\n",
      "Processing llama_1.5B_Standard_GBS_120_EPOCH_75:  47%|████▋     | 9/19 [04:18<04:38, 27.81s/it]"
     ]
    },
    {
     "name": "stdout",
     "output_type": "stream",
     "text": [
      "Computed DP matrices in 0.80 seconds.\n"
     ]
    },
    {
     "name": "stderr",
     "output_type": "stream",
     "text": [
      "Finding matches: 100%|██████████| 9000/9000 [00:08<00:00, 1020.95sequence/s]\n"
     ]
    },
    {
     "name": "stdout",
     "output_type": "stream",
     "text": [
      "Computed DP matrices in 0.05 seconds.\n"
     ]
    },
    {
     "name": "stderr",
     "output_type": "stream",
     "text": [
      "Finding matches: 100%|██████████| 500/500 [00:00<00:00, 1364.61sequence/s]\n"
     ]
    },
    {
     "name": "stdout",
     "output_type": "stream",
     "text": [
      "Computed DP matrices in 0.05 seconds.\n"
     ]
    },
    {
     "name": "stderr",
     "output_type": "stream",
     "text": [
      "Finding matches: 100%|██████████| 500/500 [00:00<00:00, 1448.86sequence/s]\n",
      "Processing llama_1.5B_Standard_GBS_120_EPOCH_75:  53%|█████▎    | 10/19 [04:45<04:07, 27.55s/it]"
     ]
    },
    {
     "name": "stdout",
     "output_type": "stream",
     "text": [
      "Computed DP matrices in 0.80 seconds.\n"
     ]
    },
    {
     "name": "stderr",
     "output_type": "stream",
     "text": [
      "Finding matches: 100%|██████████| 9000/9000 [00:09<00:00, 988.30sequence/s] \n"
     ]
    },
    {
     "name": "stdout",
     "output_type": "stream",
     "text": [
      "Computed DP matrices in 0.06 seconds.\n"
     ]
    },
    {
     "name": "stderr",
     "output_type": "stream",
     "text": [
      "Finding matches: 100%|██████████| 500/500 [00:00<00:00, 1390.66sequence/s]\n"
     ]
    },
    {
     "name": "stdout",
     "output_type": "stream",
     "text": [
      "Computed DP matrices in 0.06 seconds.\n"
     ]
    },
    {
     "name": "stderr",
     "output_type": "stream",
     "text": [
      "Finding matches: 100%|██████████| 500/500 [00:00<00:00, 765.60sequence/s]\n",
      "Processing llama_1.5B_Standard_GBS_120_EPOCH_75:  58%|█████▊    | 11/19 [05:13<03:41, 27.67s/it]"
     ]
    },
    {
     "name": "stdout",
     "output_type": "stream",
     "text": [
      "Computed DP matrices in 0.78 seconds.\n"
     ]
    },
    {
     "name": "stderr",
     "output_type": "stream",
     "text": [
      "Finding matches: 100%|██████████| 9000/9000 [00:09<00:00, 976.69sequence/s] \n"
     ]
    },
    {
     "name": "stdout",
     "output_type": "stream",
     "text": [
      "Computed DP matrices in 0.05 seconds.\n"
     ]
    },
    {
     "name": "stderr",
     "output_type": "stream",
     "text": [
      "Finding matches: 100%|██████████| 500/500 [00:00<00:00, 1343.69sequence/s]\n"
     ]
    },
    {
     "name": "stdout",
     "output_type": "stream",
     "text": [
      "Computed DP matrices in 0.05 seconds.\n"
     ]
    },
    {
     "name": "stderr",
     "output_type": "stream",
     "text": [
      "Finding matches: 100%|██████████| 500/500 [00:00<00:00, 1402.63sequence/s]\n",
      "Processing llama_1.5B_Standard_GBS_120_EPOCH_75:  63%|██████▎   | 12/19 [05:41<03:13, 27.59s/it]"
     ]
    },
    {
     "name": "stdout",
     "output_type": "stream",
     "text": [
      "Computed DP matrices in 0.81 seconds.\n"
     ]
    },
    {
     "name": "stderr",
     "output_type": "stream",
     "text": [
      "Finding matches: 100%|██████████| 9000/9000 [00:08<00:00, 1033.67sequence/s]\n"
     ]
    },
    {
     "name": "stdout",
     "output_type": "stream",
     "text": [
      "Computed DP matrices in 0.05 seconds.\n"
     ]
    },
    {
     "name": "stderr",
     "output_type": "stream",
     "text": [
      "Finding matches: 100%|██████████| 500/500 [00:00<00:00, 661.03sequence/s]\n"
     ]
    },
    {
     "name": "stdout",
     "output_type": "stream",
     "text": [
      "Computed DP matrices in 0.05 seconds.\n"
     ]
    },
    {
     "name": "stderr",
     "output_type": "stream",
     "text": [
      "Finding matches: 100%|██████████| 500/500 [00:00<00:00, 1415.10sequence/s]\n",
      "Processing llama_1.5B_Standard_GBS_120_EPOCH_75:  68%|██████▊   | 13/19 [06:08<02:45, 27.57s/it]"
     ]
    },
    {
     "name": "stdout",
     "output_type": "stream",
     "text": [
      "Computed DP matrices in 0.85 seconds.\n"
     ]
    },
    {
     "name": "stderr",
     "output_type": "stream",
     "text": [
      "Finding matches: 100%|██████████| 9000/9000 [00:08<00:00, 1061.19sequence/s]\n"
     ]
    },
    {
     "name": "stdout",
     "output_type": "stream",
     "text": [
      "Computed DP matrices in 0.06 seconds.\n"
     ]
    },
    {
     "name": "stderr",
     "output_type": "stream",
     "text": [
      "Finding matches: 100%|██████████| 500/500 [00:00<00:00, 1360.30sequence/s]\n"
     ]
    },
    {
     "name": "stdout",
     "output_type": "stream",
     "text": [
      "Computed DP matrices in 0.05 seconds.\n"
     ]
    },
    {
     "name": "stderr",
     "output_type": "stream",
     "text": [
      "Finding matches: 100%|██████████| 500/500 [00:00<00:00, 1436.62sequence/s]\n",
      "Processing llama_1.5B_Standard_GBS_120_EPOCH_75:  74%|███████▎  | 14/19 [06:35<02:16, 27.25s/it]"
     ]
    },
    {
     "name": "stdout",
     "output_type": "stream",
     "text": [
      "Computed DP matrices in 0.79 seconds.\n"
     ]
    },
    {
     "name": "stderr",
     "output_type": "stream",
     "text": [
      "Finding matches: 100%|██████████| 9000/9000 [00:07<00:00, 1134.43sequence/s]\n"
     ]
    },
    {
     "name": "stdout",
     "output_type": "stream",
     "text": [
      "Computed DP matrices in 0.06 seconds.\n"
     ]
    },
    {
     "name": "stderr",
     "output_type": "stream",
     "text": [
      "Finding matches: 100%|██████████| 500/500 [00:00<00:00, 1363.43sequence/s]\n"
     ]
    },
    {
     "name": "stdout",
     "output_type": "stream",
     "text": [
      "Computed DP matrices in 0.05 seconds.\n"
     ]
    },
    {
     "name": "stderr",
     "output_type": "stream",
     "text": [
      "Finding matches: 100%|██████████| 500/500 [00:00<00:00, 788.45sequence/s]\n",
      "Processing llama_1.5B_Standard_GBS_120_EPOCH_75:  79%|███████▉  | 15/19 [07:01<01:48, 27.05s/it]"
     ]
    },
    {
     "name": "stdout",
     "output_type": "stream",
     "text": [
      "Computed DP matrices in 0.82 seconds.\n"
     ]
    },
    {
     "name": "stderr",
     "output_type": "stream",
     "text": [
      "Finding matches: 100%|██████████| 9000/9000 [00:07<00:00, 1188.99sequence/s]\n"
     ]
    },
    {
     "name": "stdout",
     "output_type": "stream",
     "text": [
      "Computed DP matrices in 0.05 seconds.\n"
     ]
    },
    {
     "name": "stderr",
     "output_type": "stream",
     "text": [
      "Finding matches: 100%|██████████| 500/500 [00:00<00:00, 711.69sequence/s]\n"
     ]
    },
    {
     "name": "stdout",
     "output_type": "stream",
     "text": [
      "Computed DP matrices in 0.06 seconds.\n"
     ]
    },
    {
     "name": "stderr",
     "output_type": "stream",
     "text": [
      "Finding matches: 100%|██████████| 500/500 [00:00<00:00, 1450.49sequence/s]\n",
      "Processing llama_1.5B_Standard_GBS_120_EPOCH_75:  84%|████████▍ | 16/19 [07:28<01:20, 26.90s/it]"
     ]
    },
    {
     "name": "stdout",
     "output_type": "stream",
     "text": [
      "Computed DP matrices in 0.81 seconds.\n"
     ]
    },
    {
     "name": "stderr",
     "output_type": "stream",
     "text": [
      "Finding matches: 100%|██████████| 9000/9000 [00:07<00:00, 1190.98sequence/s]\n"
     ]
    },
    {
     "name": "stdout",
     "output_type": "stream",
     "text": [
      "Computed DP matrices in 0.05 seconds.\n"
     ]
    },
    {
     "name": "stderr",
     "output_type": "stream",
     "text": [
      "Finding matches: 100%|██████████| 500/500 [00:00<00:00, 1311.94sequence/s]\n"
     ]
    },
    {
     "name": "stdout",
     "output_type": "stream",
     "text": [
      "Computed DP matrices in 0.05 seconds.\n"
     ]
    },
    {
     "name": "stderr",
     "output_type": "stream",
     "text": [
      "Finding matches: 100%|██████████| 500/500 [00:00<00:00, 739.99sequence/s]\n",
      "Processing llama_1.5B_Standard_GBS_120_EPOCH_75:  89%|████████▉ | 17/19 [07:54<00:53, 26.74s/it]"
     ]
    },
    {
     "name": "stdout",
     "output_type": "stream",
     "text": [
      "Computed DP matrices in 0.79 seconds.\n"
     ]
    },
    {
     "name": "stderr",
     "output_type": "stream",
     "text": [
      "Finding matches: 100%|██████████| 9000/9000 [00:07<00:00, 1192.64sequence/s]\n"
     ]
    },
    {
     "name": "stdout",
     "output_type": "stream",
     "text": [
      "Computed DP matrices in 0.05 seconds.\n"
     ]
    },
    {
     "name": "stderr",
     "output_type": "stream",
     "text": [
      "Finding matches: 100%|██████████| 500/500 [00:00<00:00, 1360.98sequence/s]\n"
     ]
    },
    {
     "name": "stdout",
     "output_type": "stream",
     "text": [
      "Computed DP matrices in 0.05 seconds.\n"
     ]
    },
    {
     "name": "stderr",
     "output_type": "stream",
     "text": [
      "Finding matches: 100%|██████████| 500/500 [00:00<00:00, 780.39sequence/s]\n",
      "Processing llama_1.5B_Standard_GBS_120_EPOCH_75:  95%|█████████▍| 18/19 [08:20<00:26, 26.60s/it]"
     ]
    },
    {
     "name": "stdout",
     "output_type": "stream",
     "text": [
      "Computed DP matrices in 0.81 seconds.\n"
     ]
    },
    {
     "name": "stderr",
     "output_type": "stream",
     "text": [
      "Finding matches: 100%|██████████| 9000/9000 [00:07<00:00, 1186.70sequence/s]\n"
     ]
    },
    {
     "name": "stdout",
     "output_type": "stream",
     "text": [
      "Computed DP matrices in 0.06 seconds.\n"
     ]
    },
    {
     "name": "stderr",
     "output_type": "stream",
     "text": [
      "Finding matches: 100%|██████████| 500/500 [00:00<00:00, 1335.44sequence/s]\n"
     ]
    },
    {
     "name": "stdout",
     "output_type": "stream",
     "text": [
      "Computed DP matrices in 0.06 seconds.\n"
     ]
    },
    {
     "name": "stderr",
     "output_type": "stream",
     "text": [
      "Finding matches: 100%|██████████| 500/500 [00:00<00:00, 750.30sequence/s]\n",
      "Processing llama_1.5B_Standard_GBS_120_EPOCH_75: 100%|██████████| 19/19 [08:47<00:00, 27.74s/it]\n"
     ]
    }
   ],
   "source": [
    "results = calc_avg_cs_lengths(base_dir, model_ids)"
   ]
  },
  {
   "cell_type": "code",
   "execution_count": 14,
   "metadata": {},
   "outputs": [
    {
     "data": {
      "text/plain": [
       "{'llama_1.5B_Goldfish_K_5_H_13_GBS_120_EPOCH_93': {'train': {'steps': [300,\n",
       "    600,\n",
       "    900,\n",
       "    1200,\n",
       "    1500,\n",
       "    1800,\n",
       "    2100,\n",
       "    2400,\n",
       "    2700,\n",
       "    3000,\n",
       "    3300,\n",
       "    3600,\n",
       "    3900,\n",
       "    4200,\n",
       "    4500,\n",
       "    4800,\n",
       "    5100,\n",
       "    5400,\n",
       "    5700,\n",
       "    6000,\n",
       "    6300,\n",
       "    6600,\n",
       "    6900],\n",
       "   'avg_lengths': [2.0719532412192465,\n",
       "    2.072559884328639,\n",
       "    2.1004022132249447,\n",
       "    2.1115800357570134,\n",
       "    2.124003484161156,\n",
       "    2.1317886683824314,\n",
       "    2.1342808316119233,\n",
       "    2.1387135438068503,\n",
       "    2.1370686346004595,\n",
       "    2.1408425299300826,\n",
       "    2.1443681333655062,\n",
       "    2.1451688477236996,\n",
       "    2.1499416527876063,\n",
       "    2.149531208006365,\n",
       "    2.1524292288232902,\n",
       "    2.15190753219568,\n",
       "    2.1511123174445386,\n",
       "    2.150446290532353,\n",
       "    2.151549563980276,\n",
       "    2.153274948808067,\n",
       "    2.15417120517658,\n",
       "    2.1482814291614325,\n",
       "    2.1540835402787697]},\n",
       "  'val': {'steps': [300,\n",
       "    600,\n",
       "    900,\n",
       "    1200,\n",
       "    1500,\n",
       "    1800,\n",
       "    2100,\n",
       "    2400,\n",
       "    2700,\n",
       "    3000,\n",
       "    3300,\n",
       "    3600,\n",
       "    3900,\n",
       "    4200,\n",
       "    4500,\n",
       "    4800,\n",
       "    5100,\n",
       "    5400,\n",
       "    5700,\n",
       "    6000,\n",
       "    6300,\n",
       "    6600,\n",
       "    6900],\n",
       "   'avg_lengths': [2.0775680854399385,\n",
       "    2.0737155356691686,\n",
       "    2.0666410094484213,\n",
       "    2.0726505643090603,\n",
       "    2.0699017291757262,\n",
       "    2.0652851748380705,\n",
       "    2.0583713962588197,\n",
       "    2.0639030299578516,\n",
       "    2.057785792650616,\n",
       "    2.05242879231303,\n",
       "    2.0705845595575965,\n",
       "    2.0528762941538954,\n",
       "    2.0514709508939117,\n",
       "    2.0516844226995734,\n",
       "    2.0516741772070284,\n",
       "    2.0636874333109234,\n",
       "    2.0623987189669113,\n",
       "    2.0540629160162043,\n",
       "    2.047898551213779,\n",
       "    2.056928224987711,\n",
       "    2.055908704607173,\n",
       "    2.0559241144588385,\n",
       "    2.0578975905969408]},\n",
       "  'test': {'steps': [300,\n",
       "    600,\n",
       "    900,\n",
       "    1200,\n",
       "    1500,\n",
       "    1800,\n",
       "    2100,\n",
       "    2400,\n",
       "    2700,\n",
       "    3000,\n",
       "    3300,\n",
       "    3600,\n",
       "    3900,\n",
       "    4200,\n",
       "    4500,\n",
       "    4800,\n",
       "    5100,\n",
       "    5400,\n",
       "    5700,\n",
       "    6000,\n",
       "    6300,\n",
       "    6600,\n",
       "    6900],\n",
       "   'avg_lengths': [2.0635360672103595,\n",
       "    2.0741009658389284,\n",
       "    2.063200258333149,\n",
       "    2.0577982252770033,\n",
       "    2.048215058172084,\n",
       "    2.046938886288245,\n",
       "    2.0559591667545996,\n",
       "    2.04476073154303,\n",
       "    2.0478263971112134,\n",
       "    2.0479294525680403,\n",
       "    2.050315568478316,\n",
       "    2.049647607268613,\n",
       "    2.0508441704777067,\n",
       "    2.047930455045169,\n",
       "    2.0446275922258277,\n",
       "    2.0440398602284793,\n",
       "    2.0451916916312904,\n",
       "    2.0462188003160704,\n",
       "    2.0488020868643106,\n",
       "    2.046402839596031,\n",
       "    2.047719672319615,\n",
       "    2.04935566316206,\n",
       "    2.04871046140608]}},\n",
       " 'llama_1.5B_Goldfish_K_10_H_13_GBS_120_EPOCH_83': {'train': {'steps': [300,\n",
       "    600,\n",
       "    900,\n",
       "    1200,\n",
       "    1500,\n",
       "    1800,\n",
       "    2100,\n",
       "    2400,\n",
       "    2700,\n",
       "    3000,\n",
       "    3300,\n",
       "    3600,\n",
       "    3900,\n",
       "    4200,\n",
       "    4500,\n",
       "    4800,\n",
       "    5100,\n",
       "    5400,\n",
       "    5700,\n",
       "    6000,\n",
       "    6225],\n",
       "   'avg_lengths': [2.055445200966622,\n",
       "    2.0698266266334286,\n",
       "    2.10218800541961,\n",
       "    2.1086430307924324,\n",
       "    2.131792097262961,\n",
       "    2.145100782007498,\n",
       "    2.1693919185941355,\n",
       "    2.1812962057057432,\n",
       "    2.1892899588702326,\n",
       "    2.19719195078084,\n",
       "    2.198109714644216,\n",
       "    2.213095497003884,\n",
       "    2.217795628904877,\n",
       "    2.219258492094173,\n",
       "    2.2195733064849255,\n",
       "    2.2234925958417557,\n",
       "    2.2190828291098974,\n",
       "    2.2249463279673796,\n",
       "    2.2208684548536266,\n",
       "    2.2222776879792043,\n",
       "    2.22536178904524]},\n",
       "  'val': {'steps': [300,\n",
       "    600,\n",
       "    900,\n",
       "    1200,\n",
       "    1500,\n",
       "    1800,\n",
       "    2100,\n",
       "    2400,\n",
       "    2700,\n",
       "    3000,\n",
       "    3300,\n",
       "    3600,\n",
       "    3900,\n",
       "    4200,\n",
       "    4500,\n",
       "    4800,\n",
       "    5100,\n",
       "    5400,\n",
       "    5700,\n",
       "    6000,\n",
       "    6225],\n",
       "   'avg_lengths': [2.0606856025148446,\n",
       "    2.0662208496425967,\n",
       "    2.0890589051355923,\n",
       "    2.072216165251946,\n",
       "    2.0596590873950893,\n",
       "    2.052514145821423,\n",
       "    2.057454973853965,\n",
       "    2.051406012697753,\n",
       "    2.0498962629436113,\n",
       "    2.053243733524433,\n",
       "    2.0487397067843847,\n",
       "    2.0587286363583224,\n",
       "    2.0512785950834447,\n",
       "    2.055957959274544,\n",
       "    2.064243566266232,\n",
       "    2.0488816327877255,\n",
       "    2.062645501691565,\n",
       "    2.054420158585978,\n",
       "    2.0568002627757567,\n",
       "    2.0571562821430875,\n",
       "    2.0611447648753236]},\n",
       "  'test': {'steps': [300,\n",
       "    600,\n",
       "    900,\n",
       "    1200,\n",
       "    1500,\n",
       "    1800,\n",
       "    2100,\n",
       "    2400,\n",
       "    2700,\n",
       "    3000,\n",
       "    3300,\n",
       "    3600,\n",
       "    3900,\n",
       "    4200,\n",
       "    4500,\n",
       "    4800,\n",
       "    5100,\n",
       "    5400,\n",
       "    5700,\n",
       "    6000,\n",
       "    6225],\n",
       "   'avg_lengths': [2.051770906530814,\n",
       "    2.054912086924883,\n",
       "    2.069041784393296,\n",
       "    2.0591631096115903,\n",
       "    2.05244316159406,\n",
       "    2.0514877719045344,\n",
       "    2.050990097632821,\n",
       "    2.052195320135127,\n",
       "    2.0485642771360673,\n",
       "    2.0481106655642534,\n",
       "    2.0527459876708787,\n",
       "    2.048983921473847,\n",
       "    2.057026833053672,\n",
       "    2.053531363762624,\n",
       "    2.051695161404796,\n",
       "    2.04645197624982,\n",
       "    2.0511318212629046,\n",
       "    2.0544342069293244,\n",
       "    2.050413789836792,\n",
       "    2.0444991354292665,\n",
       "    2.0514650004823998]}},\n",
       " 'llama_1.5B_Goldfish_K_21_H_13_GBS_120_EPOCH_79': {'train': {'steps': [300,\n",
       "    600,\n",
       "    1200,\n",
       "    1500,\n",
       "    1800,\n",
       "    2100,\n",
       "    2400,\n",
       "    2700,\n",
       "    3000,\n",
       "    3300,\n",
       "    3600,\n",
       "    3900,\n",
       "    4200,\n",
       "    4500,\n",
       "    4800,\n",
       "    5100,\n",
       "    5400,\n",
       "    5700,\n",
       "    5925],\n",
       "   'avg_lengths': [2.064183543764405,\n",
       "    2.079030954911571,\n",
       "    2.1294768434057234,\n",
       "    2.146863105517108,\n",
       "    2.1946887665237096,\n",
       "    2.21744206596016,\n",
       "    2.255605299552556,\n",
       "    2.2677837252051143,\n",
       "    2.291434228977513,\n",
       "    2.3256014085717176,\n",
       "    2.335549717525747,\n",
       "    2.3573664610366922,\n",
       "    2.360399443454281,\n",
       "    2.3759651427184583,\n",
       "    2.383340210868316,\n",
       "    2.384393992956121,\n",
       "    2.3880872752602778,\n",
       "    2.378482155171468,\n",
       "    2.3926722222918912]},\n",
       "  'val': {'steps': [300,\n",
       "    600,\n",
       "    1200,\n",
       "    1500,\n",
       "    1800,\n",
       "    2100,\n",
       "    2400,\n",
       "    2700,\n",
       "    3000,\n",
       "    3300,\n",
       "    3600,\n",
       "    3900,\n",
       "    4200,\n",
       "    4500,\n",
       "    4800,\n",
       "    5100,\n",
       "    5400,\n",
       "    5700,\n",
       "    5925],\n",
       "   'avg_lengths': [2.065038722940757,\n",
       "    2.068734554632625,\n",
       "    2.063889021132562,\n",
       "    2.0572333952666213,\n",
       "    2.054548264483448,\n",
       "    2.061662911457688,\n",
       "    2.0492876650582357,\n",
       "    2.0580887478702548,\n",
       "    2.0490910075175703,\n",
       "    2.0543656722380677,\n",
       "    2.0573619841872537,\n",
       "    2.0526463204928866,\n",
       "    2.0475882983276996,\n",
       "    2.0518122094196887,\n",
       "    2.066578326881985,\n",
       "    2.05079110512774,\n",
       "    2.0463328669859555,\n",
       "    2.049454420798236,\n",
       "    2.049517482636639]},\n",
       "  'test': {'steps': [300,\n",
       "    600,\n",
       "    1200,\n",
       "    1500,\n",
       "    1800,\n",
       "    2100,\n",
       "    2400,\n",
       "    2700,\n",
       "    3000,\n",
       "    3300,\n",
       "    3600,\n",
       "    3900,\n",
       "    4200,\n",
       "    4500,\n",
       "    4800,\n",
       "    5100,\n",
       "    5400,\n",
       "    5700,\n",
       "    5925],\n",
       "   'avg_lengths': [2.0567988209303802,\n",
       "    2.0751853269592955,\n",
       "    2.065088289458611,\n",
       "    2.051810727069898,\n",
       "    2.0480104090126523,\n",
       "    2.0540032508510078,\n",
       "    2.0514273636774205,\n",
       "    2.051000601014157,\n",
       "    2.0520222690429026,\n",
       "    2.048211184539889,\n",
       "    2.051583139032987,\n",
       "    2.0479332017974032,\n",
       "    2.0458864045407696,\n",
       "    2.049060351317965,\n",
       "    2.047961152255369,\n",
       "    2.0516643865663333,\n",
       "    2.0475337616362492,\n",
       "    2.0540521288784874,\n",
       "    2.0528847604667613]}},\n",
       " 'llama_1.5B_Standard_GBS_120_EPOCH_75': {'train': {'steps': [300,\n",
       "    600,\n",
       "    900,\n",
       "    1200,\n",
       "    1500,\n",
       "    1800,\n",
       "    2100,\n",
       "    2400,\n",
       "    2700,\n",
       "    3000,\n",
       "    3300,\n",
       "    3600,\n",
       "    3900,\n",
       "    4200,\n",
       "    4500,\n",
       "    4800,\n",
       "    5100,\n",
       "    5400,\n",
       "    5625],\n",
       "   'avg_lengths': [2.0560902220590602,\n",
       "    2.079706905742516,\n",
       "    2.094903746079558,\n",
       "    2.131199570689665,\n",
       "    2.4753257438632024,\n",
       "    6.960085749103515,\n",
       "    15.162011952126415,\n",
       "    28.2380543766751,\n",
       "    48.301167194427336,\n",
       "    68.02317272002385,\n",
       "    104.04284082822612,\n",
       "    145.6790414871139,\n",
       "    239.19811198988717,\n",
       "    316.67629301502524,\n",
       "    398.58152510040554,\n",
       "    452.163529618922,\n",
       "    470.73478298442416,\n",
       "    485.0545411422915,\n",
       "    487.1674695096553]},\n",
       "  'val': {'steps': [300,\n",
       "    600,\n",
       "    900,\n",
       "    1200,\n",
       "    1500,\n",
       "    1800,\n",
       "    2100,\n",
       "    2400,\n",
       "    2700,\n",
       "    3000,\n",
       "    3300,\n",
       "    3600,\n",
       "    3900,\n",
       "    4200,\n",
       "    4500,\n",
       "    4800,\n",
       "    5100,\n",
       "    5400,\n",
       "    5625],\n",
       "   'avg_lengths': [2.056723846260528,\n",
       "    2.0775099226958,\n",
       "    2.0795105692478018,\n",
       "    2.0770295344267566,\n",
       "    2.0758169007540674,\n",
       "    2.056395722582172,\n",
       "    2.0504547134726243,\n",
       "    2.0596993641771486,\n",
       "    2.0539097811387856,\n",
       "    2.0513370746590316,\n",
       "    2.060188169732741,\n",
       "    2.0571233402516182,\n",
       "    2.052185668358373,\n",
       "    2.057175993511583,\n",
       "    2.0595174643125937,\n",
       "    2.047855190662894,\n",
       "    2.0576168413313836,\n",
       "    2.0535270457904806,\n",
       "    2.0500372934187454]},\n",
       "  'test': {'steps': [300,\n",
       "    600,\n",
       "    900,\n",
       "    1200,\n",
       "    1500,\n",
       "    1800,\n",
       "    2100,\n",
       "    2400,\n",
       "    2700,\n",
       "    3000,\n",
       "    3300,\n",
       "    3600,\n",
       "    3900,\n",
       "    4200,\n",
       "    4500,\n",
       "    4800,\n",
       "    5100,\n",
       "    5400,\n",
       "    5625],\n",
       "   'avg_lengths': [2.054566980248305,\n",
       "    2.0723037090103134,\n",
       "    2.055894840843497,\n",
       "    2.0620243268249334,\n",
       "    2.0540349178127095,\n",
       "    2.0465667506958414,\n",
       "    2.0487584333663573,\n",
       "    2.0500471061890337,\n",
       "    2.04686547367766,\n",
       "    2.04725338992565,\n",
       "    2.048450544415455,\n",
       "    2.0581558716952078,\n",
       "    2.0492709289702598,\n",
       "    2.0488005967828085,\n",
       "    2.050840224155436,\n",
       "    2.0515077175032386,\n",
       "    2.0490737275562796,\n",
       "    2.0464857439493853,\n",
       "    2.046842138673186]}}}"
      ]
     },
     "execution_count": 14,
     "metadata": {},
     "output_type": "execute_result"
    }
   ],
   "source": [
    "results"
   ]
  },
  {
   "cell_type": "code",
   "execution_count": 15,
   "metadata": {},
   "outputs": [
    {
     "data": {
      "image/png": "[encoded data removed]",
      "text/plain": [
       "<Figure size 1200x600 with 1 Axes>"
      ]
     },
     "metadata": {},
     "output_type": "display_data"
    }
   ],
   "source": [
    "plot_comparison(results)"
   ]
  },
  {
   "cell_type": "code",
   "execution_count": 16,
   "metadata": {},
   "outputs": [],
   "source": [
    "save_results(results, '../results/avg_cs.pkl')"
   ]
  },
  {
   "cell_type": "code",
   "execution_count": 19,
   "metadata": {},
   "outputs": [
    {
     "data": {
      "image/png": "[encoded data removed]",
      "text/plain": [
       "<Figure size 1200x600 with 1 Axes>"
      ]
     },
     "metadata": {},
     "output_type": "display_data"
    }
   ],
   "source": [
    "plot_comparison(\n",
    "    results=results, \n",
    "    include_ckpts=[\n",
    "        \"llama_1.5B_Goldfish_K_5_H_13_GBS_120_EPOCH_93\",\n",
    "        # \"llama_1.5B_Goldfish_K_10_H_13_GBS_120_EPOCH_83\",\n",
    "        # \"llama_1.5B_Goldfish_K_21_H_13_GBS_120_EPOCH_79\",\n",
    "        # \"llama_1.5B_Standard_GBS_120_EPOCH_75\"\n",
    "    ], \n",
    "    include_splits=[\n",
    "        'train', \n",
    "        'val', \n",
    "        'test'\n",
    "    ],\n",
    "    title='Average Verbatim Memorisation Length vs Training Epochs'\n",
    ")"
   ]
  },
  {
   "cell_type": "code",
   "execution_count": 10,
   "metadata": {},
   "outputs": [],
   "source": [
    "with open('/mloscratch/homes/yixuan/PDM/results/avg_cs.pkl', 'rb') as f:\n",
    "    results = pickle.load(f)"
   ]
  },
  {
   "cell_type": "code",
   "execution_count": null,
   "metadata": {},
   "outputs": [],
   "source": []
  }
 ],
 "metadata": {
  "kernelspec": {
   "display_name": "Python 3 (ipykernel)",
   "language": "python",
   "name": "python3"
  },
  "language_info": {
   "codemirror_mode": {
    "name": "ipython",
    "version": 3
   },
   "file_extension": ".py",
   "mimetype": "text/x-python",
   "name": "python",
   "nbconvert_exporter": "python",
   "pygments_lexer": "ipython3",
   "version": "3.10.12"
  }
 },
 "nbformat": 4,
 "nbformat_minor": 2
}
