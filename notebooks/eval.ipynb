{
 "cells": [
  {
   "cell_type": "code",
   "execution_count": 2,
   "metadata": {},
   "outputs": [],
   "source": [
    "%load_ext autoreload\n",
    "%autoreload 2"
   ]
  },
  {
   "cell_type": "code",
   "execution_count": 3,
   "metadata": {},
   "outputs": [],
   "source": [
    "import sys\n",
    "sys.path.append('/mloscratch/homes/yixuan/PDM')"
   ]
  },
  {
   "cell_type": "code",
   "execution_count": 4,
   "metadata": {},
   "outputs": [],
   "source": [
    "import numpy as np\n",
    "from datasets import load_dataset\n",
    "from tqdm import tqdm\n",
    "from utils.edit_distance import compute_ngram_distance_damerau_levenshtein\n",
    "from utils.LCS import find_longest_common_substrings\n",
    "from utils.exact_match import CommonSubstringMatcher"
   ]
  },
  {
   "cell_type": "code",
   "execution_count": 5,
   "metadata": {},
   "outputs": [],
   "source": [
    "import pickle \n",
    "import os\n",
    "\n",
    "# Using pickle (better for complex Python objects)\n",
    "def save_results(results, save_path):\n",
    "    \"\"\"\n",
    "    Save results dictionary to a file\n",
    "    \n",
    "    Parameters\n",
    "    ----------\n",
    "    results : dict\n",
    "        Dictionary containing results\n",
    "    save_path : str\n",
    "        Path to save the results (e.g., 'results/data.pkl')\n",
    "    \"\"\"\n",
    "    # Create directory if it doesn't exist\n",
    "    save_dir = os.path.dirname(save_path)\n",
    "    if save_dir:\n",
    "        os.makedirs(save_dir, exist_ok=True)\n",
    "        \n",
    "    with open(save_path, 'wb') as f:\n",
    "        pickle.dump(results, f)"
   ]
  },
  {
   "cell_type": "code",
   "execution_count": 8,
   "metadata": {},
   "outputs": [],
   "source": [
    "from pathlib import Path\n",
    "import matplotlib.pyplot as plt\n",
    "import numpy as np\n",
    "from datasets import load_dataset\n",
    "\n",
    "def get_checkpoints(expr_base_dir):\n",
    "    \"\"\"\n",
    "    Get sorted checkpoints from directory\n",
    "    \n",
    "    Parameters\n",
    "    ----------\n",
    "    expr_base_dir : str\n",
    "        Base directory containing checkpoints\n",
    "        \n",
    "    Returns\n",
    "    -------\n",
    "    list\n",
    "        Sorted list of (step, consumed) tuples\n",
    "    \"\"\"\n",
    "    return sorted([(int(f.name.split('=')[1].split('-')[0]), int(f.name.split('=')[2]))\n",
    "                  for f in Path(expr_base_dir).glob(\"step=*\")])\n",
    "\n",
    "def load_inference_data(base_dir, step, consumed):\n",
    "    \"\"\"\n",
    "    Load inference data from a given step and restore original data order.\n",
    "    DistributedSampler distributes data in round-robin fashion (e.g., GPU0: [0,8,16,...], GPU1: [1,9,17,...]).\n",
    "    This function loads data from all rank files and reorders it back to sequential order [0,1,2,...].\n",
    "    \n",
    "    Parameters\n",
    "    ----------\n",
    "    base_dir : str\n",
    "        Base directory path \n",
    "    step : int\n",
    "        Training step\n",
    "    consumed : int\n",
    "        Number of consumed tokens\n",
    "        \n",
    "    Returns\n",
    "    -------\n",
    "    Dataset\n",
    "        HuggingFace dataset with data restored to original sequential order\n",
    "    \"\"\"\n",
    "    file_path = Path(base_dir) / f\"step={step}-consumed={consumed}\"\n",
    "    rank_files = sorted(file_path.glob(\"rank*.jsonl\"))\n",
    "    world_size = len(rank_files)\n",
    "\n",
    "    # Load data from all ranks\n",
    "    dataset = load_dataset(\n",
    "        'json', \n",
    "        data_files=[str(f) for f in rank_files], \n",
    "        split='train'\n",
    "    )\n",
    "    \n",
    "    total_size = len(dataset)\n",
    "    items_per_rank = total_size // world_size\n",
    "\n",
    "    # Reorder to original sequential order\n",
    "    orig_indices = np.arange(total_size).reshape(world_size, items_per_rank).T.flatten()\n",
    "    \n",
    "    return dataset.select(orig_indices)"
   ]
  },
  {
   "cell_type": "code",
   "execution_count": 7,
   "metadata": {},
   "outputs": [],
   "source": [
    "def calc_avg_lcs_lengths(base_dir, model_ids):\n",
    "    \"\"\"\n",
    "    Calculate average LCS lengths for multiple models with data split into train/val/test\n",
    "    \n",
    "    Parameters\n",
    "    ----------\n",
    "    base_dir : str\n",
    "        Base directory containing all model results\n",
    "    model_ids : list\n",
    "        List of model identifiers to process\n",
    "        \n",
    "    Returns\n",
    "    -------\n",
    "    dict\n",
    "        Dictionary mapping model names to their results with split information\n",
    "    \"\"\"\n",
    "    results = {}\n",
    "    for model_id in model_ids:\n",
    "        expr_dir = f\"{base_dir}/{model_id}\"\n",
    "        ckpts = get_checkpoints(expr_dir)\n",
    "        \n",
    "        steps, avg_lengths = [], []\n",
    "        for step, consumed in tqdm(ckpts, desc=f\"Processing {model_id}\"):\n",
    "            data = load_inference_data(expr_dir, step, consumed)\n",
    "            \n",
    "            # Calculate split indices\n",
    "            n_total = len(data['true_suffix'])\n",
    "            n_train = int(n_total * 0.9)\n",
    "            n_val = int(n_total * 0.05)\n",
    "            \n",
    "            # Split data\n",
    "            splits = {\n",
    "                'train': {\n",
    "                    'true_suffix': data['true_suffix'][:n_train],\n",
    "                    'generated_suffix': data['generated_suffix'][:n_train]\n",
    "                },\n",
    "                'val': {\n",
    "                    'true_suffix': data['true_suffix'][n_train:n_train + n_val],\n",
    "                    'generated_suffix': data['generated_suffix'][n_train:n_train + n_val]\n",
    "                },\n",
    "                'test': {\n",
    "                    'true_suffix': data['true_suffix'][n_train + n_val:],\n",
    "                    'generated_suffix': data['generated_suffix'][n_train + n_val:]\n",
    "                }\n",
    "            }\n",
    "            \n",
    "            # Calculate LCS for each split\n",
    "            lcs_results = {}\n",
    "            for split_name, split_data in splits.items():\n",
    "                lcs_res = find_longest_common_substrings(\n",
    "                    split_data['true_suffix'], \n",
    "                    split_data['generated_suffix']\n",
    "                )\n",
    "                lcs_results[split_name] = lcs_res.max_length.mean()\n",
    "            \n",
    "            steps.append(step)\n",
    "            avg_lengths.append(lcs_results)\n",
    "            \n",
    "        # Reorganize results by split\n",
    "        split_results = {\n",
    "            'train': {'steps': steps, 'avg_lengths': [r['train'] for r in avg_lengths]},\n",
    "            'val': {'steps': steps, 'avg_lengths': [r['val'] for r in avg_lengths]},\n",
    "            'test': {'steps': steps, 'avg_lengths': [r['test'] for r in avg_lengths]}\n",
    "        }\n",
    "        \n",
    "        results[model_id] = split_results\n",
    "    \n",
    "    return results"
   ]
  },
  {
   "cell_type": "code",
   "execution_count": 8,
   "metadata": {},
   "outputs": [],
   "source": [
    "def plot_comparison(results, include_ckpts=None, include_splits=None, title=None, log_y=False):\n",
    "   \"\"\"\n",
    "   Plot comparison of models with train/val/test splits\n",
    "   \n",
    "   Parameters\n",
    "   ----------\n",
    "   results : dict\n",
    "       Dictionary containing results for each model and split\n",
    "   include_ckpts : list, optional\n",
    "       List of model IDs to include in plotting. If None, includes all models.\n",
    "   include_splits : list, optional\n",
    "       List of split names to include in plotting. If None, includes all splits.\n",
    "   title : str, optional\n",
    "       Custom title for the plot. If None, uses default title.\n",
    "   log_y : bool, optional\n",
    "       Whether to use log scale for y-axis\n",
    "       \n",
    "   Examples\n",
    "   --------\n",
    "   >>> # Plot all models and splits\n",
    "   >>> plot_comparison(results)\n",
    "   \n",
    "   >>> # Include only specific models and splits\n",
    "   >>> plot_comparison(results, \n",
    "   ...                include_ckpts=['llama_1.5B_Standard'],\n",
    "   ...                include_splits=['train', 'val'])\n",
    "   \n",
    "   >>> # Custom title and log scale\n",
    "   >>> plot_comparison(results,\n",
    "   ...                title='Model Comparison',\n",
    "   ...                log_y=True)\n",
    "   \"\"\"\n",
    "   plt.figure(figsize=(12, 6))\n",
    "   \n",
    "   # Line styles for different splits\n",
    "   all_styles = {\n",
    "       'train': '-',\n",
    "       'val': '--',\n",
    "       'test': ':'\n",
    "   }\n",
    "   \n",
    "   # Filter splits to include\n",
    "   styles = all_styles if include_splits is None else {\n",
    "       k: v for k, v in all_styles.items() if k in include_splits\n",
    "   }\n",
    "   \n",
    "   # Filter models and plot\n",
    "   models_to_plot = results.keys() if include_ckpts is None else include_ckpts\n",
    "   \n",
    "   for model_name in models_to_plot:\n",
    "       if model_name not in results:\n",
    "           continue\n",
    "           \n",
    "       model_results = results[model_name]\n",
    "       \n",
    "       # Plot each included split\n",
    "       for split_name, style in styles.items():\n",
    "           split_data = model_results[split_name]\n",
    "           \n",
    "           # Convert steps to epochs\n",
    "           epochs = [step/75 for step in split_data['steps']]\n",
    "           \n",
    "           plt.plot(epochs, split_data['avg_lengths'],\n",
    "                   linestyle=style,\n",
    "                   marker='o', \n",
    "                   label=f'{model_name} ({split_name})',\n",
    "                   alpha=0.7)\n",
    "   \n",
    "   plt.xlabel('Training Epochs')\n",
    "   plt.ylabel('Average Memorisation Length')\n",
    "   \n",
    "   # Use custom title if provided, otherwise use default\n",
    "   plot_title = title if title else 'Average Longest Verbatim Memorisation Length vs Training Epochs'\n",
    "   plt.title(plot_title)\n",
    "   \n",
    "   # Set y-axis to log scale if requested\n",
    "   if log_y:\n",
    "       plt.yscale('log')\n",
    "   \n",
    "   plt.legend(bbox_to_anchor=(1.05, 1), loc='upper left')\n",
    "   plt.grid(True)\n",
    "   plt.tight_layout()\n",
    "   \n",
    "   plt.show()"
   ]
  },
  {
   "cell_type": "code",
   "execution_count": 6,
   "metadata": {},
   "outputs": [
    {
     "name": "stderr",
     "output_type": "stream",
     "text": [
      "Processing llama_1.5B_Goldfish_K_5_H_13_GBS_120_EPOCH_93:   0%|          | 0/23 [00:00<?, ?it/s]"
     ]
    },
    {
     "name": "stdout",
     "output_type": "stream",
     "text": [
      "Warming up Numba JIT...\n",
      "Processing 9000 sequence pairs in parallel...\n"
     ]
    },
    {
     "name": "stderr",
     "output_type": "stream",
     "text": [
      "Processing llama_1.5B_Goldfish_K_5_H_13_GBS_120_EPOCH_93:   4%|▍         | 1/23 [00:18<06:48, 18.57s/it]"
     ]
    },
    {
     "name": "stdout",
     "output_type": "stream",
     "text": [
      "Time taken: 1.43 seconds\n",
      "Warming up Numba JIT...\n",
      "Processing 500 sequence pairs in parallel...\n",
      "Time taken: 0.07 seconds\n",
      "Warming up Numba JIT...\n",
      "Processing 500 sequence pairs in parallel...\n",
      "Time taken: 0.07 seconds\n",
      "Warming up Numba JIT...\n",
      "Processing 9000 sequence pairs in parallel...\n"
     ]
    },
    {
     "name": "stderr",
     "output_type": "stream",
     "text": [
      "Processing llama_1.5B_Goldfish_K_5_H_13_GBS_120_EPOCH_93:   9%|▊         | 2/23 [00:39<06:56, 19.85s/it]"
     ]
    },
    {
     "name": "stdout",
     "output_type": "stream",
     "text": [
      "Time taken: 1.42 seconds\n",
      "Warming up Numba JIT...\n",
      "Processing 500 sequence pairs in parallel...\n",
      "Time taken: 0.08 seconds\n",
      "Warming up Numba JIT...\n",
      "Processing 500 sequence pairs in parallel...\n",
      "Time taken: 0.08 seconds\n",
      "Warming up Numba JIT...\n",
      "Processing 9000 sequence pairs in parallel...\n"
     ]
    },
    {
     "name": "stderr",
     "output_type": "stream",
     "text": [
      "Processing llama_1.5B_Goldfish_K_5_H_13_GBS_120_EPOCH_93:  13%|█▎        | 3/23 [00:57<06:19, 18.97s/it]"
     ]
    },
    {
     "name": "stdout",
     "output_type": "stream",
     "text": [
      "Time taken: 1.41 seconds\n",
      "Warming up Numba JIT...\n",
      "Processing 500 sequence pairs in parallel...\n",
      "Time taken: 0.08 seconds\n",
      "Warming up Numba JIT...\n",
      "Processing 500 sequence pairs in parallel...\n",
      "Time taken: 0.08 seconds\n",
      "Warming up Numba JIT...\n",
      "Processing 9000 sequence pairs in parallel...\n"
     ]
    },
    {
     "name": "stderr",
     "output_type": "stream",
     "text": [
      "Processing llama_1.5B_Goldfish_K_5_H_13_GBS_120_EPOCH_93:  17%|█▋        | 4/23 [01:17<06:07, 19.34s/it]"
     ]
    },
    {
     "name": "stdout",
     "output_type": "stream",
     "text": [
      "Time taken: 1.44 seconds\n",
      "Warming up Numba JIT...\n",
      "Processing 500 sequence pairs in parallel...\n",
      "Time taken: 0.08 seconds\n",
      "Warming up Numba JIT...\n",
      "Processing 500 sequence pairs in parallel...\n",
      "Time taken: 0.08 seconds\n",
      "Warming up Numba JIT...\n",
      "Processing 9000 sequence pairs in parallel...\n"
     ]
    },
    {
     "name": "stderr",
     "output_type": "stream",
     "text": [
      "Processing llama_1.5B_Goldfish_K_5_H_13_GBS_120_EPOCH_93:  22%|██▏       | 5/23 [01:34<05:38, 18.80s/it]"
     ]
    },
    {
     "name": "stdout",
     "output_type": "stream",
     "text": [
      "Time taken: 1.43 seconds\n",
      "Warming up Numba JIT...\n",
      "Processing 500 sequence pairs in parallel...\n",
      "Time taken: 0.08 seconds\n",
      "Warming up Numba JIT...\n",
      "Processing 500 sequence pairs in parallel...\n",
      "Time taken: 0.08 seconds\n",
      "Warming up Numba JIT...\n",
      "Processing 9000 sequence pairs in parallel...\n"
     ]
    },
    {
     "name": "stderr",
     "output_type": "stream",
     "text": [
      "Processing llama_1.5B_Goldfish_K_5_H_13_GBS_120_EPOCH_93:  26%|██▌       | 6/23 [01:52<05:13, 18.46s/it]"
     ]
    },
    {
     "name": "stdout",
     "output_type": "stream",
     "text": [
      "Time taken: 1.43 seconds\n",
      "Warming up Numba JIT...\n",
      "Processing 500 sequence pairs in parallel...\n",
      "Time taken: 0.08 seconds\n",
      "Warming up Numba JIT...\n",
      "Processing 500 sequence pairs in parallel...\n",
      "Time taken: 0.08 seconds\n",
      "Warming up Numba JIT...\n",
      "Processing 9000 sequence pairs in parallel...\n"
     ]
    },
    {
     "name": "stderr",
     "output_type": "stream",
     "text": [
      "Processing llama_1.5B_Goldfish_K_5_H_13_GBS_120_EPOCH_93:  30%|███       | 7/23 [02:10<04:51, 18.23s/it]"
     ]
    },
    {
     "name": "stdout",
     "output_type": "stream",
     "text": [
      "Time taken: 1.43 seconds\n",
      "Warming up Numba JIT...\n",
      "Processing 500 sequence pairs in parallel...\n",
      "Time taken: 0.08 seconds\n",
      "Warming up Numba JIT...\n",
      "Processing 500 sequence pairs in parallel...\n",
      "Time taken: 0.08 seconds\n",
      "Warming up Numba JIT...\n",
      "Processing 9000 sequence pairs in parallel...\n"
     ]
    },
    {
     "name": "stderr",
     "output_type": "stream",
     "text": [
      "Processing llama_1.5B_Goldfish_K_5_H_13_GBS_120_EPOCH_93:  35%|███▍      | 8/23 [02:28<04:30, 18.06s/it]"
     ]
    },
    {
     "name": "stdout",
     "output_type": "stream",
     "text": [
      "Time taken: 1.41 seconds\n",
      "Warming up Numba JIT...\n",
      "Processing 500 sequence pairs in parallel...\n",
      "Time taken: 0.08 seconds\n",
      "Warming up Numba JIT...\n",
      "Processing 500 sequence pairs in parallel...\n",
      "Time taken: 0.08 seconds\n",
      "Warming up Numba JIT...\n",
      "Processing 9000 sequence pairs in parallel...\n"
     ]
    },
    {
     "name": "stderr",
     "output_type": "stream",
     "text": [
      "Processing llama_1.5B_Goldfish_K_5_H_13_GBS_120_EPOCH_93:  39%|███▉      | 9/23 [02:45<04:10, 17.92s/it]"
     ]
    },
    {
     "name": "stdout",
     "output_type": "stream",
     "text": [
      "Time taken: 1.53 seconds\n",
      "Warming up Numba JIT...\n",
      "Processing 500 sequence pairs in parallel...\n",
      "Time taken: 0.08 seconds\n",
      "Warming up Numba JIT...\n",
      "Processing 500 sequence pairs in parallel...\n",
      "Time taken: 0.08 seconds\n",
      "Warming up Numba JIT...\n",
      "Processing 9000 sequence pairs in parallel...\n"
     ]
    },
    {
     "name": "stderr",
     "output_type": "stream",
     "text": [
      "Processing llama_1.5B_Goldfish_K_5_H_13_GBS_120_EPOCH_93:  43%|████▎     | 10/23 [03:03<03:51, 17.81s/it]"
     ]
    },
    {
     "name": "stdout",
     "output_type": "stream",
     "text": [
      "Time taken: 1.42 seconds\n",
      "Warming up Numba JIT...\n",
      "Processing 500 sequence pairs in parallel...\n",
      "Time taken: 0.08 seconds\n",
      "Warming up Numba JIT...\n",
      "Processing 500 sequence pairs in parallel...\n",
      "Time taken: 0.08 seconds\n",
      "Warming up Numba JIT...\n",
      "Processing 9000 sequence pairs in parallel...\n"
     ]
    },
    {
     "name": "stderr",
     "output_type": "stream",
     "text": [
      "Processing llama_1.5B_Goldfish_K_5_H_13_GBS_120_EPOCH_93:  48%|████▊     | 11/23 [03:20<03:32, 17.70s/it]"
     ]
    },
    {
     "name": "stdout",
     "output_type": "stream",
     "text": [
      "Time taken: 1.43 seconds\n",
      "Warming up Numba JIT...\n",
      "Processing 500 sequence pairs in parallel...\n",
      "Time taken: 0.08 seconds\n",
      "Warming up Numba JIT...\n",
      "Processing 500 sequence pairs in parallel...\n",
      "Time taken: 0.08 seconds\n",
      "Warming up Numba JIT...\n",
      "Processing 9000 sequence pairs in parallel...\n"
     ]
    },
    {
     "name": "stderr",
     "output_type": "stream",
     "text": [
      "Processing llama_1.5B_Goldfish_K_5_H_13_GBS_120_EPOCH_93:  52%|█████▏    | 12/23 [03:38<03:15, 17.80s/it]"
     ]
    },
    {
     "name": "stdout",
     "output_type": "stream",
     "text": [
      "Time taken: 1.43 seconds\n",
      "Warming up Numba JIT...\n",
      "Processing 500 sequence pairs in parallel...\n",
      "Time taken: 0.08 seconds\n",
      "Warming up Numba JIT...\n",
      "Processing 500 sequence pairs in parallel...\n",
      "Time taken: 0.08 seconds\n",
      "Warming up Numba JIT...\n",
      "Processing 9000 sequence pairs in parallel...\n"
     ]
    },
    {
     "name": "stderr",
     "output_type": "stream",
     "text": [
      "Processing llama_1.5B_Goldfish_K_5_H_13_GBS_120_EPOCH_93:  57%|█████▋    | 13/23 [03:57<03:01, 18.18s/it]"
     ]
    },
    {
     "name": "stdout",
     "output_type": "stream",
     "text": [
      "Time taken: 1.42 seconds\n",
      "Warming up Numba JIT...\n",
      "Processing 500 sequence pairs in parallel...\n",
      "Time taken: 0.08 seconds\n",
      "Warming up Numba JIT...\n",
      "Processing 500 sequence pairs in parallel...\n",
      "Time taken: 0.08 seconds\n",
      "Warming up Numba JIT...\n",
      "Processing 9000 sequence pairs in parallel...\n"
     ]
    },
    {
     "name": "stderr",
     "output_type": "stream",
     "text": [
      "Processing llama_1.5B_Goldfish_K_5_H_13_GBS_120_EPOCH_93:  61%|██████    | 14/23 [04:15<02:41, 17.98s/it]"
     ]
    },
    {
     "name": "stdout",
     "output_type": "stream",
     "text": [
      "Time taken: 1.41 seconds\n",
      "Warming up Numba JIT...\n",
      "Processing 500 sequence pairs in parallel...\n",
      "Time taken: 0.08 seconds\n",
      "Warming up Numba JIT...\n",
      "Processing 500 sequence pairs in parallel...\n",
      "Time taken: 0.08 seconds\n",
      "Warming up Numba JIT...\n",
      "Processing 9000 sequence pairs in parallel...\n"
     ]
    },
    {
     "name": "stderr",
     "output_type": "stream",
     "text": [
      "Processing llama_1.5B_Goldfish_K_5_H_13_GBS_120_EPOCH_93:  65%|██████▌   | 15/23 [04:33<02:23, 17.94s/it]"
     ]
    },
    {
     "name": "stdout",
     "output_type": "stream",
     "text": [
      "Time taken: 1.45 seconds\n",
      "Warming up Numba JIT...\n",
      "Processing 500 sequence pairs in parallel...\n",
      "Time taken: 0.08 seconds\n",
      "Warming up Numba JIT...\n",
      "Processing 500 sequence pairs in parallel...\n",
      "Time taken: 0.08 seconds\n",
      "Warming up Numba JIT...\n",
      "Processing 9000 sequence pairs in parallel...\n"
     ]
    },
    {
     "name": "stderr",
     "output_type": "stream",
     "text": [
      "Processing llama_1.5B_Goldfish_K_5_H_13_GBS_120_EPOCH_93:  70%|██████▉   | 16/23 [04:51<02:05, 17.95s/it]"
     ]
    },
    {
     "name": "stdout",
     "output_type": "stream",
     "text": [
      "Time taken: 1.55 seconds\n",
      "Warming up Numba JIT...\n",
      "Processing 500 sequence pairs in parallel...\n",
      "Time taken: 0.09 seconds\n",
      "Warming up Numba JIT...\n",
      "Processing 500 sequence pairs in parallel...\n",
      "Time taken: 0.09 seconds\n",
      "Warming up Numba JIT...\n",
      "Processing 9000 sequence pairs in parallel...\n"
     ]
    },
    {
     "name": "stderr",
     "output_type": "stream",
     "text": [
      "Processing llama_1.5B_Goldfish_K_5_H_13_GBS_120_EPOCH_93:  74%|███████▍  | 17/23 [05:09<01:47, 17.90s/it]"
     ]
    },
    {
     "name": "stdout",
     "output_type": "stream",
     "text": [
      "Time taken: 1.46 seconds\n",
      "Warming up Numba JIT...\n",
      "Processing 500 sequence pairs in parallel...\n",
      "Time taken: 0.08 seconds\n",
      "Warming up Numba JIT...\n",
      "Processing 500 sequence pairs in parallel...\n",
      "Time taken: 0.08 seconds\n",
      "Warming up Numba JIT...\n",
      "Processing 9000 sequence pairs in parallel...\n"
     ]
    },
    {
     "name": "stderr",
     "output_type": "stream",
     "text": [
      "Processing llama_1.5B_Goldfish_K_5_H_13_GBS_120_EPOCH_93:  78%|███████▊  | 18/23 [05:27<01:29, 17.99s/it]"
     ]
    },
    {
     "name": "stdout",
     "output_type": "stream",
     "text": [
      "Time taken: 1.47 seconds\n",
      "Warming up Numba JIT...\n",
      "Processing 500 sequence pairs in parallel...\n",
      "Time taken: 0.08 seconds\n",
      "Warming up Numba JIT...\n",
      "Processing 500 sequence pairs in parallel...\n",
      "Time taken: 0.08 seconds\n",
      "Warming up Numba JIT...\n",
      "Processing 9000 sequence pairs in parallel...\n",
      "Time taken: 1.55 seconds\n",
      "Warming up Numba JIT...\n",
      "Processing 500 sequence pairs in parallel...\n",
      "Time taken: 0.09 seconds\n",
      "Warming up Numba JIT...\n",
      "Processing 500 sequence pairs in parallel...\n"
     ]
    },
    {
     "name": "stderr",
     "output_type": "stream",
     "text": [
      "Processing llama_1.5B_Goldfish_K_5_H_13_GBS_120_EPOCH_93:  83%|████████▎ | 19/23 [05:45<01:12, 18.07s/it]"
     ]
    },
    {
     "name": "stdout",
     "output_type": "stream",
     "text": [
      "Time taken: 0.09 seconds\n",
      "Warming up Numba JIT...\n",
      "Processing 9000 sequence pairs in parallel...\n"
     ]
    },
    {
     "name": "stderr",
     "output_type": "stream",
     "text": [
      "Processing llama_1.5B_Goldfish_K_5_H_13_GBS_120_EPOCH_93:  87%|████████▋ | 20/23 [06:03<00:54, 18.01s/it]"
     ]
    },
    {
     "name": "stdout",
     "output_type": "stream",
     "text": [
      "Time taken: 1.41 seconds\n",
      "Warming up Numba JIT...\n",
      "Processing 500 sequence pairs in parallel...\n",
      "Time taken: 0.08 seconds\n",
      "Warming up Numba JIT...\n",
      "Processing 500 sequence pairs in parallel...\n",
      "Time taken: 0.08 seconds\n",
      "Warming up Numba JIT...\n",
      "Processing 9000 sequence pairs in parallel...\n"
     ]
    },
    {
     "name": "stderr",
     "output_type": "stream",
     "text": [
      "Processing llama_1.5B_Goldfish_K_5_H_13_GBS_120_EPOCH_93:  91%|█████████▏| 21/23 [06:21<00:36, 18.12s/it]"
     ]
    },
    {
     "name": "stdout",
     "output_type": "stream",
     "text": [
      "Time taken: 1.52 seconds\n",
      "Warming up Numba JIT...\n",
      "Processing 500 sequence pairs in parallel...\n",
      "Time taken: 0.08 seconds\n",
      "Warming up Numba JIT...\n",
      "Processing 500 sequence pairs in parallel...\n",
      "Time taken: 0.08 seconds\n",
      "Warming up Numba JIT...\n",
      "Processing 9000 sequence pairs in parallel...\n"
     ]
    },
    {
     "name": "stderr",
     "output_type": "stream",
     "text": [
      "Processing llama_1.5B_Goldfish_K_5_H_13_GBS_120_EPOCH_93:  96%|█████████▌| 22/23 [06:39<00:18, 18.05s/it]"
     ]
    },
    {
     "name": "stdout",
     "output_type": "stream",
     "text": [
      "Time taken: 1.42 seconds\n",
      "Warming up Numba JIT...\n",
      "Processing 500 sequence pairs in parallel...\n",
      "Time taken: 0.08 seconds\n",
      "Warming up Numba JIT...\n",
      "Processing 500 sequence pairs in parallel...\n",
      "Time taken: 0.08 seconds\n",
      "Warming up Numba JIT...\n",
      "Processing 9000 sequence pairs in parallel...\n"
     ]
    },
    {
     "name": "stderr",
     "output_type": "stream",
     "text": [
      "Processing llama_1.5B_Goldfish_K_5_H_13_GBS_120_EPOCH_93: 100%|██████████| 23/23 [06:57<00:00, 18.15s/it]\n"
     ]
    },
    {
     "name": "stdout",
     "output_type": "stream",
     "text": [
      "Time taken: 1.42 seconds\n",
      "Warming up Numba JIT...\n",
      "Processing 500 sequence pairs in parallel...\n",
      "Time taken: 0.08 seconds\n",
      "Warming up Numba JIT...\n",
      "Processing 500 sequence pairs in parallel...\n",
      "Time taken: 0.08 seconds\n"
     ]
    },
    {
     "name": "stderr",
     "output_type": "stream",
     "text": [
      "Processing llama_1.5B_Goldfish_K_10_H_13_GBS_120_EPOCH_83:   0%|          | 0/21 [00:00<?, ?it/s]"
     ]
    },
    {
     "name": "stdout",
     "output_type": "stream",
     "text": [
      "Warming up Numba JIT...\n",
      "Processing 9000 sequence pairs in parallel...\n"
     ]
    },
    {
     "name": "stderr",
     "output_type": "stream",
     "text": [
      "Processing llama_1.5B_Goldfish_K_10_H_13_GBS_120_EPOCH_83:   5%|▍         | 1/21 [00:17<05:50, 17.54s/it]"
     ]
    },
    {
     "name": "stdout",
     "output_type": "stream",
     "text": [
      "Time taken: 1.44 seconds\n",
      "Warming up Numba JIT...\n",
      "Processing 500 sequence pairs in parallel...\n",
      "Time taken: 0.08 seconds\n",
      "Warming up Numba JIT...\n",
      "Processing 500 sequence pairs in parallel...\n",
      "Time taken: 0.08 seconds\n",
      "Warming up Numba JIT...\n",
      "Processing 9000 sequence pairs in parallel...\n"
     ]
    },
    {
     "name": "stderr",
     "output_type": "stream",
     "text": [
      "Processing llama_1.5B_Goldfish_K_10_H_13_GBS_120_EPOCH_83:  10%|▉         | 2/21 [00:35<05:32, 17.49s/it]"
     ]
    },
    {
     "name": "stdout",
     "output_type": "stream",
     "text": [
      "Time taken: 1.38 seconds\n",
      "Warming up Numba JIT...\n",
      "Processing 500 sequence pairs in parallel...\n",
      "Time taken: 0.08 seconds\n",
      "Warming up Numba JIT...\n",
      "Processing 500 sequence pairs in parallel...\n",
      "Time taken: 0.08 seconds\n",
      "Warming up Numba JIT...\n",
      "Processing 9000 sequence pairs in parallel...\n"
     ]
    },
    {
     "name": "stderr",
     "output_type": "stream",
     "text": [
      "Processing llama_1.5B_Goldfish_K_10_H_13_GBS_120_EPOCH_83:  14%|█▍        | 3/21 [00:52<05:16, 17.58s/it]"
     ]
    },
    {
     "name": "stdout",
     "output_type": "stream",
     "text": [
      "Time taken: 1.41 seconds\n",
      "Warming up Numba JIT...\n",
      "Processing 500 sequence pairs in parallel...\n",
      "Time taken: 0.08 seconds\n",
      "Warming up Numba JIT...\n",
      "Processing 500 sequence pairs in parallel...\n",
      "Time taken: 0.08 seconds\n",
      "Warming up Numba JIT...\n",
      "Processing 9000 sequence pairs in parallel...\n",
      "Time taken: 1.54 seconds\n",
      "Warming up Numba JIT...\n",
      "Processing 500 sequence pairs in parallel...\n",
      "Time taken: 0.08 seconds\n",
      "Warming up Numba JIT...\n",
      "Processing 500 sequence pairs in parallel...\n",
      "Time taken: 0.08 seconds\n"
     ]
    },
    {
     "name": "stderr",
     "output_type": "stream",
     "text": [
      "Processing llama_1.5B_Goldfish_K_10_H_13_GBS_120_EPOCH_83:  19%|█▉        | 4/21 [01:10<05:00, 17.66s/it]"
     ]
    },
    {
     "name": "stdout",
     "output_type": "stream",
     "text": [
      "Warming up Numba JIT...\n",
      "Processing 9000 sequence pairs in parallel...\n"
     ]
    },
    {
     "name": "stderr",
     "output_type": "stream",
     "text": [
      "Processing llama_1.5B_Goldfish_K_10_H_13_GBS_120_EPOCH_83:  24%|██▍       | 5/21 [01:27<04:40, 17.54s/it]"
     ]
    },
    {
     "name": "stdout",
     "output_type": "stream",
     "text": [
      "Time taken: 1.42 seconds\n",
      "Warming up Numba JIT...\n",
      "Processing 500 sequence pairs in parallel...\n",
      "Time taken: 0.08 seconds\n",
      "Warming up Numba JIT...\n",
      "Processing 500 sequence pairs in parallel...\n",
      "Time taken: 0.08 seconds\n",
      "Warming up Numba JIT...\n",
      "Processing 9000 sequence pairs in parallel...\n"
     ]
    },
    {
     "name": "stderr",
     "output_type": "stream",
     "text": [
      "Processing llama_1.5B_Goldfish_K_10_H_13_GBS_120_EPOCH_83:  29%|██▊       | 6/21 [01:45<04:23, 17.55s/it]"
     ]
    },
    {
     "name": "stdout",
     "output_type": "stream",
     "text": [
      "Time taken: 1.42 seconds\n",
      "Warming up Numba JIT...\n",
      "Processing 500 sequence pairs in parallel...\n",
      "Time taken: 0.08 seconds\n",
      "Warming up Numba JIT...\n",
      "Processing 500 sequence pairs in parallel...\n",
      "Time taken: 0.08 seconds\n",
      "Warming up Numba JIT...\n",
      "Processing 9000 sequence pairs in parallel...\n"
     ]
    },
    {
     "name": "stderr",
     "output_type": "stream",
     "text": [
      "Processing llama_1.5B_Goldfish_K_10_H_13_GBS_120_EPOCH_83:  33%|███▎      | 7/21 [02:03<04:06, 17.64s/it]"
     ]
    },
    {
     "name": "stdout",
     "output_type": "stream",
     "text": [
      "Time taken: 1.42 seconds\n",
      "Warming up Numba JIT...\n",
      "Processing 500 sequence pairs in parallel...\n",
      "Time taken: 0.08 seconds\n",
      "Warming up Numba JIT...\n",
      "Processing 500 sequence pairs in parallel...\n",
      "Time taken: 0.08 seconds\n",
      "Warming up Numba JIT...\n",
      "Processing 9000 sequence pairs in parallel...\n",
      "Time taken: 1.53 seconds\n",
      "Warming up Numba JIT...\n",
      "Processing 500 sequence pairs in parallel...\n",
      "Time taken: 0.09 seconds\n",
      "Warming up Numba JIT...\n",
      "Processing 500 sequence pairs in parallel...\n",
      "Time taken: 0.09 seconds\n"
     ]
    },
    {
     "name": "stderr",
     "output_type": "stream",
     "text": [
      "Processing llama_1.5B_Goldfish_K_10_H_13_GBS_120_EPOCH_83:  38%|███▊      | 8/21 [02:20<03:49, 17.66s/it]"
     ]
    },
    {
     "name": "stdout",
     "output_type": "stream",
     "text": [
      "Warming up Numba JIT...\n",
      "Processing 9000 sequence pairs in parallel...\n"
     ]
    },
    {
     "name": "stderr",
     "output_type": "stream",
     "text": [
      "Processing llama_1.5B_Goldfish_K_10_H_13_GBS_120_EPOCH_83:  43%|████▎     | 9/21 [02:38<03:31, 17.64s/it]"
     ]
    },
    {
     "name": "stdout",
     "output_type": "stream",
     "text": [
      "Time taken: 1.42 seconds\n",
      "Warming up Numba JIT...\n",
      "Processing 500 sequence pairs in parallel...\n",
      "Time taken: 0.08 seconds\n",
      "Warming up Numba JIT...\n",
      "Processing 500 sequence pairs in parallel...\n",
      "Time taken: 0.08 seconds\n",
      "Warming up Numba JIT...\n",
      "Processing 9000 sequence pairs in parallel...\n"
     ]
    },
    {
     "name": "stderr",
     "output_type": "stream",
     "text": [
      "Processing llama_1.5B_Goldfish_K_10_H_13_GBS_120_EPOCH_83:  48%|████▊     | 10/21 [02:55<03:13, 17.59s/it]"
     ]
    },
    {
     "name": "stdout",
     "output_type": "stream",
     "text": [
      "Time taken: 1.41 seconds\n",
      "Warming up Numba JIT...\n",
      "Processing 500 sequence pairs in parallel...\n",
      "Time taken: 0.08 seconds\n",
      "Warming up Numba JIT...\n",
      "Processing 500 sequence pairs in parallel...\n",
      "Time taken: 0.08 seconds\n",
      "Warming up Numba JIT...\n",
      "Processing 9000 sequence pairs in parallel...\n"
     ]
    },
    {
     "name": "stderr",
     "output_type": "stream",
     "text": [
      "Processing llama_1.5B_Goldfish_K_10_H_13_GBS_120_EPOCH_83:  52%|█████▏    | 11/21 [03:13<02:55, 17.54s/it]"
     ]
    },
    {
     "name": "stdout",
     "output_type": "stream",
     "text": [
      "Time taken: 1.42 seconds\n",
      "Warming up Numba JIT...\n",
      "Processing 500 sequence pairs in parallel...\n",
      "Time taken: 0.08 seconds\n",
      "Warming up Numba JIT...\n",
      "Processing 500 sequence pairs in parallel...\n",
      "Time taken: 0.08 seconds\n",
      "Warming up Numba JIT...\n",
      "Processing 9000 sequence pairs in parallel...\n"
     ]
    },
    {
     "name": "stderr",
     "output_type": "stream",
     "text": [
      "Processing llama_1.5B_Goldfish_K_10_H_13_GBS_120_EPOCH_83:  57%|█████▋    | 12/21 [03:30<02:37, 17.54s/it]"
     ]
    },
    {
     "name": "stdout",
     "output_type": "stream",
     "text": [
      "Time taken: 1.42 seconds\n",
      "Warming up Numba JIT...\n",
      "Processing 500 sequence pairs in parallel...\n",
      "Time taken: 0.08 seconds\n",
      "Warming up Numba JIT...\n",
      "Processing 500 sequence pairs in parallel...\n",
      "Time taken: 0.08 seconds\n",
      "Warming up Numba JIT...\n",
      "Processing 9000 sequence pairs in parallel...\n"
     ]
    },
    {
     "name": "stderr",
     "output_type": "stream",
     "text": [
      "Processing llama_1.5B_Goldfish_K_10_H_13_GBS_120_EPOCH_83:  62%|██████▏   | 13/21 [03:48<02:20, 17.57s/it]"
     ]
    },
    {
     "name": "stdout",
     "output_type": "stream",
     "text": [
      "Time taken: 1.43 seconds\n",
      "Warming up Numba JIT...\n",
      "Processing 500 sequence pairs in parallel...\n",
      "Time taken: 0.08 seconds\n",
      "Warming up Numba JIT...\n",
      "Processing 500 sequence pairs in parallel...\n",
      "Time taken: 0.08 seconds\n",
      "Warming up Numba JIT...\n",
      "Processing 9000 sequence pairs in parallel...\n"
     ]
    },
    {
     "name": "stderr",
     "output_type": "stream",
     "text": [
      "Processing llama_1.5B_Goldfish_K_10_H_13_GBS_120_EPOCH_83:  67%|██████▋   | 14/21 [04:06<02:03, 17.59s/it]"
     ]
    },
    {
     "name": "stdout",
     "output_type": "stream",
     "text": [
      "Time taken: 1.47 seconds\n",
      "Warming up Numba JIT...\n",
      "Processing 500 sequence pairs in parallel...\n",
      "Time taken: 0.08 seconds\n",
      "Warming up Numba JIT...\n",
      "Processing 500 sequence pairs in parallel...\n",
      "Time taken: 0.08 seconds\n",
      "Warming up Numba JIT...\n",
      "Processing 9000 sequence pairs in parallel...\n"
     ]
    },
    {
     "name": "stderr",
     "output_type": "stream",
     "text": [
      "Processing llama_1.5B_Goldfish_K_10_H_13_GBS_120_EPOCH_83:  71%|███████▏  | 15/21 [04:23<01:45, 17.52s/it]"
     ]
    },
    {
     "name": "stdout",
     "output_type": "stream",
     "text": [
      "Time taken: 1.42 seconds\n",
      "Warming up Numba JIT...\n",
      "Processing 500 sequence pairs in parallel...\n",
      "Time taken: 0.08 seconds\n",
      "Warming up Numba JIT...\n",
      "Processing 500 sequence pairs in parallel...\n",
      "Time taken: 0.08 seconds\n",
      "Warming up Numba JIT...\n",
      "Processing 9000 sequence pairs in parallel...\n"
     ]
    },
    {
     "name": "stderr",
     "output_type": "stream",
     "text": [
      "Processing llama_1.5B_Goldfish_K_10_H_13_GBS_120_EPOCH_83:  76%|███████▌  | 16/21 [04:41<01:27, 17.49s/it]"
     ]
    },
    {
     "name": "stdout",
     "output_type": "stream",
     "text": [
      "Time taken: 1.42 seconds\n",
      "Warming up Numba JIT...\n",
      "Processing 500 sequence pairs in parallel...\n",
      "Time taken: 0.08 seconds\n",
      "Warming up Numba JIT...\n",
      "Processing 500 sequence pairs in parallel...\n",
      "Time taken: 0.08 seconds\n",
      "Warming up Numba JIT...\n",
      "Processing 9000 sequence pairs in parallel...\n"
     ]
    },
    {
     "name": "stderr",
     "output_type": "stream",
     "text": [
      "Processing llama_1.5B_Goldfish_K_10_H_13_GBS_120_EPOCH_83:  81%|████████  | 17/21 [04:58<01:10, 17.55s/it]"
     ]
    },
    {
     "name": "stdout",
     "output_type": "stream",
     "text": [
      "Time taken: 1.42 seconds\n",
      "Warming up Numba JIT...\n",
      "Processing 500 sequence pairs in parallel...\n",
      "Time taken: 0.08 seconds\n",
      "Warming up Numba JIT...\n",
      "Processing 500 sequence pairs in parallel...\n",
      "Time taken: 0.08 seconds\n",
      "Warming up Numba JIT...\n",
      "Processing 9000 sequence pairs in parallel...\n"
     ]
    },
    {
     "name": "stderr",
     "output_type": "stream",
     "text": [
      "Processing llama_1.5B_Goldfish_K_10_H_13_GBS_120_EPOCH_83:  86%|████████▌ | 18/21 [05:16<00:52, 17.63s/it]"
     ]
    },
    {
     "name": "stdout",
     "output_type": "stream",
     "text": [
      "Time taken: 1.41 seconds\n",
      "Warming up Numba JIT...\n",
      "Processing 500 sequence pairs in parallel...\n",
      "Time taken: 0.08 seconds\n",
      "Warming up Numba JIT...\n",
      "Processing 500 sequence pairs in parallel...\n",
      "Time taken: 0.08 seconds\n",
      "Warming up Numba JIT...\n",
      "Processing 9000 sequence pairs in parallel...\n"
     ]
    },
    {
     "name": "stderr",
     "output_type": "stream",
     "text": [
      "Processing llama_1.5B_Goldfish_K_10_H_13_GBS_120_EPOCH_83:  90%|█████████ | 19/21 [05:34<00:35, 17.68s/it]"
     ]
    },
    {
     "name": "stdout",
     "output_type": "stream",
     "text": [
      "Time taken: 1.46 seconds\n",
      "Warming up Numba JIT...\n",
      "Processing 500 sequence pairs in parallel...\n",
      "Time taken: 0.08 seconds\n",
      "Warming up Numba JIT...\n",
      "Processing 500 sequence pairs in parallel...\n",
      "Time taken: 0.08 seconds\n",
      "Warming up Numba JIT...\n",
      "Processing 9000 sequence pairs in parallel...\n"
     ]
    },
    {
     "name": "stderr",
     "output_type": "stream",
     "text": [
      "Processing llama_1.5B_Goldfish_K_10_H_13_GBS_120_EPOCH_83:  95%|█████████▌| 20/21 [05:52<00:17, 17.71s/it]"
     ]
    },
    {
     "name": "stdout",
     "output_type": "stream",
     "text": [
      "Time taken: 1.43 seconds\n",
      "Warming up Numba JIT...\n",
      "Processing 500 sequence pairs in parallel...\n",
      "Time taken: 0.08 seconds\n",
      "Warming up Numba JIT...\n",
      "Processing 500 sequence pairs in parallel...\n",
      "Time taken: 0.08 seconds\n",
      "Warming up Numba JIT...\n",
      "Processing 9000 sequence pairs in parallel...\n"
     ]
    },
    {
     "name": "stderr",
     "output_type": "stream",
     "text": [
      "Processing llama_1.5B_Goldfish_K_10_H_13_GBS_120_EPOCH_83: 100%|██████████| 21/21 [06:09<00:00, 17.62s/it]\n"
     ]
    },
    {
     "name": "stdout",
     "output_type": "stream",
     "text": [
      "Time taken: 1.44 seconds\n",
      "Warming up Numba JIT...\n",
      "Processing 500 sequence pairs in parallel...\n",
      "Time taken: 0.08 seconds\n",
      "Warming up Numba JIT...\n",
      "Processing 500 sequence pairs in parallel...\n",
      "Time taken: 0.08 seconds\n"
     ]
    },
    {
     "name": "stderr",
     "output_type": "stream",
     "text": [
      "Processing llama_1.5B_Goldfish_K_21_H_13_GBS_120_EPOCH_79:   0%|          | 0/19 [00:00<?, ?it/s]"
     ]
    },
    {
     "name": "stdout",
     "output_type": "stream",
     "text": [
      "Warming up Numba JIT...\n",
      "Processing 9000 sequence pairs in parallel...\n"
     ]
    },
    {
     "name": "stderr",
     "output_type": "stream",
     "text": [
      "Processing llama_1.5B_Goldfish_K_21_H_13_GBS_120_EPOCH_79:   5%|▌         | 1/19 [00:17<05:11, 17.32s/it]"
     ]
    },
    {
     "name": "stdout",
     "output_type": "stream",
     "text": [
      "Time taken: 1.34 seconds\n",
      "Warming up Numba JIT...\n",
      "Processing 500 sequence pairs in parallel...\n",
      "Time taken: 0.07 seconds\n",
      "Warming up Numba JIT...\n",
      "Processing 500 sequence pairs in parallel...\n",
      "Time taken: 0.07 seconds\n",
      "Warming up Numba JIT...\n",
      "Processing 9000 sequence pairs in parallel...\n"
     ]
    },
    {
     "name": "stderr",
     "output_type": "stream",
     "text": [
      "Processing llama_1.5B_Goldfish_K_21_H_13_GBS_120_EPOCH_79:  11%|█         | 2/19 [00:34<04:57, 17.50s/it]"
     ]
    },
    {
     "name": "stdout",
     "output_type": "stream",
     "text": [
      "Time taken: 1.38 seconds\n",
      "Warming up Numba JIT...\n",
      "Processing 500 sequence pairs in parallel...\n",
      "Time taken: 0.08 seconds\n",
      "Warming up Numba JIT...\n",
      "Processing 500 sequence pairs in parallel...\n",
      "Time taken: 0.08 seconds\n",
      "Warming up Numba JIT...\n",
      "Processing 9000 sequence pairs in parallel...\n",
      "Time taken: 1.43 seconds\n",
      "Warming up Numba JIT...\n",
      "Processing 500 sequence pairs in parallel...\n",
      "Time taken: 0.09 seconds\n",
      "Warming up Numba JIT...\n",
      "Processing 500 sequence pairs in parallel...\n",
      "Time taken: 0.08 seconds\n"
     ]
    },
    {
     "name": "stderr",
     "output_type": "stream",
     "text": [
      "Processing llama_1.5B_Goldfish_K_21_H_13_GBS_120_EPOCH_79:  16%|█▌        | 3/19 [00:52<04:39, 17.46s/it]"
     ]
    },
    {
     "name": "stdout",
     "output_type": "stream",
     "text": [
      "Warming up Numba JIT...\n",
      "Processing 9000 sequence pairs in parallel...\n"
     ]
    },
    {
     "name": "stderr",
     "output_type": "stream",
     "text": [
      "Processing llama_1.5B_Goldfish_K_21_H_13_GBS_120_EPOCH_79:  21%|██        | 4/19 [01:09<04:22, 17.49s/it]"
     ]
    },
    {
     "name": "stdout",
     "output_type": "stream",
     "text": [
      "Time taken: 1.43 seconds\n",
      "Warming up Numba JIT...\n",
      "Processing 500 sequence pairs in parallel...\n",
      "Time taken: 0.08 seconds\n",
      "Warming up Numba JIT...\n",
      "Processing 500 sequence pairs in parallel...\n",
      "Time taken: 0.08 seconds\n",
      "Warming up Numba JIT...\n",
      "Processing 9000 sequence pairs in parallel...\n"
     ]
    },
    {
     "name": "stderr",
     "output_type": "stream",
     "text": [
      "Processing llama_1.5B_Goldfish_K_21_H_13_GBS_120_EPOCH_79:  26%|██▋       | 5/19 [01:27<04:04, 17.49s/it]"
     ]
    },
    {
     "name": "stdout",
     "output_type": "stream",
     "text": [
      "Time taken: 1.41 seconds\n",
      "Warming up Numba JIT...\n",
      "Processing 500 sequence pairs in parallel...\n",
      "Time taken: 0.08 seconds\n",
      "Warming up Numba JIT...\n",
      "Processing 500 sequence pairs in parallel...\n",
      "Time taken: 0.08 seconds\n",
      "Warming up Numba JIT...\n",
      "Processing 9000 sequence pairs in parallel...\n"
     ]
    },
    {
     "name": "stderr",
     "output_type": "stream",
     "text": [
      "Processing llama_1.5B_Goldfish_K_21_H_13_GBS_120_EPOCH_79:  32%|███▏      | 6/19 [01:45<03:49, 17.65s/it]"
     ]
    },
    {
     "name": "stdout",
     "output_type": "stream",
     "text": [
      "Time taken: 1.44 seconds\n",
      "Warming up Numba JIT...\n",
      "Processing 500 sequence pairs in parallel...\n",
      "Time taken: 0.08 seconds\n",
      "Warming up Numba JIT...\n",
      "Processing 500 sequence pairs in parallel...\n",
      "Time taken: 0.08 seconds\n",
      "Warming up Numba JIT...\n",
      "Processing 9000 sequence pairs in parallel...\n"
     ]
    },
    {
     "name": "stderr",
     "output_type": "stream",
     "text": [
      "Processing llama_1.5B_Goldfish_K_21_H_13_GBS_120_EPOCH_79:  37%|███▋      | 7/19 [02:03<03:33, 17.77s/it]"
     ]
    },
    {
     "name": "stdout",
     "output_type": "stream",
     "text": [
      "Time taken: 1.46 seconds\n",
      "Warming up Numba JIT...\n",
      "Processing 500 sequence pairs in parallel...\n",
      "Time taken: 0.08 seconds\n",
      "Warming up Numba JIT...\n",
      "Processing 500 sequence pairs in parallel...\n",
      "Time taken: 0.08 seconds\n",
      "Warming up Numba JIT...\n",
      "Processing 9000 sequence pairs in parallel...\n"
     ]
    },
    {
     "name": "stderr",
     "output_type": "stream",
     "text": [
      "Processing llama_1.5B_Goldfish_K_21_H_13_GBS_120_EPOCH_79:  42%|████▏     | 8/19 [02:21<03:15, 17.80s/it]"
     ]
    },
    {
     "name": "stdout",
     "output_type": "stream",
     "text": [
      "Time taken: 1.46 seconds\n",
      "Warming up Numba JIT...\n",
      "Processing 500 sequence pairs in parallel...\n",
      "Time taken: 0.08 seconds\n",
      "Warming up Numba JIT...\n",
      "Processing 500 sequence pairs in parallel...\n",
      "Time taken: 0.08 seconds\n",
      "Warming up Numba JIT...\n",
      "Processing 9000 sequence pairs in parallel...\n"
     ]
    },
    {
     "name": "stderr",
     "output_type": "stream",
     "text": [
      "Processing llama_1.5B_Goldfish_K_21_H_13_GBS_120_EPOCH_79:  47%|████▋     | 9/19 [02:38<02:57, 17.73s/it]"
     ]
    },
    {
     "name": "stdout",
     "output_type": "stream",
     "text": [
      "Time taken: 1.43 seconds\n",
      "Warming up Numba JIT...\n",
      "Processing 500 sequence pairs in parallel...\n",
      "Time taken: 0.08 seconds\n",
      "Warming up Numba JIT...\n",
      "Processing 500 sequence pairs in parallel...\n",
      "Time taken: 0.08 seconds\n",
      "Warming up Numba JIT...\n",
      "Processing 9000 sequence pairs in parallel...\n"
     ]
    },
    {
     "name": "stderr",
     "output_type": "stream",
     "text": [
      "Processing llama_1.5B_Goldfish_K_21_H_13_GBS_120_EPOCH_79:  53%|█████▎    | 10/19 [02:56<02:39, 17.68s/it]"
     ]
    },
    {
     "name": "stdout",
     "output_type": "stream",
     "text": [
      "Time taken: 1.42 seconds\n",
      "Warming up Numba JIT...\n",
      "Processing 500 sequence pairs in parallel...\n",
      "Time taken: 0.08 seconds\n",
      "Warming up Numba JIT...\n",
      "Processing 500 sequence pairs in parallel...\n",
      "Time taken: 0.08 seconds\n",
      "Warming up Numba JIT...\n",
      "Processing 9000 sequence pairs in parallel...\n"
     ]
    },
    {
     "name": "stderr",
     "output_type": "stream",
     "text": [
      "Processing llama_1.5B_Goldfish_K_21_H_13_GBS_120_EPOCH_79:  58%|█████▊    | 11/19 [03:14<02:21, 17.71s/it]"
     ]
    },
    {
     "name": "stdout",
     "output_type": "stream",
     "text": [
      "Time taken: 1.46 seconds\n",
      "Warming up Numba JIT...\n",
      "Processing 500 sequence pairs in parallel...\n",
      "Time taken: 0.08 seconds\n",
      "Warming up Numba JIT...\n",
      "Processing 500 sequence pairs in parallel...\n",
      "Time taken: 0.08 seconds\n",
      "Warming up Numba JIT...\n",
      "Processing 9000 sequence pairs in parallel...\n"
     ]
    },
    {
     "name": "stderr",
     "output_type": "stream",
     "text": [
      "Processing llama_1.5B_Goldfish_K_21_H_13_GBS_120_EPOCH_79:  63%|██████▎   | 12/19 [03:31<02:03, 17.65s/it]"
     ]
    },
    {
     "name": "stdout",
     "output_type": "stream",
     "text": [
      "Time taken: 1.44 seconds\n",
      "Warming up Numba JIT...\n",
      "Processing 500 sequence pairs in parallel...\n",
      "Time taken: 0.08 seconds\n",
      "Warming up Numba JIT...\n",
      "Processing 500 sequence pairs in parallel...\n",
      "Time taken: 0.08 seconds\n",
      "Warming up Numba JIT...\n",
      "Processing 9000 sequence pairs in parallel...\n"
     ]
    },
    {
     "name": "stderr",
     "output_type": "stream",
     "text": [
      "Processing llama_1.5B_Goldfish_K_21_H_13_GBS_120_EPOCH_79:  68%|██████▊   | 13/19 [03:49<01:46, 17.71s/it]"
     ]
    },
    {
     "name": "stdout",
     "output_type": "stream",
     "text": [
      "Time taken: 1.46 seconds\n",
      "Warming up Numba JIT...\n",
      "Processing 500 sequence pairs in parallel...\n",
      "Time taken: 0.08 seconds\n",
      "Warming up Numba JIT...\n",
      "Processing 500 sequence pairs in parallel...\n",
      "Time taken: 0.08 seconds\n",
      "Warming up Numba JIT...\n",
      "Processing 9000 sequence pairs in parallel...\n"
     ]
    },
    {
     "name": "stderr",
     "output_type": "stream",
     "text": [
      "Processing llama_1.5B_Goldfish_K_21_H_13_GBS_120_EPOCH_79:  74%|███████▎  | 14/19 [04:06<01:28, 17.64s/it]"
     ]
    },
    {
     "name": "stdout",
     "output_type": "stream",
     "text": [
      "Time taken: 1.42 seconds\n",
      "Warming up Numba JIT...\n",
      "Processing 500 sequence pairs in parallel...\n",
      "Time taken: 0.08 seconds\n",
      "Warming up Numba JIT...\n",
      "Processing 500 sequence pairs in parallel...\n",
      "Time taken: 0.08 seconds\n",
      "Warming up Numba JIT...\n",
      "Processing 9000 sequence pairs in parallel...\n"
     ]
    },
    {
     "name": "stderr",
     "output_type": "stream",
     "text": [
      "Processing llama_1.5B_Goldfish_K_21_H_13_GBS_120_EPOCH_79:  79%|███████▉  | 15/19 [04:24<01:10, 17.61s/it]"
     ]
    },
    {
     "name": "stdout",
     "output_type": "stream",
     "text": [
      "Time taken: 1.42 seconds\n",
      "Warming up Numba JIT...\n",
      "Processing 500 sequence pairs in parallel...\n",
      "Time taken: 0.08 seconds\n",
      "Warming up Numba JIT...\n",
      "Processing 500 sequence pairs in parallel...\n",
      "Time taken: 0.08 seconds\n",
      "Warming up Numba JIT...\n",
      "Processing 9000 sequence pairs in parallel...\n"
     ]
    },
    {
     "name": "stderr",
     "output_type": "stream",
     "text": [
      "Processing llama_1.5B_Goldfish_K_21_H_13_GBS_120_EPOCH_79:  84%|████████▍ | 16/19 [04:41<00:52, 17.57s/it]"
     ]
    },
    {
     "name": "stdout",
     "output_type": "stream",
     "text": [
      "Time taken: 1.43 seconds\n",
      "Warming up Numba JIT...\n",
      "Processing 500 sequence pairs in parallel...\n",
      "Time taken: 0.08 seconds\n",
      "Warming up Numba JIT...\n",
      "Processing 500 sequence pairs in parallel...\n",
      "Time taken: 0.08 seconds\n",
      "Warming up Numba JIT...\n",
      "Processing 9000 sequence pairs in parallel...\n",
      "Time taken: 1.54 seconds\n",
      "Warming up Numba JIT...\n",
      "Processing 500 sequence pairs in parallel...\n",
      "Time taken: 0.09 seconds\n",
      "Warming up Numba JIT...\n",
      "Processing 500 sequence pairs in parallel...\n",
      "Time taken: 0.09 seconds\n"
     ]
    },
    {
     "name": "stderr",
     "output_type": "stream",
     "text": [
      "Processing llama_1.5B_Goldfish_K_21_H_13_GBS_120_EPOCH_79:  89%|████████▉ | 17/19 [04:59<00:35, 17.68s/it]"
     ]
    },
    {
     "name": "stdout",
     "output_type": "stream",
     "text": [
      "Warming up Numba JIT...\n",
      "Processing 9000 sequence pairs in parallel...\n",
      "Time taken: 1.52 seconds\n",
      "Warming up Numba JIT...\n",
      "Processing 500 sequence pairs in parallel...\n",
      "Time taken: 0.08 seconds\n",
      "Warming up Numba JIT...\n",
      "Processing 500 sequence pairs in parallel...\n",
      "Time taken: 0.08 seconds\n"
     ]
    },
    {
     "name": "stderr",
     "output_type": "stream",
     "text": [
      "Processing llama_1.5B_Goldfish_K_21_H_13_GBS_120_EPOCH_79:  95%|█████████▍| 18/19 [05:17<00:17, 17.68s/it]"
     ]
    },
    {
     "name": "stdout",
     "output_type": "stream",
     "text": [
      "Warming up Numba JIT...\n",
      "Processing 9000 sequence pairs in parallel...\n"
     ]
    },
    {
     "name": "stderr",
     "output_type": "stream",
     "text": [
      "Processing llama_1.5B_Goldfish_K_21_H_13_GBS_120_EPOCH_79: 100%|██████████| 19/19 [05:35<00:00, 17.64s/it]\n"
     ]
    },
    {
     "name": "stdout",
     "output_type": "stream",
     "text": [
      "Time taken: 1.41 seconds\n",
      "Warming up Numba JIT...\n",
      "Processing 500 sequence pairs in parallel...\n",
      "Time taken: 0.08 seconds\n",
      "Warming up Numba JIT...\n",
      "Processing 500 sequence pairs in parallel...\n",
      "Time taken: 0.08 seconds\n"
     ]
    },
    {
     "name": "stderr",
     "output_type": "stream",
     "text": [
      "Processing llama_1.5B_Standard_GBS_120_EPOCH_75:   0%|          | 0/19 [00:00<?, ?it/s]"
     ]
    },
    {
     "name": "stdout",
     "output_type": "stream",
     "text": [
      "Warming up Numba JIT...\n",
      "Processing 9000 sequence pairs in parallel...\n"
     ]
    },
    {
     "name": "stderr",
     "output_type": "stream",
     "text": [
      "Processing llama_1.5B_Standard_GBS_120_EPOCH_75:   5%|▌         | 1/19 [00:17<05:11, 17.29s/it]"
     ]
    },
    {
     "name": "stdout",
     "output_type": "stream",
     "text": [
      "Time taken: 1.36 seconds\n",
      "Warming up Numba JIT...\n",
      "Processing 500 sequence pairs in parallel...\n",
      "Time taken: 0.08 seconds\n",
      "Warming up Numba JIT...\n",
      "Processing 500 sequence pairs in parallel...\n",
      "Time taken: 0.08 seconds\n",
      "Warming up Numba JIT...\n",
      "Processing 9000 sequence pairs in parallel...\n"
     ]
    },
    {
     "name": "stderr",
     "output_type": "stream",
     "text": [
      "Processing llama_1.5B_Standard_GBS_120_EPOCH_75:  11%|█         | 2/19 [00:34<04:55, 17.40s/it]"
     ]
    },
    {
     "name": "stdout",
     "output_type": "stream",
     "text": [
      "Time taken: 1.47 seconds\n",
      "Warming up Numba JIT...\n",
      "Processing 500 sequence pairs in parallel...\n",
      "Time taken: 0.08 seconds\n",
      "Warming up Numba JIT...\n",
      "Processing 500 sequence pairs in parallel...\n",
      "Time taken: 0.08 seconds\n",
      "Warming up Numba JIT...\n",
      "Processing 9000 sequence pairs in parallel...\n"
     ]
    },
    {
     "name": "stderr",
     "output_type": "stream",
     "text": [
      "Processing llama_1.5B_Standard_GBS_120_EPOCH_75:  16%|█▌        | 3/19 [00:52<04:38, 17.43s/it]"
     ]
    },
    {
     "name": "stdout",
     "output_type": "stream",
     "text": [
      "Time taken: 1.41 seconds\n",
      "Warming up Numba JIT...\n",
      "Processing 500 sequence pairs in parallel...\n",
      "Time taken: 0.08 seconds\n",
      "Warming up Numba JIT...\n",
      "Processing 500 sequence pairs in parallel...\n",
      "Time taken: 0.08 seconds\n",
      "Warming up Numba JIT...\n",
      "Processing 9000 sequence pairs in parallel...\n"
     ]
    },
    {
     "name": "stderr",
     "output_type": "stream",
     "text": [
      "Processing llama_1.5B_Standard_GBS_120_EPOCH_75:  21%|██        | 4/19 [01:09<04:22, 17.52s/it]"
     ]
    },
    {
     "name": "stdout",
     "output_type": "stream",
     "text": [
      "Time taken: 1.52 seconds\n",
      "Warming up Numba JIT...\n",
      "Processing 500 sequence pairs in parallel...\n",
      "Time taken: 0.08 seconds\n",
      "Warming up Numba JIT...\n",
      "Processing 500 sequence pairs in parallel...\n",
      "Time taken: 0.08 seconds\n",
      "Warming up Numba JIT...\n",
      "Processing 9000 sequence pairs in parallel...\n"
     ]
    },
    {
     "name": "stderr",
     "output_type": "stream",
     "text": [
      "Processing llama_1.5B_Standard_GBS_120_EPOCH_75:  26%|██▋       | 5/19 [01:27<04:05, 17.53s/it]"
     ]
    },
    {
     "name": "stdout",
     "output_type": "stream",
     "text": [
      "Time taken: 1.53 seconds\n",
      "Warming up Numba JIT...\n",
      "Processing 500 sequence pairs in parallel...\n",
      "Time taken: 0.08 seconds\n",
      "Warming up Numba JIT...\n",
      "Processing 500 sequence pairs in parallel...\n",
      "Time taken: 0.08 seconds\n",
      "Warming up Numba JIT...\n",
      "Processing 9000 sequence pairs in parallel...\n"
     ]
    },
    {
     "name": "stderr",
     "output_type": "stream",
     "text": [
      "Processing llama_1.5B_Standard_GBS_120_EPOCH_75:  32%|███▏      | 6/19 [01:44<03:47, 17.49s/it]"
     ]
    },
    {
     "name": "stdout",
     "output_type": "stream",
     "text": [
      "Time taken: 1.43 seconds\n",
      "Warming up Numba JIT...\n",
      "Processing 500 sequence pairs in parallel...\n",
      "Time taken: 0.08 seconds\n",
      "Warming up Numba JIT...\n",
      "Processing 500 sequence pairs in parallel...\n",
      "Time taken: 0.08 seconds\n",
      "Warming up Numba JIT...\n",
      "Processing 9000 sequence pairs in parallel...\n"
     ]
    },
    {
     "name": "stderr",
     "output_type": "stream",
     "text": [
      "Processing llama_1.5B_Standard_GBS_120_EPOCH_75:  37%|███▋      | 7/19 [02:02<03:30, 17.54s/it]"
     ]
    },
    {
     "name": "stdout",
     "output_type": "stream",
     "text": [
      "Time taken: 1.43 seconds\n",
      "Warming up Numba JIT...\n",
      "Processing 500 sequence pairs in parallel...\n",
      "Time taken: 0.08 seconds\n",
      "Warming up Numba JIT...\n",
      "Processing 500 sequence pairs in parallel...\n",
      "Time taken: 0.08 seconds\n",
      "Warming up Numba JIT...\n",
      "Processing 9000 sequence pairs in parallel...\n",
      "Time taken: 1.57 seconds\n",
      "Warming up Numba JIT...\n",
      "Processing 500 sequence pairs in parallel...\n",
      "Time taken: 0.09 seconds\n",
      "Warming up Numba JIT...\n",
      "Processing 500 sequence pairs in parallel...\n",
      "Time taken: 0.09 seconds\n"
     ]
    },
    {
     "name": "stderr",
     "output_type": "stream",
     "text": [
      "Processing llama_1.5B_Standard_GBS_120_EPOCH_75:  42%|████▏     | 8/19 [02:20<03:14, 17.65s/it]"
     ]
    },
    {
     "name": "stdout",
     "output_type": "stream",
     "text": [
      "Warming up Numba JIT...\n",
      "Processing 9000 sequence pairs in parallel...\n"
     ]
    },
    {
     "name": "stderr",
     "output_type": "stream",
     "text": [
      "Processing llama_1.5B_Standard_GBS_120_EPOCH_75:  47%|████▋     | 9/19 [02:38<02:56, 17.65s/it]"
     ]
    },
    {
     "name": "stdout",
     "output_type": "stream",
     "text": [
      "Time taken: 1.44 seconds\n",
      "Warming up Numba JIT...\n",
      "Processing 500 sequence pairs in parallel...\n",
      "Time taken: 0.08 seconds\n",
      "Warming up Numba JIT...\n",
      "Processing 500 sequence pairs in parallel...\n",
      "Time taken: 0.08 seconds\n",
      "Warming up Numba JIT...\n",
      "Processing 9000 sequence pairs in parallel...\n"
     ]
    },
    {
     "name": "stderr",
     "output_type": "stream",
     "text": [
      "Processing llama_1.5B_Standard_GBS_120_EPOCH_75:  53%|█████▎    | 10/19 [02:55<02:39, 17.70s/it]"
     ]
    },
    {
     "name": "stdout",
     "output_type": "stream",
     "text": [
      "Time taken: 1.55 seconds\n",
      "Warming up Numba JIT...\n",
      "Processing 500 sequence pairs in parallel...\n",
      "Time taken: 0.08 seconds\n",
      "Warming up Numba JIT...\n",
      "Processing 500 sequence pairs in parallel...\n",
      "Time taken: 0.08 seconds\n",
      "Warming up Numba JIT...\n",
      "Processing 9000 sequence pairs in parallel...\n"
     ]
    },
    {
     "name": "stderr",
     "output_type": "stream",
     "text": [
      "Processing llama_1.5B_Standard_GBS_120_EPOCH_75:  58%|█████▊    | 11/19 [03:13<02:22, 17.82s/it]"
     ]
    },
    {
     "name": "stdout",
     "output_type": "stream",
     "text": [
      "Time taken: 1.50 seconds\n",
      "Warming up Numba JIT...\n",
      "Processing 500 sequence pairs in parallel...\n",
      "Time taken: 0.08 seconds\n",
      "Warming up Numba JIT...\n",
      "Processing 500 sequence pairs in parallel...\n",
      "Time taken: 0.08 seconds\n",
      "Warming up Numba JIT...\n",
      "Processing 9000 sequence pairs in parallel...\n"
     ]
    },
    {
     "name": "stderr",
     "output_type": "stream",
     "text": [
      "Processing llama_1.5B_Standard_GBS_120_EPOCH_75:  63%|██████▎   | 12/19 [03:31<02:04, 17.83s/it]"
     ]
    },
    {
     "name": "stdout",
     "output_type": "stream",
     "text": [
      "Time taken: 1.62 seconds\n",
      "Warming up Numba JIT...\n",
      "Processing 500 sequence pairs in parallel...\n",
      "Time taken: 0.09 seconds\n",
      "Warming up Numba JIT...\n",
      "Processing 500 sequence pairs in parallel...\n",
      "Time taken: 0.09 seconds\n",
      "Warming up Numba JIT...\n",
      "Processing 9000 sequence pairs in parallel...\n"
     ]
    },
    {
     "name": "stderr",
     "output_type": "stream",
     "text": [
      "Processing llama_1.5B_Standard_GBS_120_EPOCH_75:  68%|██████▊   | 13/19 [03:49<01:46, 17.77s/it]"
     ]
    },
    {
     "name": "stdout",
     "output_type": "stream",
     "text": [
      "Time taken: 1.50 seconds\n",
      "Warming up Numba JIT...\n",
      "Processing 500 sequence pairs in parallel...\n",
      "Time taken: 0.08 seconds\n",
      "Warming up Numba JIT...\n",
      "Processing 500 sequence pairs in parallel...\n",
      "Time taken: 0.08 seconds\n",
      "Warming up Numba JIT...\n",
      "Processing 9000 sequence pairs in parallel...\n",
      "Time taken: 1.62 seconds\n",
      "Warming up Numba JIT...\n",
      "Processing 500 sequence pairs in parallel...\n",
      "Time taken: 0.08 seconds\n",
      "Warming up Numba JIT...\n",
      "Processing 500 sequence pairs in parallel...\n"
     ]
    },
    {
     "name": "stderr",
     "output_type": "stream",
     "text": [
      "Processing llama_1.5B_Standard_GBS_120_EPOCH_75:  74%|███████▎  | 14/19 [04:07<01:28, 17.74s/it]"
     ]
    },
    {
     "name": "stdout",
     "output_type": "stream",
     "text": [
      "Time taken: 0.08 seconds\n",
      "Warming up Numba JIT...\n",
      "Processing 9000 sequence pairs in parallel...\n"
     ]
    },
    {
     "name": "stderr",
     "output_type": "stream",
     "text": [
      "Processing llama_1.5B_Standard_GBS_120_EPOCH_75:  79%|███████▉  | 15/19 [04:24<01:10, 17.71s/it]"
     ]
    },
    {
     "name": "stdout",
     "output_type": "stream",
     "text": [
      "Time taken: 1.56 seconds\n",
      "Warming up Numba JIT...\n",
      "Processing 500 sequence pairs in parallel...\n",
      "Time taken: 0.08 seconds\n",
      "Warming up Numba JIT...\n",
      "Processing 500 sequence pairs in parallel...\n",
      "Time taken: 0.08 seconds\n",
      "Warming up Numba JIT...\n",
      "Processing 9000 sequence pairs in parallel...\n",
      "Time taken: 1.66 seconds\n",
      "Warming up Numba JIT...\n",
      "Processing 500 sequence pairs in parallel...\n",
      "Time taken: 0.09 seconds\n",
      "Warming up Numba JIT...\n",
      "Processing 500 sequence pairs in parallel...\n",
      "Time taken: 0.09 seconds\n"
     ]
    },
    {
     "name": "stderr",
     "output_type": "stream",
     "text": [
      "Processing llama_1.5B_Standard_GBS_120_EPOCH_75:  84%|████████▍ | 16/19 [04:43<00:53, 17.88s/it]"
     ]
    },
    {
     "name": "stdout",
     "output_type": "stream",
     "text": [
      "Warming up Numba JIT...\n",
      "Processing 9000 sequence pairs in parallel...\n"
     ]
    },
    {
     "name": "stderr",
     "output_type": "stream",
     "text": [
      "Processing llama_1.5B_Standard_GBS_120_EPOCH_75:  89%|████████▉ | 17/19 [05:00<00:35, 17.86s/it]"
     ]
    },
    {
     "name": "stdout",
     "output_type": "stream",
     "text": [
      "Time taken: 1.55 seconds\n",
      "Warming up Numba JIT...\n",
      "Processing 500 sequence pairs in parallel...\n",
      "Time taken: 0.08 seconds\n",
      "Warming up Numba JIT...\n",
      "Processing 500 sequence pairs in parallel...\n",
      "Time taken: 0.08 seconds\n",
      "Warming up Numba JIT...\n",
      "Processing 9000 sequence pairs in parallel...\n"
     ]
    },
    {
     "name": "stderr",
     "output_type": "stream",
     "text": [
      "Processing llama_1.5B_Standard_GBS_120_EPOCH_75:  95%|█████████▍| 18/19 [05:18<00:17, 17.91s/it]"
     ]
    },
    {
     "name": "stdout",
     "output_type": "stream",
     "text": [
      "Time taken: 1.64 seconds\n",
      "Warming up Numba JIT...\n",
      "Processing 500 sequence pairs in parallel...\n",
      "Time taken: 0.08 seconds\n",
      "Warming up Numba JIT...\n",
      "Processing 500 sequence pairs in parallel...\n",
      "Time taken: 0.08 seconds\n",
      "Warming up Numba JIT...\n",
      "Processing 9000 sequence pairs in parallel...\n"
     ]
    },
    {
     "name": "stderr",
     "output_type": "stream",
     "text": [
      "Processing llama_1.5B_Standard_GBS_120_EPOCH_75: 100%|██████████| 19/19 [05:36<00:00, 17.73s/it]"
     ]
    },
    {
     "name": "stdout",
     "output_type": "stream",
     "text": [
      "Time taken: 1.63 seconds\n",
      "Warming up Numba JIT...\n",
      "Processing 500 sequence pairs in parallel...\n",
      "Time taken: 0.08 seconds\n",
      "Warming up Numba JIT...\n",
      "Processing 500 sequence pairs in parallel...\n",
      "Time taken: 0.08 seconds\n"
     ]
    },
    {
     "name": "stderr",
     "output_type": "stream",
     "text": [
      "\n"
     ]
    }
   ],
   "source": [
    "base_dir = \"/mloscratch/homes/yixuan/PDM/inference\"\n",
    "model_ids = [\n",
    "    \"llama_1.5B_Goldfish_K_5_H_13_GBS_120_EPOCH_93\",\n",
    "    \"llama_1.5B_Goldfish_K_10_H_13_GBS_120_EPOCH_83\",\n",
    "    \"llama_1.5B_Goldfish_K_21_H_13_GBS_120_EPOCH_79\",\n",
    "    \"llama_1.5B_Standard_GBS_120_EPOCH_75\"\n",
    "]\n",
    "results = calc_avg_lcs_lengths(base_dir, model_ids)"
   ]
  },
  {
   "cell_type": "code",
   "execution_count": 9,
   "metadata": {},
   "outputs": [],
   "source": [
    "with open('/mloscratch/homes/yixuan/PDM/results/avg_lcs.pkl', 'rb') as f:\n",
    "    lcs_results = pickle.load(f)"
   ]
  },
  {
   "cell_type": "code",
   "execution_count": 11,
   "metadata": {},
   "outputs": [
    {
     "data": {
      "image/png": "[encoded data removed]",
      "text/plain": [
       "<Figure size 1200x600 with 1 Axes>"
      ]
     },
     "metadata": {},
     "output_type": "display_data"
    }
   ],
   "source": [
    "plot_comparison(\n",
    "    results=lcs_results, \n",
    "    include_ckpts=[\n",
    "        \"llama_1.5B_Goldfish_K_5_H_13_GBS_120_EPOCH_93\",\n",
    "        \"llama_1.5B_Goldfish_K_10_H_13_GBS_120_EPOCH_83\",\n",
    "        \"llama_1.5B_Goldfish_K_21_H_13_GBS_120_EPOCH_79\",\n",
    "        \"llama_1.5B_Standard_GBS_120_EPOCH_75\"\n",
    "    ], \n",
    "    include_splits=[\n",
    "        'train', \n",
    "        # 'val', \n",
    "        # 'test'\n",
    "    ],\n",
    "    title='Average Longest Verbatim Memorisation Length vs Training Epochs'\n",
    ")"
   ]
  },
  {
   "cell_type": "code",
   "execution_count": 16,
   "metadata": {},
   "outputs": [],
   "source": [
    "save_results(results, '../results/avg_lcs.pkl')"
   ]
  },
  {
   "cell_type": "code",
   "execution_count": 11,
   "metadata": {},
   "outputs": [],
   "source": [
    "def calc_avg_cs_lengths(base_dir, model_ids):\n",
    "    \"\"\"\n",
    "    Calculate average common substring lengths for multiple models with data split into train/val/test\n",
    "    \n",
    "    Parameters\n",
    "    ----------\n",
    "    base_dir : str\n",
    "        Base directory containing all model results\n",
    "    model_ids : list\n",
    "        List of model identifiers to process\n",
    "        \n",
    "    Returns\n",
    "    -------\n",
    "    dict\n",
    "        Dictionary mapping model names to their results with split information\n",
    "    \"\"\"\n",
    "    results = {}\n",
    "    for model_id in model_ids:\n",
    "        expr_dir = f\"{base_dir}/{model_id}\"\n",
    "        ckpts = get_checkpoints(expr_dir)\n",
    "        \n",
    "        steps, avg_lengths = [], []\n",
    "        for step, consumed in tqdm(ckpts, desc=f\"Processing {model_id}\"):\n",
    "            data = load_inference_data(expr_dir, step, consumed)\n",
    "            \n",
    "            # Calculate split indices\n",
    "            n_total = len(data['true_suffix'])\n",
    "            n_train = int(n_total * 0.9)\n",
    "            n_val = int(n_total * 0.05)\n",
    "            \n",
    "            # Split data\n",
    "            splits = {\n",
    "                'train': {\n",
    "                    'true_suffix': data['true_suffix'][:n_train],\n",
    "                    'generated_suffix': data['generated_suffix'][:n_train]\n",
    "                },\n",
    "                'val': {\n",
    "                    'true_suffix': data['true_suffix'][n_train:n_train + n_val],\n",
    "                    'generated_suffix': data['generated_suffix'][n_train:n_train + n_val]\n",
    "                },\n",
    "                'test': {\n",
    "                    'true_suffix': data['true_suffix'][n_train + n_val:],\n",
    "                    'generated_suffix': data['generated_suffix'][n_train + n_val:]\n",
    "                }\n",
    "            }\n",
    "            \n",
    "            # Calculate CS for each split\n",
    "            cs_results = {}\n",
    "            for split_name, split_data in splits.items():\n",
    "                cs_master = CommonSubstringMatcher(\n",
    "                    split_data['true_suffix'], \n",
    "                    split_data['generated_suffix']\n",
    "                )\n",
    "                matches = cs_master.get_all_matches()\n",
    "                # Using nanmean for samples with all None matches\n",
    "                cs_results[split_name] = np.nanmean([\n",
    "                    np.mean([match.length if match is not None else 0 for match in sample])\n",
    "                    for sample in matches\n",
    "                ])\n",
    "            \n",
    "            steps.append(step)\n",
    "            avg_lengths.append(cs_results)\n",
    "            \n",
    "        # Reorganize results by split\n",
    "        split_results = {\n",
    "            'train': {'steps': steps, 'avg_lengths': [r['train'] for r in avg_lengths]},\n",
    "            'val': {'steps': steps, 'avg_lengths': [r['val'] for r in avg_lengths]},\n",
    "            'test': {'steps': steps, 'avg_lengths': [r['test'] for r in avg_lengths]}\n",
    "        }\n",
    "        \n",
    "        results[model_id] = split_results\n",
    "    \n",
    "    return results"
   ]
  },
  {
   "cell_type": "code",
   "execution_count": null,
   "metadata": {},
   "outputs": [],
   "source": [
    "base_dir = \"/mloscratch/homes/yixuan/PDM/inference\"\n",
    "model_ids = [\n",
    "    \"llama_1.5B_Goldfish_K_5_H_13_GBS_120_EPOCH_93\",\n",
    "    \"llama_1.5B_Goldfish_K_10_H_13_GBS_120_EPOCH_83\",\n",
    "    \"llama_1.5B_Goldfish_K_21_H_13_GBS_120_EPOCH_79\",\n",
    "    \"llama_1.5B_Standard_GBS_120_EPOCH_75\"\n",
    "]\n",
    "cs_results = calc_avg_cs_lengths(base_dir, model_ids)"
   ]
  },
  {
   "cell_type": "code",
   "execution_count": 30,
   "metadata": {},
   "outputs": [],
   "source": [
    "with open('/mloscratch/homes/yixuan/PDM/results/avg_cs.pkl', 'rb') as f:\n",
    "    cs_results = pickle.load(f)"
   ]
  },
  {
   "cell_type": "code",
   "execution_count": 1,
   "metadata": {},
   "outputs": [
    {
     "ename": "NameError",
     "evalue": "name 'plot_comparison' is not defined",
     "output_type": "error",
     "traceback": [
      "\u001b[0;31m---------------------------------------------------------------------------\u001b[0m",
      "\u001b[0;31mNameError\u001b[0m                                 Traceback (most recent call last)",
      "Cell \u001b[0;32mIn[1], line 1\u001b[0m\n\u001b[0;32m----> 1\u001b[0m \u001b[43mplot_comparison\u001b[49m(\n\u001b[1;32m      2\u001b[0m     results\u001b[38;5;241m=\u001b[39mcs_results, \n\u001b[1;32m      3\u001b[0m     include_ckpts\u001b[38;5;241m=\u001b[39m[\n\u001b[1;32m      4\u001b[0m         \u001b[38;5;124m\"\u001b[39m\u001b[38;5;124mllama_1.5B_Goldfish_K_5_H_13_GBS_120_EPOCH_93\u001b[39m\u001b[38;5;124m\"\u001b[39m,\n\u001b[1;32m      5\u001b[0m         \u001b[38;5;124m\"\u001b[39m\u001b[38;5;124mllama_1.5B_Goldfish_K_10_H_13_GBS_120_EPOCH_83\u001b[39m\u001b[38;5;124m\"\u001b[39m,\n\u001b[1;32m      6\u001b[0m         \u001b[38;5;124m\"\u001b[39m\u001b[38;5;124mllama_1.5B_Goldfish_K_21_H_13_GBS_120_EPOCH_79\u001b[39m\u001b[38;5;124m\"\u001b[39m,\n\u001b[1;32m      7\u001b[0m         \u001b[38;5;124m\"\u001b[39m\u001b[38;5;124mllama_1.5B_Standard_GBS_120_EPOCH_75\u001b[39m\u001b[38;5;124m\"\u001b[39m\n\u001b[1;32m      8\u001b[0m     ], \n\u001b[1;32m      9\u001b[0m     include_splits\u001b[38;5;241m=\u001b[39m[\n\u001b[1;32m     10\u001b[0m         \u001b[38;5;124m'\u001b[39m\u001b[38;5;124mtrain\u001b[39m\u001b[38;5;124m'\u001b[39m, \n\u001b[1;32m     11\u001b[0m         \u001b[38;5;66;03m# 'val', \u001b[39;00m\n\u001b[1;32m     12\u001b[0m         \u001b[38;5;66;03m# 'test'\u001b[39;00m\n\u001b[1;32m     13\u001b[0m     ],\n\u001b[1;32m     14\u001b[0m     title\u001b[38;5;241m=\u001b[39m\u001b[38;5;124m'\u001b[39m\u001b[38;5;124mAverage Verbatim Memorisation Length vs Training Epochs\u001b[39m\u001b[38;5;124m'\u001b[39m\n\u001b[1;32m     15\u001b[0m )\n",
      "\u001b[0;31mNameError\u001b[0m: name 'plot_comparison' is not defined"
     ]
    }
   ],
   "source": [
    "plot_comparison(\n",
    "    results=cs_results, \n",
    "    include_ckpts=[\n",
    "        \"llama_1.5B_Goldfish_K_5_H_13_GBS_120_EPOCH_93\",\n",
    "        \"llama_1.5B_Goldfish_K_10_H_13_GBS_120_EPOCH_83\",\n",
    "        \"llama_1.5B_Goldfish_K_21_H_13_GBS_120_EPOCH_79\",\n",
    "        \"llama_1.5B_Standard_GBS_120_EPOCH_75\"\n",
    "    ], \n",
    "    include_splits=[\n",
    "        'train', \n",
    "        # 'val', \n",
    "        # 'test'\n",
    "    ],\n",
    "    title='Average Verbatim Memorisation Length vs Training Epochs'\n",
    ")"
   ]
  },
  {
   "cell_type": "code",
   "execution_count": 10,
   "metadata": {},
   "outputs": [],
   "source": [
    "with open('/mloscratch/homes/yixuan/PDM/results/avg_cs.pkl', 'rb') as f:\n",
    "    results = pickle.load(f)"
   ]
  },
  {
   "cell_type": "code",
   "execution_count": null,
   "metadata": {},
   "outputs": [],
   "source": []
  },
  {
   "cell_type": "code",
   "execution_count": null,
   "metadata": {},
   "outputs": [],
   "source": []
  },
  {
   "cell_type": "code",
   "execution_count": null,
   "metadata": {},
   "outputs": [],
   "source": []
  },
  {
   "cell_type": "code",
   "execution_count": 9,
   "metadata": {},
   "outputs": [],
   "source": [
    "split_data = load_inference_data(\"/mloscratch/homes/yixuan/PDM/inference/llama_1.5B_Goldfish_K_5_H_13_GBS_120_EPOCH_93\", 300, 36000)"
   ]
  },
  {
   "cell_type": "code",
   "execution_count": 10,
   "metadata": {},
   "outputs": [
    {
     "data": {
      "text/plain": [
       "Dataset({\n",
       "    features: ['prefix', 'true_suffix', 'generated_suffix'],\n",
       "    num_rows: 10000\n",
       "})"
      ]
     },
     "execution_count": 10,
     "metadata": {},
     "output_type": "execute_result"
    }
   ],
   "source": [
    "split_data"
   ]
  },
  {
   "cell_type": "code",
   "execution_count": 11,
   "metadata": {},
   "outputs": [
    {
     "name": "stdout",
     "output_type": "stream",
     "text": [
      "Warming up Numba JIT...\n",
      "Processing 10000 sequence pairs in parallel...\n",
      "Time taken: 1.51 seconds\n"
     ]
    }
   ],
   "source": [
    "res = find_longest_common_substrings(\n",
    "    split_data['true_suffix'], \n",
    "    split_data['generated_suffix']\n",
    ")"
   ]
  },
  {
   "cell_type": "code",
   "execution_count": 13,
   "metadata": {},
   "outputs": [
    {
     "name": "stdout",
     "output_type": "stream",
     "text": [
      "Computed DP matrices in 2.80 seconds.\n"
     ]
    },
    {
     "name": "stderr",
     "output_type": "stream",
     "text": [
      "Finding matches: 100%|██████████| 10000/10000 [00:14<00:00, 697.21sequence/s]\n"
     ]
    }
   ],
   "source": [
    "cs_master = CommonSubstringMatcher(\n",
    "                    split_data['true_suffix'], \n",
    "                    split_data['generated_suffix']\n",
    "                )\n",
    "matches = cs_master.get_all_matches()"
   ]
  },
  {
   "cell_type": "code",
   "execution_count": 15,
   "metadata": {},
   "outputs": [
    {
     "data": {
      "text/plain": [
       "[Match(idx=0, length=2, s1[215:217], s2[439:441]), values=[315 279]),\n",
       " Match(idx=0, length=2, s1[215:217], s2[448:450]), values=[315 279]),\n",
       " Match(idx=0, length=2, s1[215:217], s2[454:456]), values=[315 279]),\n",
       " Match(idx=0, length=2, s1[215:217], s2[463:465]), values=[315 279]),\n",
       " Match(idx=0, length=2, s1[215:217], s2[469:471]), values=[315 279]),\n",
       " Match(idx=0, length=2, s1[215:217], s2[478:480]), values=[315 279]),\n",
       " Match(idx=0, length=2, s1[215:217], s2[484:486]), values=[315 279]),\n",
       " Match(idx=0, length=2, s1[215:217], s2[493:495]), values=[315 279]),\n",
       " Match(idx=0, length=2, s1[232:234], s2[2:4]), values=[315 279]),\n",
       " Match(idx=0, length=2, s1[232:234], s2[17:19]), values=[315 279]),\n",
       " Match(idx=0, length=2, s1[232:234], s2[35:37]), values=[315 279]),\n",
       " Match(idx=0, length=2, s1[232:234], s2[44:46]), values=[315 279]),\n",
       " Match(idx=0, length=2, s1[232:234], s2[61:63]), values=[315 279]),\n",
       " Match(idx=0, length=2, s1[232:234], s2[74:76]), values=[315 279]),\n",
       " Match(idx=0, length=2, s1[232:234], s2[88:90]), values=[315 279]),\n",
       " Match(idx=0, length=2, s1[232:234], s2[101:103]), values=[315 279]),\n",
       " Match(idx=0, length=2, s1[232:234], s2[114:116]), values=[315 279]),\n",
       " Match(idx=0, length=2, s1[232:234], s2[127:129]), values=[315 279]),\n",
       " Match(idx=0, length=2, s1[232:234], s2[140:142]), values=[315 279]),\n",
       " Match(idx=0, length=2, s1[232:234], s2[153:155]), values=[315 279]),\n",
       " Match(idx=0, length=2, s1[232:234], s2[166:168]), values=[315 279]),\n",
       " Match(idx=0, length=2, s1[232:234], s2[178:180]), values=[315 279]),\n",
       " Match(idx=0, length=2, s1[215:217], s2[433:435]), values=[315 279]),\n",
       " Match(idx=0, length=2, s1[215:217], s2[268:270]), values=[315 279]),\n",
       " Match(idx=0, length=2, s1[215:217], s2[274:276]), values=[315 279]),\n",
       " Match(idx=0, length=2, s1[215:217], s2[283:285]), values=[315 279]),\n",
       " Match(idx=0, length=2, s1[215:217], s2[289:291]), values=[315 279]),\n",
       " Match(idx=0, length=2, s1[215:217], s2[298:300]), values=[315 279]),\n",
       " Match(idx=0, length=2, s1[215:217], s2[304:306]), values=[315 279]),\n",
       " Match(idx=0, length=2, s1[215:217], s2[313:315]), values=[315 279]),\n",
       " Match(idx=0, length=2, s1[215:217], s2[319:321]), values=[315 279]),\n",
       " Match(idx=0, length=2, s1[215:217], s2[328:330]), values=[315 279]),\n",
       " Match(idx=0, length=2, s1[215:217], s2[334:336]), values=[315 279]),\n",
       " Match(idx=0, length=2, s1[215:217], s2[343:345]), values=[315 279]),\n",
       " Match(idx=0, length=2, s1[215:217], s2[349:351]), values=[315 279]),\n",
       " Match(idx=0, length=2, s1[215:217], s2[358:360]), values=[315 279]),\n",
       " Match(idx=0, length=2, s1[215:217], s2[364:366]), values=[315 279]),\n",
       " Match(idx=0, length=2, s1[215:217], s2[373:375]), values=[315 279]),\n",
       " Match(idx=0, length=2, s1[215:217], s2[379:381]), values=[315 279]),\n",
       " Match(idx=0, length=2, s1[215:217], s2[388:390]), values=[315 279]),\n",
       " Match(idx=0, length=2, s1[215:217], s2[394:396]), values=[315 279]),\n",
       " Match(idx=0, length=2, s1[215:217], s2[403:405]), values=[315 279]),\n",
       " Match(idx=0, length=2, s1[215:217], s2[409:411]), values=[315 279]),\n",
       " Match(idx=0, length=2, s1[215:217], s2[418:420]), values=[315 279]),\n",
       " Match(idx=0, length=2, s1[215:217], s2[424:426]), values=[315 279]),\n",
       " Match(idx=0, length=2, s1[232:234], s2[184:186]), values=[315 279]),\n",
       " Match(idx=0, length=2, s1[232:234], s2[373:375]), values=[315 279]),\n",
       " Match(idx=0, length=2, s1[232:234], s2[379:381]), values=[315 279]),\n",
       " Match(idx=0, length=2, s1[232:234], s2[388:390]), values=[315 279]),\n",
       " Match(idx=0, length=2, s1[232:234], s2[394:396]), values=[315 279]),\n",
       " Match(idx=0, length=2, s1[232:234], s2[403:405]), values=[315 279]),\n",
       " Match(idx=0, length=2, s1[232:234], s2[409:411]), values=[315 279]),\n",
       " Match(idx=0, length=2, s1[232:234], s2[418:420]), values=[315 279]),\n",
       " Match(idx=0, length=2, s1[232:234], s2[424:426]), values=[315 279]),\n",
       " Match(idx=0, length=2, s1[232:234], s2[433:435]), values=[315 279]),\n",
       " Match(idx=0, length=2, s1[232:234], s2[439:441]), values=[315 279]),\n",
       " Match(idx=0, length=2, s1[232:234], s2[448:450]), values=[315 279]),\n",
       " Match(idx=0, length=2, s1[232:234], s2[454:456]), values=[315 279]),\n",
       " Match(idx=0, length=2, s1[232:234], s2[463:465]), values=[315 279]),\n",
       " Match(idx=0, length=2, s1[232:234], s2[469:471]), values=[315 279]),\n",
       " Match(idx=0, length=2, s1[232:234], s2[478:480]), values=[315 279]),\n",
       " Match(idx=0, length=2, s1[232:234], s2[484:486]), values=[315 279]),\n",
       " Match(idx=0, length=2, s1[232:234], s2[493:495]), values=[315 279]),\n",
       " Match(idx=0, length=2, s1[254:256], s2[77:79]), values=[ 11 323]),\n",
       " Match(idx=0, length=2, s1[259:261], s2[30:32]), values=[311 387]),\n",
       " Match(idx=0, length=2, s1[259:261], s2[50:52]), values=[311 387]),\n",
       " Match(idx=0, length=2, s1[386:388], s2[77:79]), values=[ 11 323]),\n",
       " Match(idx=0, length=2, s1[232:234], s2[364:366]), values=[315 279]),\n",
       " Match(idx=0, length=2, s1[232:234], s2[358:360]), values=[315 279]),\n",
       " Match(idx=0, length=2, s1[232:234], s2[193:195]), values=[315 279]),\n",
       " Match(idx=0, length=2, s1[232:234], s2[199:201]), values=[315 279]),\n",
       " Match(idx=0, length=2, s1[232:234], s2[208:210]), values=[315 279]),\n",
       " Match(idx=0, length=2, s1[232:234], s2[214:216]), values=[315 279]),\n",
       " Match(idx=0, length=2, s1[232:234], s2[223:225]), values=[315 279]),\n",
       " Match(idx=0, length=2, s1[232:234], s2[229:231]), values=[315 279]),\n",
       " Match(idx=0, length=2, s1[232:234], s2[238:240]), values=[315 279]),\n",
       " Match(idx=0, length=2, s1[232:234], s2[244:246]), values=[315 279]),\n",
       " Match(idx=0, length=2, s1[232:234], s2[253:255]), values=[315 279]),\n",
       " Match(idx=0, length=2, s1[232:234], s2[259:261]), values=[315 279]),\n",
       " Match(idx=0, length=2, s1[446:448], s2[78:80]), values=[323 279]),\n",
       " Match(idx=0, length=2, s1[232:234], s2[268:270]), values=[315 279]),\n",
       " Match(idx=0, length=2, s1[232:234], s2[283:285]), values=[315 279]),\n",
       " Match(idx=0, length=2, s1[232:234], s2[289:291]), values=[315 279]),\n",
       " Match(idx=0, length=2, s1[232:234], s2[298:300]), values=[315 279]),\n",
       " Match(idx=0, length=2, s1[232:234], s2[304:306]), values=[315 279]),\n",
       " Match(idx=0, length=2, s1[232:234], s2[313:315]), values=[315 279]),\n",
       " Match(idx=0, length=2, s1[232:234], s2[319:321]), values=[315 279]),\n",
       " Match(idx=0, length=2, s1[232:234], s2[328:330]), values=[315 279]),\n",
       " Match(idx=0, length=2, s1[232:234], s2[334:336]), values=[315 279]),\n",
       " Match(idx=0, length=2, s1[232:234], s2[343:345]), values=[315 279]),\n",
       " Match(idx=0, length=2, s1[232:234], s2[349:351]), values=[315 279]),\n",
       " Match(idx=0, length=2, s1[232:234], s2[274:276]), values=[315 279]),\n",
       " Match(idx=0, length=2, s1[215:217], s2[259:261]), values=[315 279]),\n",
       " Match(idx=0, length=2, s1[128:130], s2[205:207]), values=[ 11 279]),\n",
       " Match(idx=0, length=2, s1[128:130], s2[211:213]), values=[ 11 279]),\n",
       " Match(idx=0, length=2, s1[128:130], s2[220:222]), values=[ 11 279]),\n",
       " Match(idx=0, length=2, s1[128:130], s2[226:228]), values=[ 11 279]),\n",
       " Match(idx=0, length=2, s1[128:130], s2[235:237]), values=[ 11 279]),\n",
       " Match(idx=0, length=2, s1[128:130], s2[241:243]), values=[ 11 279]),\n",
       " Match(idx=0, length=2, s1[128:130], s2[250:252]), values=[ 11 279]),\n",
       " Match(idx=0, length=2, s1[128:130], s2[256:258]), values=[ 11 279]),\n",
       " Match(idx=0, length=2, s1[128:130], s2[265:267]), values=[ 11 279]),\n",
       " Match(idx=0, length=2, s1[128:130], s2[271:273]), values=[ 11 279]),\n",
       " Match(idx=0, length=2, s1[128:130], s2[280:282]), values=[ 11 279]),\n",
       " Match(idx=0, length=2, s1[128:130], s2[286:288]), values=[ 11 279]),\n",
       " Match(idx=0, length=2, s1[128:130], s2[295:297]), values=[ 11 279]),\n",
       " Match(idx=0, length=2, s1[128:130], s2[301:303]), values=[ 11 279]),\n",
       " Match(idx=0, length=2, s1[128:130], s2[310:312]), values=[ 11 279]),\n",
       " Match(idx=0, length=2, s1[128:130], s2[316:318]), values=[ 11 279]),\n",
       " Match(idx=0, length=2, s1[128:130], s2[325:327]), values=[ 11 279]),\n",
       " Match(idx=0, length=2, s1[128:130], s2[331:333]), values=[ 11 279]),\n",
       " Match(idx=0, length=2, s1[128:130], s2[340:342]), values=[ 11 279]),\n",
       " Match(idx=0, length=2, s1[128:130], s2[346:348]), values=[ 11 279]),\n",
       " Match(idx=0, length=2, s1[128:130], s2[355:357]), values=[ 11 279]),\n",
       " Match(idx=0, length=2, s1[128:130], s2[361:363]), values=[ 11 279]),\n",
       " Match(idx=0, length=2, s1[128:130], s2[196:198]), values=[ 11 279]),\n",
       " Match(idx=0, length=2, s1[8:10], s2[77:79]), values=[ 11 323]),\n",
       " Match(idx=0, length=2, s1[45:47], s2[77:79]), values=[ 11 323]),\n",
       " Match(idx=0, length=2, s1[89:91], s2[77:79]), values=[ 11 323]),\n",
       " Match(idx=0, length=2, s1[128:130], s2[64:66]), values=[ 11 279]),\n",
       " Match(idx=0, length=2, s1[128:130], s2[70:72]), values=[ 11 279]),\n",
       " Match(idx=0, length=2, s1[128:130], s2[84:86]), values=[ 11 279]),\n",
       " Match(idx=0, length=2, s1[128:130], s2[91:93]), values=[ 11 279]),\n",
       " Match(idx=0, length=2, s1[128:130], s2[97:99]), values=[ 11 279]),\n",
       " Match(idx=0, length=2, s1[128:130], s2[104:106]), values=[ 11 279]),\n",
       " Match(idx=0, length=2, s1[128:130], s2[110:112]), values=[ 11 279]),\n",
       " Match(idx=0, length=2, s1[128:130], s2[117:119]), values=[ 11 279]),\n",
       " Match(idx=0, length=2, s1[128:130], s2[123:125]), values=[ 11 279]),\n",
       " Match(idx=0, length=2, s1[128:130], s2[130:132]), values=[ 11 279]),\n",
       " Match(idx=0, length=2, s1[128:130], s2[136:138]), values=[ 11 279]),\n",
       " Match(idx=0, length=2, s1[128:130], s2[143:145]), values=[ 11 279]),\n",
       " Match(idx=0, length=2, s1[128:130], s2[149:151]), values=[ 11 279]),\n",
       " Match(idx=0, length=2, s1[128:130], s2[156:158]), values=[ 11 279]),\n",
       " Match(idx=0, length=2, s1[128:130], s2[162:164]), values=[ 11 279]),\n",
       " Match(idx=0, length=2, s1[128:130], s2[169:171]), values=[ 11 279]),\n",
       " Match(idx=0, length=2, s1[128:130], s2[175:177]), values=[ 11 279]),\n",
       " Match(idx=0, length=2, s1[128:130], s2[181:183]), values=[ 11 279]),\n",
       " Match(idx=0, length=2, s1[128:130], s2[190:192]), values=[ 11 279]),\n",
       " Match(idx=0, length=2, s1[128:130], s2[370:372]), values=[ 11 279]),\n",
       " Match(idx=0, length=2, s1[215:217], s2[35:37]), values=[315 279]),\n",
       " Match(idx=0, length=2, s1[215:217], s2[44:46]), values=[315 279]),\n",
       " Match(idx=0, length=2, s1[215:217], s2[61:63]), values=[315 279]),\n",
       " Match(idx=0, length=2, s1[215:217], s2[74:76]), values=[315 279]),\n",
       " Match(idx=0, length=2, s1[215:217], s2[88:90]), values=[315 279]),\n",
       " Match(idx=0, length=2, s1[215:217], s2[101:103]), values=[315 279]),\n",
       " Match(idx=0, length=2, s1[215:217], s2[114:116]), values=[315 279]),\n",
       " Match(idx=0, length=2, s1[215:217], s2[127:129]), values=[315 279]),\n",
       " Match(idx=0, length=2, s1[215:217], s2[140:142]), values=[315 279]),\n",
       " Match(idx=0, length=2, s1[215:217], s2[153:155]), values=[315 279]),\n",
       " Match(idx=0, length=2, s1[215:217], s2[166:168]), values=[315 279]),\n",
       " Match(idx=0, length=2, s1[215:217], s2[178:180]), values=[315 279]),\n",
       " Match(idx=0, length=2, s1[215:217], s2[184:186]), values=[315 279]),\n",
       " Match(idx=0, length=2, s1[215:217], s2[193:195]), values=[315 279]),\n",
       " Match(idx=0, length=2, s1[215:217], s2[199:201]), values=[315 279]),\n",
       " Match(idx=0, length=2, s1[215:217], s2[208:210]), values=[315 279]),\n",
       " Match(idx=0, length=2, s1[215:217], s2[214:216]), values=[315 279]),\n",
       " Match(idx=0, length=2, s1[215:217], s2[223:225]), values=[315 279]),\n",
       " Match(idx=0, length=2, s1[215:217], s2[229:231]), values=[315 279]),\n",
       " Match(idx=0, length=2, s1[215:217], s2[238:240]), values=[315 279]),\n",
       " Match(idx=0, length=2, s1[215:217], s2[244:246]), values=[315 279]),\n",
       " Match(idx=0, length=2, s1[215:217], s2[17:19]), values=[315 279]),\n",
       " Match(idx=0, length=2, s1[215:217], s2[2:4]), values=[315 279]),\n",
       " Match(idx=0, length=2, s1[128:130], s2[376:378]), values=[ 11 279]),\n",
       " Match(idx=0, length=2, s1[128:130], s2[385:387]), values=[ 11 279]),\n",
       " Match(idx=0, length=2, s1[128:130], s2[391:393]), values=[ 11 279]),\n",
       " Match(idx=0, length=2, s1[128:130], s2[400:402]), values=[ 11 279]),\n",
       " Match(idx=0, length=2, s1[128:130], s2[406:408]), values=[ 11 279]),\n",
       " Match(idx=0, length=2, s1[128:130], s2[415:417]), values=[ 11 279]),\n",
       " Match(idx=0, length=2, s1[128:130], s2[421:423]), values=[ 11 279]),\n",
       " Match(idx=0, length=2, s1[128:130], s2[430:432]), values=[ 11 279]),\n",
       " Match(idx=0, length=2, s1[128:130], s2[436:438]), values=[ 11 279]),\n",
       " Match(idx=0, length=2, s1[128:130], s2[445:447]), values=[ 11 279]),\n",
       " Match(idx=0, length=2, s1[215:217], s2[253:255]), values=[315 279]),\n",
       " Match(idx=0, length=2, s1[128:130], s2[451:453]), values=[ 11 279]),\n",
       " Match(idx=0, length=2, s1[128:130], s2[466:468]), values=[ 11 279]),\n",
       " Match(idx=0, length=2, s1[128:130], s2[475:477]), values=[ 11 279]),\n",
       " Match(idx=0, length=2, s1[128:130], s2[481:483]), values=[ 11 279]),\n",
       " Match(idx=0, length=2, s1[128:130], s2[490:492]), values=[ 11 279]),\n",
       " Match(idx=0, length=2, s1[128:130], s2[496:498]), values=[ 11 279]),\n",
       " Match(idx=0, length=2, s1[139:141], s2[9:11]), values=[ 198 1820]),\n",
       " Match(idx=0, length=2, s1[155:157], s2[9:11]), values=[ 198 1820]),\n",
       " Match(idx=0, length=2, s1[181:183], s2[0:2]), values=[13145  2191]),\n",
       " Match(idx=0, length=2, s1[194:196], s2[30:32]), values=[311 387]),\n",
       " Match(idx=0, length=2, s1[194:196], s2[50:52]), values=[311 387]),\n",
       " Match(idx=0, length=2, s1[128:130], s2[460:462]), values=[ 11 279])]"
      ]
     },
     "execution_count": 15,
     "metadata": {},
     "output_type": "execute_result"
    }
   ],
   "source": [
    "matches[0]"
   ]
  },
  {
   "cell_type": "code",
   "execution_count": 5,
   "metadata": {},
   "outputs": [],
   "source": [
    "from numba import njit\n"
   ]
  },
  {
   "cell_type": "code",
   "execution_count": 11,
   "metadata": {},
   "outputs": [],
   "source": [
    "@njit\n",
    "def _dp_edit_distance_band(s1: np.ndarray, s2: np.ndarray, max_edits: int) -> np.ndarray:\n",
    "    \"\"\"Optimized band version with simpler logic.\"\"\"\n",
    "    m, n = len(s1), len(s2)\n",
    "    dp = np.full((m + 1, n + 1), max_edits + 1, dtype=np.int32)\n",
    "    \n",
    "    # Initialize base cases\n",
    "    dp[0, 0] = 0\n",
    "    for i in range(1, min(m + 1, max_edits + 1)):\n",
    "        dp[i, 0] = i\n",
    "    for j in range(1, min(n + 1, max_edits + 1)):\n",
    "        dp[0, j] = j\n",
    "    \n",
    "    # Fill DP table within band\n",
    "    for i in range(1, m + 1):\n",
    "        j_start = max(1, i - max_edits)\n",
    "        j_end = min(n + 1, i + max_edits + 1)\n",
    "        \n",
    "        for j in range(j_start, j_end):\n",
    "            if s1[i - 1] == s2[j - 1]:\n",
    "                dp[i, j] = dp[i - 1, j - 1]\n",
    "            else:\n",
    "                dp[i, j] = min(\n",
    "                    dp[i - 1, j] + 1,\n",
    "                    dp[i, j - 1] + 1,\n",
    "                    dp[i - 1, j - 1] + 1\n",
    "                )\n",
    "                # Check for transposition\n",
    "                if (i > 1 and j > 1 and \n",
    "                    s1[i - 1] == s2[j - 2] and \n",
    "                    s1[i - 2] == s2[j - 1]):\n",
    "                    dp[i, j] = min(dp[i, j], dp[i - 2, j - 2] + 1)\n",
    "    \n",
    "    return dp"
   ]
  },
  {
   "cell_type": "code",
   "execution_count": 12,
   "metadata": {},
   "outputs": [],
   "source": [
    "# Example usage\n",
    "s1 = [1, 2, 4, 3, 5, 6, 7, 11, 9, 10, 12, 13, 15, 14, 16, 17, 18, 20, 19]\n",
    "s2 = [1, 2, 3, 4, 5, 6, 7, 8, 9, 10, 12, 13, 14, 16, 17, 18, 19, 20]\n",
    "max_edits = 4\n",
    "dp = _dp_edit_distance_band(s1, s2, max_edits)"
   ]
  },
  {
   "cell_type": "code",
   "execution_count": 13,
   "metadata": {},
   "outputs": [
    {
     "data": {
      "text/plain": [
       "array([[0, 1, 2, 3, 4, 5, 5, 5, 5, 5, 5, 5, 5, 5, 5, 5, 5, 5, 5],\n",
       "       [1, 0, 1, 2, 3, 4, 5, 5, 5, 5, 5, 5, 5, 5, 5, 5, 5, 5, 5],\n",
       "       [2, 1, 0, 1, 2, 3, 4, 5, 5, 5, 5, 5, 5, 5, 5, 5, 5, 5, 5],\n",
       "       [3, 2, 1, 1, 1, 2, 3, 4, 5, 5, 5, 5, 5, 5, 5, 5, 5, 5, 5],\n",
       "       [4, 3, 2, 1, 1, 2, 3, 4, 5, 5, 5, 5, 5, 5, 5, 5, 5, 5, 5],\n",
       "       [5, 4, 3, 2, 2, 1, 2, 3, 4, 5, 5, 5, 5, 5, 5, 5, 5, 5, 5],\n",
       "       [5, 5, 4, 3, 3, 2, 1, 2, 3, 4, 5, 5, 5, 5, 5, 5, 5, 5, 5],\n",
       "       [5, 5, 5, 4, 4, 3, 2, 1, 2, 3, 4, 5, 5, 5, 5, 5, 5, 5, 5],\n",
       "       [5, 5, 5, 5, 5, 4, 3, 2, 2, 3, 4, 5, 6, 5, 5, 5, 5, 5, 5],\n",
       "       [5, 5, 5, 5, 5, 5, 4, 3, 3, 2, 3, 4, 5, 6, 5, 5, 5, 5, 5],\n",
       "       [5, 5, 5, 5, 5, 5, 5, 4, 4, 3, 2, 3, 4, 5, 6, 5, 5, 5, 5],\n",
       "       [5, 5, 5, 5, 5, 5, 5, 5, 5, 4, 3, 2, 3, 4, 5, 6, 5, 5, 5],\n",
       "       [5, 5, 5, 5, 5, 5, 5, 5, 6, 5, 4, 3, 2, 3, 4, 5, 6, 5, 5],\n",
       "       [5, 5, 5, 5, 5, 5, 5, 5, 5, 6, 5, 4, 3, 3, 4, 5, 6, 6, 5],\n",
       "       [5, 5, 5, 5, 5, 5, 5, 5, 5, 5, 6, 5, 4, 3, 4, 5, 6, 7, 6],\n",
       "       [5, 5, 5, 5, 5, 5, 5, 5, 5, 5, 5, 6, 5, 4, 3, 4, 5, 6, 7],\n",
       "       [5, 5, 5, 5, 5, 5, 5, 5, 5, 5, 5, 5, 6, 5, 4, 3, 4, 5, 6],\n",
       "       [5, 5, 5, 5, 5, 5, 5, 5, 5, 5, 5, 5, 5, 6, 5, 4, 3, 4, 5],\n",
       "       [5, 5, 5, 5, 5, 5, 5, 5, 5, 5, 5, 5, 5, 5, 6, 5, 4, 4, 4],\n",
       "       [5, 5, 5, 5, 5, 5, 5, 5, 5, 5, 5, 5, 5, 5, 5, 6, 5, 4, 4]],\n",
       "      dtype=int32)"
      ]
     },
     "execution_count": 13,
     "metadata": {},
     "output_type": "execute_result"
    }
   ],
   "source": [
    "dp"
   ]
  },
  {
   "cell_type": "code",
   "execution_count": null,
   "metadata": {},
   "outputs": [],
   "source": []
  }
 ],
 "metadata": {
  "kernelspec": {
   "display_name": "Python 3",
   "language": "python",
   "name": "python3"
  },
  "language_info": {
   "codemirror_mode": {
    "name": "ipython",
    "version": 3
   },
   "file_extension": ".py",
   "mimetype": "text/x-python",
   "name": "python",
   "nbconvert_exporter": "python",
   "pygments_lexer": "ipython3",
   "version": "3.10.12"
  }
 },
 "nbformat": 4,
 "nbformat_minor": 2
}
