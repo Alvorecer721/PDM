{
 "cells": [
  {
   "cell_type": "code",
   "execution_count": 2,
   "metadata": {},
   "outputs": [],
   "source": [
    "%load_ext autoreload\n",
    "%autoreload 2"
   ]
  },
  {
   "cell_type": "code",
   "execution_count": 3,
   "metadata": {},
   "outputs": [],
   "source": [
    "import sys\n",
    "# sys.path.append('/mloscratch/homes/yixuan/PDM')\n",
    "sys.path.append('/capstor/users/cscs/xyixuan/PDM/')"
   ]
  },
  {
   "cell_type": "code",
   "execution_count": 4,
   "metadata": {},
   "outputs": [
    {
     "name": "stderr",
     "output_type": "stream",
     "text": [
      "/users/xyixuan/miniconda3/lib/python3.12/site-packages/tqdm/auto.py:21: TqdmWarning: IProgress not found. Please update jupyter and ipywidgets. See https://ipywidgets.readthedocs.io/en/stable/user_install.html\n",
      "  from .autonotebook import tqdm as notebook_tqdm\n"
     ]
    }
   ],
   "source": [
    "import numpy as np\n",
    "from datasets import load_dataset\n",
    "from tqdm import tqdm\n",
    "from src.verbatim_eval.edit_distance import compute_ngram_distance_damerau_levenshtein\n",
    "from src.verbatim_eval.LCS import find_longest_common_substrings\n",
    "from src.verbatim_eval.exact_match import CommonSubstringMatcher\n",
    "from src.gutenberg.config import DataConfig"
   ]
  },
  {
   "cell_type": "code",
   "execution_count": 5,
   "metadata": {},
   "outputs": [],
   "source": [
    "def load_sparse_inference_data(base_dir, rep):\n",
    "    file_path = f\"{base_dir}/rep_{rep}\"\n",
    "    return load_dataset('json', data_files=f\"{file_path}/rank*.jsonl\", split='train')"
   ]
  },
  {
   "cell_type": "code",
   "execution_count": 6,
   "metadata": {},
   "outputs": [],
   "source": [
    "def calc_avg_lcs_lengths(base_dir: str, reptitions: np.ndarray) -> dict[str, float]:\n",
    "    \"\"\"\n",
    "    Calculate average longest common substring lengths between true and generated suffixes.\n",
    "\n",
    "    Args:\n",
    "        base_dir: Directory containing model inference results\n",
    "        reptitions: Array of repetition values to analyze (e.g. [1, 2, 4, 8, ...])\n",
    "\n",
    "    Returns:\n",
    "        Dictionary mapping repetition labels to their average LCS lengths\n",
    "        Example: {'rep_1': 4.024, 'rep_2': 3.786, ...}\n",
    "    \"\"\"\n",
    "    results = {}\n",
    "    for rep in reptitions:\n",
    "        data = load_sparse_inference_data(base_dir, rep)\n",
    "        lcs_res = find_longest_common_substrings(\n",
    "            data['true_suffix'], \n",
    "            data['generated_suffix']\n",
    "        )\n",
    "        results[f\"rep_{rep}\"] = float(lcs_res.max_length.mean())\n",
    "    \n",
    "    return results"
   ]
  },
  {
   "cell_type": "code",
   "execution_count": 8,
   "metadata": {},
   "outputs": [
    {
     "name": "stderr",
     "output_type": "stream",
     "text": [
      "Generating train split: 500 examples [00:00, 16222.66 examples/s]\n"
     ]
    },
    {
     "name": "stdout",
     "output_type": "stream",
     "text": [
      "Warming up Numba JIT...\n",
      "Processing 500 sequence pairs in parallel...\n",
      "Time taken: 0.05 seconds\n"
     ]
    },
    {
     "name": "stderr",
     "output_type": "stream",
     "text": [
      "Generating train split: 500 examples [00:00, 17313.09 examples/s]\n"
     ]
    },
    {
     "name": "stdout",
     "output_type": "stream",
     "text": [
      "Warming up Numba JIT...\n",
      "Processing 500 sequence pairs in parallel...\n",
      "Time taken: 0.05 seconds\n"
     ]
    },
    {
     "name": "stderr",
     "output_type": "stream",
     "text": [
      "Generating train split: 500 examples [00:00, 18518.55 examples/s]\n"
     ]
    },
    {
     "name": "stdout",
     "output_type": "stream",
     "text": [
      "Warming up Numba JIT...\n",
      "Processing 500 sequence pairs in parallel...\n",
      "Time taken: 0.06 seconds\n"
     ]
    },
    {
     "name": "stderr",
     "output_type": "stream",
     "text": [
      "Generating train split: 500 examples [00:00, 16828.10 examples/s]\n"
     ]
    },
    {
     "name": "stdout",
     "output_type": "stream",
     "text": [
      "Warming up Numba JIT...\n",
      "Processing 500 sequence pairs in parallel...\n",
      "Time taken: 0.05 seconds\n"
     ]
    },
    {
     "name": "stderr",
     "output_type": "stream",
     "text": [
      "Generating train split: 500 examples [00:00, 18305.83 examples/s]\n"
     ]
    },
    {
     "name": "stdout",
     "output_type": "stream",
     "text": [
      "Warming up Numba JIT...\n",
      "Processing 500 sequence pairs in parallel...\n",
      "Time taken: 0.05 seconds\n"
     ]
    },
    {
     "name": "stderr",
     "output_type": "stream",
     "text": [
      "Generating train split: 500 examples [00:00, 18025.29 examples/s]\n"
     ]
    },
    {
     "name": "stdout",
     "output_type": "stream",
     "text": [
      "Warming up Numba JIT...\n",
      "Processing 500 sequence pairs in parallel...\n",
      "Time taken: 0.05 seconds\n"
     ]
    },
    {
     "name": "stderr",
     "output_type": "stream",
     "text": [
      "Generating train split: 500 examples [00:00, 18271.06 examples/s]\n"
     ]
    },
    {
     "name": "stdout",
     "output_type": "stream",
     "text": [
      "Warming up Numba JIT...\n",
      "Processing 500 sequence pairs in parallel...\n",
      "Time taken: 0.06 seconds\n"
     ]
    },
    {
     "name": "stderr",
     "output_type": "stream",
     "text": [
      "Generating train split: 500 examples [00:00, 18134.71 examples/s]\n"
     ]
    },
    {
     "name": "stdout",
     "output_type": "stream",
     "text": [
      "Warming up Numba JIT...\n",
      "Processing 500 sequence pairs in parallel...\n",
      "Time taken: 0.06 seconds\n"
     ]
    },
    {
     "name": "stderr",
     "output_type": "stream",
     "text": [
      "Generating train split: 500 examples [00:00, 18276.31 examples/s]\n"
     ]
    },
    {
     "name": "stdout",
     "output_type": "stream",
     "text": [
      "Warming up Numba JIT...\n",
      "Processing 500 sequence pairs in parallel...\n",
      "Time taken: 0.06 seconds\n"
     ]
    },
    {
     "name": "stderr",
     "output_type": "stream",
     "text": [
      "Generating train split: 500 examples [00:00, 18965.54 examples/s]\n"
     ]
    },
    {
     "name": "stdout",
     "output_type": "stream",
     "text": [
      "Warming up Numba JIT...\n",
      "Processing 500 sequence pairs in parallel...\n",
      "Time taken: 0.06 seconds\n"
     ]
    },
    {
     "name": "stderr",
     "output_type": "stream",
     "text": [
      "Generating train split: 500 examples [00:00, 18085.60 examples/s]\n"
     ]
    },
    {
     "name": "stdout",
     "output_type": "stream",
     "text": [
      "Warming up Numba JIT...\n",
      "Processing 500 sequence pairs in parallel...\n",
      "Time taken: 0.05 seconds\n"
     ]
    },
    {
     "name": "stderr",
     "output_type": "stream",
     "text": [
      "Generating train split: 500 examples [00:00, 18246.10 examples/s]\n"
     ]
    },
    {
     "name": "stdout",
     "output_type": "stream",
     "text": [
      "Warming up Numba JIT...\n",
      "Processing 500 sequence pairs in parallel...\n",
      "Time taken: 0.06 seconds\n"
     ]
    },
    {
     "data": {
      "text/plain": [
       "{'rep_1': 4.024,\n",
       " 'rep_2': 3.786,\n",
       " 'rep_3': 3.73,\n",
       " 'rep_4': 3.802,\n",
       " 'rep_8': 4.106,\n",
       " 'rep_16': 4.12,\n",
       " 'rep_24': 4.232,\n",
       " 'rep_32': 5.024,\n",
       " 'rep_48': 5.216,\n",
       " 'rep_64': 5.432,\n",
       " 'rep_96': 5.608,\n",
       " 'rep_128': 7.316}"
      ]
     },
     "execution_count": 8,
     "metadata": {},
     "output_type": "execute_result"
    }
   ],
   "source": [
    "calc_avg_lcs_lengths(base_dir='/iopsstor/scratch/cscs/xyixuan/experiment/llama_1.5B_Sparse_Gutenberg_K_50_H_13/inference', \n",
    "                     reptitions=DataConfig.repetitions())"
   ]
  },
  {
   "cell_type": "code",
   "execution_count": 9,
   "metadata": {},
   "outputs": [
    {
     "name": "stderr",
     "output_type": "stream",
     "text": [
      "Generating train split: 500 examples [00:00, 17192.59 examples/s]\n"
     ]
    },
    {
     "name": "stdout",
     "output_type": "stream",
     "text": [
      "Warming up Numba JIT...\n",
      "Processing 500 sequence pairs in parallel...\n",
      "Time taken: 0.06 seconds\n"
     ]
    },
    {
     "name": "stderr",
     "output_type": "stream",
     "text": [
      "Generating train split: 500 examples [00:00, 18087.16 examples/s]\n"
     ]
    },
    {
     "name": "stdout",
     "output_type": "stream",
     "text": [
      "Warming up Numba JIT...\n",
      "Processing 500 sequence pairs in parallel...\n",
      "Time taken: 0.05 seconds\n"
     ]
    },
    {
     "name": "stderr",
     "output_type": "stream",
     "text": [
      "Generating train split: 500 examples [00:00, 17223.37 examples/s]\n"
     ]
    },
    {
     "name": "stdout",
     "output_type": "stream",
     "text": [
      "Warming up Numba JIT...\n",
      "Processing 500 sequence pairs in parallel...\n",
      "Time taken: 0.05 seconds\n"
     ]
    },
    {
     "name": "stderr",
     "output_type": "stream",
     "text": [
      "Generating train split: 500 examples [00:00, 18424.35 examples/s]\n"
     ]
    },
    {
     "name": "stdout",
     "output_type": "stream",
     "text": [
      "Warming up Numba JIT...\n",
      "Processing 500 sequence pairs in parallel...\n",
      "Time taken: 0.05 seconds\n"
     ]
    },
    {
     "name": "stderr",
     "output_type": "stream",
     "text": [
      "Generating train split: 500 examples [00:00, 18276.31 examples/s]\n"
     ]
    },
    {
     "name": "stdout",
     "output_type": "stream",
     "text": [
      "Warming up Numba JIT...\n",
      "Processing 500 sequence pairs in parallel...\n",
      "Time taken: 0.05 seconds\n"
     ]
    },
    {
     "name": "stderr",
     "output_type": "stream",
     "text": [
      "Generating train split: 500 examples [00:00, 18714.55 examples/s]\n"
     ]
    },
    {
     "name": "stdout",
     "output_type": "stream",
     "text": [
      "Warming up Numba JIT...\n",
      "Processing 500 sequence pairs in parallel...\n",
      "Time taken: 0.05 seconds\n"
     ]
    },
    {
     "name": "stderr",
     "output_type": "stream",
     "text": [
      "Generating train split: 500 examples [00:00, 18404.95 examples/s]\n"
     ]
    },
    {
     "name": "stdout",
     "output_type": "stream",
     "text": [
      "Warming up Numba JIT...\n",
      "Processing 500 sequence pairs in parallel...\n",
      "Time taken: 0.05 seconds\n"
     ]
    },
    {
     "name": "stderr",
     "output_type": "stream",
     "text": [
      "Generating train split: 500 examples [00:00, 17867.72 examples/s]\n"
     ]
    },
    {
     "name": "stdout",
     "output_type": "stream",
     "text": [
      "Warming up Numba JIT...\n",
      "Processing 500 sequence pairs in parallel...\n",
      "Time taken: 0.05 seconds\n"
     ]
    },
    {
     "name": "stderr",
     "output_type": "stream",
     "text": [
      "Generating train split: 500 examples [00:00, 18185.34 examples/s]\n"
     ]
    },
    {
     "name": "stdout",
     "output_type": "stream",
     "text": [
      "Warming up Numba JIT...\n",
      "Processing 500 sequence pairs in parallel...\n",
      "Time taken: 0.06 seconds\n"
     ]
    },
    {
     "name": "stderr",
     "output_type": "stream",
     "text": [
      "Generating train split: 500 examples [00:00, 17642.55 examples/s]\n"
     ]
    },
    {
     "name": "stdout",
     "output_type": "stream",
     "text": [
      "Warming up Numba JIT...\n",
      "Processing 500 sequence pairs in parallel...\n",
      "Time taken: 0.06 seconds\n"
     ]
    },
    {
     "name": "stderr",
     "output_type": "stream",
     "text": [
      "Generating train split: 500 examples [00:00, 18462.47 examples/s]\n"
     ]
    },
    {
     "name": "stdout",
     "output_type": "stream",
     "text": [
      "Warming up Numba JIT...\n",
      "Processing 500 sequence pairs in parallel...\n",
      "Time taken: 0.06 seconds\n"
     ]
    },
    {
     "name": "stderr",
     "output_type": "stream",
     "text": [
      "Generating train split: 500 examples [00:00, 18086.85 examples/s]\n"
     ]
    },
    {
     "name": "stdout",
     "output_type": "stream",
     "text": [
      "Warming up Numba JIT...\n",
      "Processing 500 sequence pairs in parallel...\n",
      "Time taken: 0.05 seconds\n"
     ]
    },
    {
     "data": {
      "text/plain": [
       "{'rep_1': 3.51,\n",
       " 'rep_2': 3.544,\n",
       " 'rep_3': 3.388,\n",
       " 'rep_4': 3.518,\n",
       " 'rep_8': 3.678,\n",
       " 'rep_16': 3.568,\n",
       " 'rep_24': 3.902,\n",
       " 'rep_32': 4.268,\n",
       " 'rep_48': 4.478,\n",
       " 'rep_64': 5.08,\n",
       " 'rep_96': 6.266,\n",
       " 'rep_128': 7.604}"
      ]
     },
     "execution_count": 9,
     "metadata": {},
     "output_type": "execute_result"
    }
   ],
   "source": [
    "calc_avg_lcs_lengths(base_dir='/iopsstor/scratch/cscs/xyixuan/experiment/llama_1.5B_Sparse_Gutenberg_Standard/inference', \n",
    "                     reptitions=DataConfig.repetitions())"
   ]
  },
  {
   "cell_type": "code",
   "execution_count": null,
   "metadata": {},
   "outputs": [],
   "source": []
  }
 ],
 "metadata": {
  "kernelspec": {
   "display_name": "base",
   "language": "python",
   "name": "python3"
  },
  "language_info": {
   "codemirror_mode": {
    "name": "ipython",
    "version": 3
   },
   "file_extension": ".py",
   "mimetype": "text/x-python",
   "name": "python",
   "nbconvert_exporter": "python",
   "pygments_lexer": "ipython3",
   "version": "3.12.2"
  }
 },
 "nbformat": 4,
 "nbformat_minor": 2
}
